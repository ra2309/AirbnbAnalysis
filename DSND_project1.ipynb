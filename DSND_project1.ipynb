{
 "cells": [
  {
   "cell_type": "markdown",
   "metadata": {},
   "source": [
    "Data Science Project\n",
    "Rakan Alkheliwi"
   ]
  },
  {
   "cell_type": "markdown",
   "metadata": {},
   "source": [
    "Initialize libraries"
   ]
  },
  {
   "cell_type": "code",
   "execution_count": 1,
   "metadata": {
    "collapsed": true
   },
   "outputs": [],
   "source": [
    "import numpy as np\n",
    "import pandas as pd\n",
    "import matplotlib.pyplot as plt\n",
    "from sklearn.model_selection import train_test_split\n",
    "from sklearn.linear_model import LinearRegression\n",
    "from sklearn.metrics import r2_score, mean_squared_error\n",
    "import seaborn as sns\n",
    "import visuals as vs\n",
    "\n",
    "%matplotlib inline"
   ]
  },
  {
   "cell_type": "markdown",
   "metadata": {},
   "source": [
    "Read Data"
   ]
  },
  {
   "cell_type": "code",
   "execution_count": 30,
   "metadata": {
    "collapsed": true
   },
   "outputs": [],
   "source": [
    "seattle_cal = pd.read_csv(\"./seattle/calendar.csv\")\n",
    "seattle_list = pd.read_csv(\"./seattle/listings.csv\")\n",
    "seattle_rev = pd.read_csv(\"./seattle/reviews.csv\")\n",
    "boston_cal = pd.read_csv(\"./boston-airbnb-open-data/calendar.csv\")\n",
    "boston_list = pd.read_csv(\"./boston-airbnb-open-data/listings.csv\")\n",
    "boston_rev = pd.read_csv(\"./boston-airbnb-open-data/reviews.csv\")"
   ]
  },
  {
   "cell_type": "markdown",
   "metadata": {},
   "source": [
    "Explore datasets"
   ]
  },
  {
   "cell_type": "code",
   "execution_count": 3,
   "metadata": {},
   "outputs": [
    {
     "data": {
      "text/html": [
       "<div>\n",
       "<style scoped>\n",
       "    .dataframe tbody tr th:only-of-type {\n",
       "        vertical-align: middle;\n",
       "    }\n",
       "\n",
       "    .dataframe tbody tr th {\n",
       "        vertical-align: top;\n",
       "    }\n",
       "\n",
       "    .dataframe thead th {\n",
       "        text-align: right;\n",
       "    }\n",
       "</style>\n",
       "<table border=\"1\" class=\"dataframe\">\n",
       "  <thead>\n",
       "    <tr style=\"text-align: right;\">\n",
       "      <th></th>\n",
       "      <th>listing_id</th>\n",
       "      <th>date</th>\n",
       "      <th>available</th>\n",
       "      <th>price</th>\n",
       "    </tr>\n",
       "  </thead>\n",
       "  <tbody>\n",
       "    <tr>\n",
       "      <th>0</th>\n",
       "      <td>241032</td>\n",
       "      <td>2016-01-04</td>\n",
       "      <td>t</td>\n",
       "      <td>$85.00</td>\n",
       "    </tr>\n",
       "    <tr>\n",
       "      <th>1</th>\n",
       "      <td>241032</td>\n",
       "      <td>2016-01-05</td>\n",
       "      <td>t</td>\n",
       "      <td>$85.00</td>\n",
       "    </tr>\n",
       "    <tr>\n",
       "      <th>2</th>\n",
       "      <td>241032</td>\n",
       "      <td>2016-01-06</td>\n",
       "      <td>f</td>\n",
       "      <td>NaN</td>\n",
       "    </tr>\n",
       "    <tr>\n",
       "      <th>3</th>\n",
       "      <td>241032</td>\n",
       "      <td>2016-01-07</td>\n",
       "      <td>f</td>\n",
       "      <td>NaN</td>\n",
       "    </tr>\n",
       "    <tr>\n",
       "      <th>4</th>\n",
       "      <td>241032</td>\n",
       "      <td>2016-01-08</td>\n",
       "      <td>f</td>\n",
       "      <td>NaN</td>\n",
       "    </tr>\n",
       "  </tbody>\n",
       "</table>\n",
       "</div>"
      ],
      "text/plain": [
       "   listing_id        date available   price\n",
       "0      241032  2016-01-04         t  $85.00\n",
       "1      241032  2016-01-05         t  $85.00\n",
       "2      241032  2016-01-06         f     NaN\n",
       "3      241032  2016-01-07         f     NaN\n",
       "4      241032  2016-01-08         f     NaN"
      ]
     },
     "execution_count": 3,
     "metadata": {},
     "output_type": "execute_result"
    }
   ],
   "source": [
    "seattle_cal.head()"
   ]
  },
  {
   "cell_type": "markdown",
   "metadata": {},
   "source": [
    "Seattle Calender shows listing id combined with date, available, and price."
   ]
  },
  {
   "cell_type": "code",
   "execution_count": 4,
   "metadata": {},
   "outputs": [
    {
     "data": {
      "text/html": [
       "<div>\n",
       "<style scoped>\n",
       "    .dataframe tbody tr th:only-of-type {\n",
       "        vertical-align: middle;\n",
       "    }\n",
       "\n",
       "    .dataframe tbody tr th {\n",
       "        vertical-align: top;\n",
       "    }\n",
       "\n",
       "    .dataframe thead th {\n",
       "        text-align: right;\n",
       "    }\n",
       "</style>\n",
       "<table border=\"1\" class=\"dataframe\">\n",
       "  <thead>\n",
       "    <tr style=\"text-align: right;\">\n",
       "      <th></th>\n",
       "      <th>id</th>\n",
       "      <th>listing_url</th>\n",
       "      <th>scrape_id</th>\n",
       "      <th>last_scraped</th>\n",
       "      <th>name</th>\n",
       "      <th>summary</th>\n",
       "      <th>space</th>\n",
       "      <th>description</th>\n",
       "      <th>experiences_offered</th>\n",
       "      <th>neighborhood_overview</th>\n",
       "      <th>...</th>\n",
       "      <th>review_scores_value</th>\n",
       "      <th>requires_license</th>\n",
       "      <th>license</th>\n",
       "      <th>jurisdiction_names</th>\n",
       "      <th>instant_bookable</th>\n",
       "      <th>cancellation_policy</th>\n",
       "      <th>require_guest_profile_picture</th>\n",
       "      <th>require_guest_phone_verification</th>\n",
       "      <th>calculated_host_listings_count</th>\n",
       "      <th>reviews_per_month</th>\n",
       "    </tr>\n",
       "  </thead>\n",
       "  <tbody>\n",
       "    <tr>\n",
       "      <th>0</th>\n",
       "      <td>241032</td>\n",
       "      <td>https://www.airbnb.com/rooms/241032</td>\n",
       "      <td>20160104002432</td>\n",
       "      <td>2016-01-04</td>\n",
       "      <td>Stylish Queen Anne Apartment</td>\n",
       "      <td>NaN</td>\n",
       "      <td>Make your self at home in this charming one-be...</td>\n",
       "      <td>Make your self at home in this charming one-be...</td>\n",
       "      <td>none</td>\n",
       "      <td>NaN</td>\n",
       "      <td>...</td>\n",
       "      <td>10.0</td>\n",
       "      <td>f</td>\n",
       "      <td>NaN</td>\n",
       "      <td>WASHINGTON</td>\n",
       "      <td>f</td>\n",
       "      <td>moderate</td>\n",
       "      <td>f</td>\n",
       "      <td>f</td>\n",
       "      <td>2</td>\n",
       "      <td>4.07</td>\n",
       "    </tr>\n",
       "    <tr>\n",
       "      <th>1</th>\n",
       "      <td>953595</td>\n",
       "      <td>https://www.airbnb.com/rooms/953595</td>\n",
       "      <td>20160104002432</td>\n",
       "      <td>2016-01-04</td>\n",
       "      <td>Bright &amp; Airy Queen Anne Apartment</td>\n",
       "      <td>Chemically sensitive? We've removed the irrita...</td>\n",
       "      <td>Beautiful, hypoallergenic apartment in an extr...</td>\n",
       "      <td>Chemically sensitive? We've removed the irrita...</td>\n",
       "      <td>none</td>\n",
       "      <td>Queen Anne is a wonderful, truly functional vi...</td>\n",
       "      <td>...</td>\n",
       "      <td>10.0</td>\n",
       "      <td>f</td>\n",
       "      <td>NaN</td>\n",
       "      <td>WASHINGTON</td>\n",
       "      <td>f</td>\n",
       "      <td>strict</td>\n",
       "      <td>t</td>\n",
       "      <td>t</td>\n",
       "      <td>6</td>\n",
       "      <td>1.48</td>\n",
       "    </tr>\n",
       "    <tr>\n",
       "      <th>2</th>\n",
       "      <td>3308979</td>\n",
       "      <td>https://www.airbnb.com/rooms/3308979</td>\n",
       "      <td>20160104002432</td>\n",
       "      <td>2016-01-04</td>\n",
       "      <td>New Modern House-Amazing water view</td>\n",
       "      <td>New modern house built in 2013.  Spectacular s...</td>\n",
       "      <td>Our house is modern, light and fresh with a wa...</td>\n",
       "      <td>New modern house built in 2013.  Spectacular s...</td>\n",
       "      <td>none</td>\n",
       "      <td>Upper Queen Anne is a charming neighborhood fu...</td>\n",
       "      <td>...</td>\n",
       "      <td>10.0</td>\n",
       "      <td>f</td>\n",
       "      <td>NaN</td>\n",
       "      <td>WASHINGTON</td>\n",
       "      <td>f</td>\n",
       "      <td>strict</td>\n",
       "      <td>f</td>\n",
       "      <td>f</td>\n",
       "      <td>2</td>\n",
       "      <td>1.15</td>\n",
       "    </tr>\n",
       "    <tr>\n",
       "      <th>3</th>\n",
       "      <td>7421966</td>\n",
       "      <td>https://www.airbnb.com/rooms/7421966</td>\n",
       "      <td>20160104002432</td>\n",
       "      <td>2016-01-04</td>\n",
       "      <td>Queen Anne Chateau</td>\n",
       "      <td>A charming apartment that sits atop Queen Anne...</td>\n",
       "      <td>NaN</td>\n",
       "      <td>A charming apartment that sits atop Queen Anne...</td>\n",
       "      <td>none</td>\n",
       "      <td>NaN</td>\n",
       "      <td>...</td>\n",
       "      <td>NaN</td>\n",
       "      <td>f</td>\n",
       "      <td>NaN</td>\n",
       "      <td>WASHINGTON</td>\n",
       "      <td>f</td>\n",
       "      <td>flexible</td>\n",
       "      <td>f</td>\n",
       "      <td>f</td>\n",
       "      <td>1</td>\n",
       "      <td>NaN</td>\n",
       "    </tr>\n",
       "    <tr>\n",
       "      <th>4</th>\n",
       "      <td>278830</td>\n",
       "      <td>https://www.airbnb.com/rooms/278830</td>\n",
       "      <td>20160104002432</td>\n",
       "      <td>2016-01-04</td>\n",
       "      <td>Charming craftsman 3 bdm house</td>\n",
       "      <td>Cozy family craftman house in beautiful neighb...</td>\n",
       "      <td>Cozy family craftman house in beautiful neighb...</td>\n",
       "      <td>Cozy family craftman house in beautiful neighb...</td>\n",
       "      <td>none</td>\n",
       "      <td>We are in the beautiful neighborhood of Queen ...</td>\n",
       "      <td>...</td>\n",
       "      <td>9.0</td>\n",
       "      <td>f</td>\n",
       "      <td>NaN</td>\n",
       "      <td>WASHINGTON</td>\n",
       "      <td>f</td>\n",
       "      <td>strict</td>\n",
       "      <td>f</td>\n",
       "      <td>f</td>\n",
       "      <td>1</td>\n",
       "      <td>0.89</td>\n",
       "    </tr>\n",
       "  </tbody>\n",
       "</table>\n",
       "<p>5 rows × 92 columns</p>\n",
       "</div>"
      ],
      "text/plain": [
       "        id                           listing_url       scrape_id last_scraped  \\\n",
       "0   241032   https://www.airbnb.com/rooms/241032  20160104002432   2016-01-04   \n",
       "1   953595   https://www.airbnb.com/rooms/953595  20160104002432   2016-01-04   \n",
       "2  3308979  https://www.airbnb.com/rooms/3308979  20160104002432   2016-01-04   \n",
       "3  7421966  https://www.airbnb.com/rooms/7421966  20160104002432   2016-01-04   \n",
       "4   278830   https://www.airbnb.com/rooms/278830  20160104002432   2016-01-04   \n",
       "\n",
       "                                  name  \\\n",
       "0         Stylish Queen Anne Apartment   \n",
       "1   Bright & Airy Queen Anne Apartment   \n",
       "2  New Modern House-Amazing water view   \n",
       "3                   Queen Anne Chateau   \n",
       "4       Charming craftsman 3 bdm house   \n",
       "\n",
       "                                             summary  \\\n",
       "0                                                NaN   \n",
       "1  Chemically sensitive? We've removed the irrita...   \n",
       "2  New modern house built in 2013.  Spectacular s...   \n",
       "3  A charming apartment that sits atop Queen Anne...   \n",
       "4  Cozy family craftman house in beautiful neighb...   \n",
       "\n",
       "                                               space  \\\n",
       "0  Make your self at home in this charming one-be...   \n",
       "1  Beautiful, hypoallergenic apartment in an extr...   \n",
       "2  Our house is modern, light and fresh with a wa...   \n",
       "3                                                NaN   \n",
       "4  Cozy family craftman house in beautiful neighb...   \n",
       "\n",
       "                                         description experiences_offered  \\\n",
       "0  Make your self at home in this charming one-be...                none   \n",
       "1  Chemically sensitive? We've removed the irrita...                none   \n",
       "2  New modern house built in 2013.  Spectacular s...                none   \n",
       "3  A charming apartment that sits atop Queen Anne...                none   \n",
       "4  Cozy family craftman house in beautiful neighb...                none   \n",
       "\n",
       "                               neighborhood_overview        ...         \\\n",
       "0                                                NaN        ...          \n",
       "1  Queen Anne is a wonderful, truly functional vi...        ...          \n",
       "2  Upper Queen Anne is a charming neighborhood fu...        ...          \n",
       "3                                                NaN        ...          \n",
       "4  We are in the beautiful neighborhood of Queen ...        ...          \n",
       "\n",
       "  review_scores_value requires_license license jurisdiction_names  \\\n",
       "0                10.0                f     NaN         WASHINGTON   \n",
       "1                10.0                f     NaN         WASHINGTON   \n",
       "2                10.0                f     NaN         WASHINGTON   \n",
       "3                 NaN                f     NaN         WASHINGTON   \n",
       "4                 9.0                f     NaN         WASHINGTON   \n",
       "\n",
       "  instant_bookable cancellation_policy  require_guest_profile_picture  \\\n",
       "0                f            moderate                              f   \n",
       "1                f              strict                              t   \n",
       "2                f              strict                              f   \n",
       "3                f            flexible                              f   \n",
       "4                f              strict                              f   \n",
       "\n",
       "  require_guest_phone_verification calculated_host_listings_count  \\\n",
       "0                                f                              2   \n",
       "1                                t                              6   \n",
       "2                                f                              2   \n",
       "3                                f                              1   \n",
       "4                                f                              1   \n",
       "\n",
       "  reviews_per_month  \n",
       "0              4.07  \n",
       "1              1.48  \n",
       "2              1.15  \n",
       "3               NaN  \n",
       "4              0.89  \n",
       "\n",
       "[5 rows x 92 columns]"
      ]
     },
     "execution_count": 4,
     "metadata": {},
     "output_type": "execute_result"
    }
   ],
   "source": [
    "seattle_list.head()"
   ]
  },
  {
   "cell_type": "markdown",
   "metadata": {},
   "source": [
    "Contains 92 columns but many of them seem like description so can be deleted"
   ]
  },
  {
   "cell_type": "code",
   "execution_count": 5,
   "metadata": {},
   "outputs": [
    {
     "data": {
      "text/html": [
       "<div>\n",
       "<style scoped>\n",
       "    .dataframe tbody tr th:only-of-type {\n",
       "        vertical-align: middle;\n",
       "    }\n",
       "\n",
       "    .dataframe tbody tr th {\n",
       "        vertical-align: top;\n",
       "    }\n",
       "\n",
       "    .dataframe thead th {\n",
       "        text-align: right;\n",
       "    }\n",
       "</style>\n",
       "<table border=\"1\" class=\"dataframe\">\n",
       "  <thead>\n",
       "    <tr style=\"text-align: right;\">\n",
       "      <th></th>\n",
       "      <th>listing_id</th>\n",
       "      <th>id</th>\n",
       "      <th>date</th>\n",
       "      <th>reviewer_id</th>\n",
       "      <th>reviewer_name</th>\n",
       "      <th>comments</th>\n",
       "    </tr>\n",
       "  </thead>\n",
       "  <tbody>\n",
       "    <tr>\n",
       "      <th>0</th>\n",
       "      <td>7202016</td>\n",
       "      <td>38917982</td>\n",
       "      <td>2015-07-19</td>\n",
       "      <td>28943674</td>\n",
       "      <td>Bianca</td>\n",
       "      <td>Cute and cozy place. Perfect location to every...</td>\n",
       "    </tr>\n",
       "    <tr>\n",
       "      <th>1</th>\n",
       "      <td>7202016</td>\n",
       "      <td>39087409</td>\n",
       "      <td>2015-07-20</td>\n",
       "      <td>32440555</td>\n",
       "      <td>Frank</td>\n",
       "      <td>Kelly has a great room in a very central locat...</td>\n",
       "    </tr>\n",
       "    <tr>\n",
       "      <th>2</th>\n",
       "      <td>7202016</td>\n",
       "      <td>39820030</td>\n",
       "      <td>2015-07-26</td>\n",
       "      <td>37722850</td>\n",
       "      <td>Ian</td>\n",
       "      <td>Very spacious apartment, and in a great neighb...</td>\n",
       "    </tr>\n",
       "    <tr>\n",
       "      <th>3</th>\n",
       "      <td>7202016</td>\n",
       "      <td>40813543</td>\n",
       "      <td>2015-08-02</td>\n",
       "      <td>33671805</td>\n",
       "      <td>George</td>\n",
       "      <td>Close to Seattle Center and all it has to offe...</td>\n",
       "    </tr>\n",
       "    <tr>\n",
       "      <th>4</th>\n",
       "      <td>7202016</td>\n",
       "      <td>41986501</td>\n",
       "      <td>2015-08-10</td>\n",
       "      <td>34959538</td>\n",
       "      <td>Ming</td>\n",
       "      <td>Kelly was a great host and very accommodating ...</td>\n",
       "    </tr>\n",
       "  </tbody>\n",
       "</table>\n",
       "</div>"
      ],
      "text/plain": [
       "   listing_id        id        date  reviewer_id reviewer_name  \\\n",
       "0     7202016  38917982  2015-07-19     28943674        Bianca   \n",
       "1     7202016  39087409  2015-07-20     32440555         Frank   \n",
       "2     7202016  39820030  2015-07-26     37722850           Ian   \n",
       "3     7202016  40813543  2015-08-02     33671805        George   \n",
       "4     7202016  41986501  2015-08-10     34959538          Ming   \n",
       "\n",
       "                                            comments  \n",
       "0  Cute and cozy place. Perfect location to every...  \n",
       "1  Kelly has a great room in a very central locat...  \n",
       "2  Very spacious apartment, and in a great neighb...  \n",
       "3  Close to Seattle Center and all it has to offe...  \n",
       "4  Kelly was a great host and very accommodating ...  "
      ]
     },
     "execution_count": 5,
     "metadata": {},
     "output_type": "execute_result"
    }
   ],
   "source": [
    "seattle_rev.head()"
   ]
  },
  {
   "cell_type": "markdown",
   "metadata": {},
   "source": [
    "It contains reviews by people. At first look, it seems this data has been collected in previous dataframe as it contain number of reviews. So, I will not be using reviews."
   ]
  },
  {
   "cell_type": "code",
   "execution_count": 6,
   "metadata": {},
   "outputs": [
    {
     "data": {
      "text/html": [
       "<div>\n",
       "<style scoped>\n",
       "    .dataframe tbody tr th:only-of-type {\n",
       "        vertical-align: middle;\n",
       "    }\n",
       "\n",
       "    .dataframe tbody tr th {\n",
       "        vertical-align: top;\n",
       "    }\n",
       "\n",
       "    .dataframe thead th {\n",
       "        text-align: right;\n",
       "    }\n",
       "</style>\n",
       "<table border=\"1\" class=\"dataframe\">\n",
       "  <thead>\n",
       "    <tr style=\"text-align: right;\">\n",
       "      <th></th>\n",
       "      <th>listing_id</th>\n",
       "      <th>date</th>\n",
       "      <th>available</th>\n",
       "      <th>price</th>\n",
       "    </tr>\n",
       "  </thead>\n",
       "  <tbody>\n",
       "    <tr>\n",
       "      <th>0</th>\n",
       "      <td>12147973</td>\n",
       "      <td>2017-09-05</td>\n",
       "      <td>f</td>\n",
       "      <td>NaN</td>\n",
       "    </tr>\n",
       "    <tr>\n",
       "      <th>1</th>\n",
       "      <td>12147973</td>\n",
       "      <td>2017-09-04</td>\n",
       "      <td>f</td>\n",
       "      <td>NaN</td>\n",
       "    </tr>\n",
       "    <tr>\n",
       "      <th>2</th>\n",
       "      <td>12147973</td>\n",
       "      <td>2017-09-03</td>\n",
       "      <td>f</td>\n",
       "      <td>NaN</td>\n",
       "    </tr>\n",
       "    <tr>\n",
       "      <th>3</th>\n",
       "      <td>12147973</td>\n",
       "      <td>2017-09-02</td>\n",
       "      <td>f</td>\n",
       "      <td>NaN</td>\n",
       "    </tr>\n",
       "    <tr>\n",
       "      <th>4</th>\n",
       "      <td>12147973</td>\n",
       "      <td>2017-09-01</td>\n",
       "      <td>f</td>\n",
       "      <td>NaN</td>\n",
       "    </tr>\n",
       "  </tbody>\n",
       "</table>\n",
       "</div>"
      ],
      "text/plain": [
       "   listing_id        date available price\n",
       "0    12147973  2017-09-05         f   NaN\n",
       "1    12147973  2017-09-04         f   NaN\n",
       "2    12147973  2017-09-03         f   NaN\n",
       "3    12147973  2017-09-02         f   NaN\n",
       "4    12147973  2017-09-01         f   NaN"
      ]
     },
     "execution_count": 6,
     "metadata": {},
     "output_type": "execute_result"
    }
   ],
   "source": [
    "boston_cal.head()"
   ]
  },
  {
   "cell_type": "code",
   "execution_count": null,
   "metadata": {
    "collapsed": true
   },
   "outputs": [],
   "source": [
    "boston_list.head()\n"
   ]
  },
  {
   "cell_type": "code",
   "execution_count": null,
   "metadata": {
    "collapsed": true
   },
   "outputs": [],
   "source": [
    "boston_rev.head()"
   ]
  },
  {
   "cell_type": "markdown",
   "metadata": {},
   "source": [
    "Data processing and cleaning"
   ]
  },
  {
   "cell_type": "markdown",
   "metadata": {},
   "source": [
    "First thing to be done is to create one dataframe that contains all data for seattle and boston ignoring reviews. We will join dataframes of calender and listing to each other for each city. Then, we will combine cities."
   ]
  },
  {
   "cell_type": "code",
   "execution_count": 31,
   "metadata": {},
   "outputs": [
    {
     "data": {
      "text/html": [
       "<div>\n",
       "<style scoped>\n",
       "    .dataframe tbody tr th:only-of-type {\n",
       "        vertical-align: middle;\n",
       "    }\n",
       "\n",
       "    .dataframe tbody tr th {\n",
       "        vertical-align: top;\n",
       "    }\n",
       "\n",
       "    .dataframe thead th {\n",
       "        text-align: right;\n",
       "    }\n",
       "</style>\n",
       "<table border=\"1\" class=\"dataframe\">\n",
       "  <thead>\n",
       "    <tr style=\"text-align: right;\">\n",
       "      <th></th>\n",
       "      <th>id</th>\n",
       "      <th>listing_url</th>\n",
       "      <th>scrape_id</th>\n",
       "      <th>last_scraped</th>\n",
       "      <th>name</th>\n",
       "      <th>summary</th>\n",
       "      <th>space</th>\n",
       "      <th>description</th>\n",
       "      <th>experiences_offered</th>\n",
       "      <th>neighborhood_overview</th>\n",
       "      <th>...</th>\n",
       "      <th>jurisdiction_names</th>\n",
       "      <th>instant_bookable</th>\n",
       "      <th>cancellation_policy</th>\n",
       "      <th>require_guest_profile_picture</th>\n",
       "      <th>require_guest_phone_verification</th>\n",
       "      <th>calculated_host_listings_count</th>\n",
       "      <th>reviews_per_month</th>\n",
       "      <th>date</th>\n",
       "      <th>available</th>\n",
       "      <th>price_y</th>\n",
       "    </tr>\n",
       "  </thead>\n",
       "  <tbody>\n",
       "    <tr>\n",
       "      <th>0</th>\n",
       "      <td>241032</td>\n",
       "      <td>https://www.airbnb.com/rooms/241032</td>\n",
       "      <td>20160104002432</td>\n",
       "      <td>2016-01-04</td>\n",
       "      <td>Stylish Queen Anne Apartment</td>\n",
       "      <td>NaN</td>\n",
       "      <td>Make your self at home in this charming one-be...</td>\n",
       "      <td>Make your self at home in this charming one-be...</td>\n",
       "      <td>none</td>\n",
       "      <td>NaN</td>\n",
       "      <td>...</td>\n",
       "      <td>WASHINGTON</td>\n",
       "      <td>f</td>\n",
       "      <td>moderate</td>\n",
       "      <td>f</td>\n",
       "      <td>f</td>\n",
       "      <td>2</td>\n",
       "      <td>4.07</td>\n",
       "      <td>2016-01-04</td>\n",
       "      <td>t</td>\n",
       "      <td>$85.00</td>\n",
       "    </tr>\n",
       "    <tr>\n",
       "      <th>1</th>\n",
       "      <td>241032</td>\n",
       "      <td>https://www.airbnb.com/rooms/241032</td>\n",
       "      <td>20160104002432</td>\n",
       "      <td>2016-01-04</td>\n",
       "      <td>Stylish Queen Anne Apartment</td>\n",
       "      <td>NaN</td>\n",
       "      <td>Make your self at home in this charming one-be...</td>\n",
       "      <td>Make your self at home in this charming one-be...</td>\n",
       "      <td>none</td>\n",
       "      <td>NaN</td>\n",
       "      <td>...</td>\n",
       "      <td>WASHINGTON</td>\n",
       "      <td>f</td>\n",
       "      <td>moderate</td>\n",
       "      <td>f</td>\n",
       "      <td>f</td>\n",
       "      <td>2</td>\n",
       "      <td>4.07</td>\n",
       "      <td>2016-01-05</td>\n",
       "      <td>t</td>\n",
       "      <td>$85.00</td>\n",
       "    </tr>\n",
       "    <tr>\n",
       "      <th>2</th>\n",
       "      <td>241032</td>\n",
       "      <td>https://www.airbnb.com/rooms/241032</td>\n",
       "      <td>20160104002432</td>\n",
       "      <td>2016-01-04</td>\n",
       "      <td>Stylish Queen Anne Apartment</td>\n",
       "      <td>NaN</td>\n",
       "      <td>Make your self at home in this charming one-be...</td>\n",
       "      <td>Make your self at home in this charming one-be...</td>\n",
       "      <td>none</td>\n",
       "      <td>NaN</td>\n",
       "      <td>...</td>\n",
       "      <td>WASHINGTON</td>\n",
       "      <td>f</td>\n",
       "      <td>moderate</td>\n",
       "      <td>f</td>\n",
       "      <td>f</td>\n",
       "      <td>2</td>\n",
       "      <td>4.07</td>\n",
       "      <td>2016-01-06</td>\n",
       "      <td>f</td>\n",
       "      <td>NaN</td>\n",
       "    </tr>\n",
       "    <tr>\n",
       "      <th>3</th>\n",
       "      <td>241032</td>\n",
       "      <td>https://www.airbnb.com/rooms/241032</td>\n",
       "      <td>20160104002432</td>\n",
       "      <td>2016-01-04</td>\n",
       "      <td>Stylish Queen Anne Apartment</td>\n",
       "      <td>NaN</td>\n",
       "      <td>Make your self at home in this charming one-be...</td>\n",
       "      <td>Make your self at home in this charming one-be...</td>\n",
       "      <td>none</td>\n",
       "      <td>NaN</td>\n",
       "      <td>...</td>\n",
       "      <td>WASHINGTON</td>\n",
       "      <td>f</td>\n",
       "      <td>moderate</td>\n",
       "      <td>f</td>\n",
       "      <td>f</td>\n",
       "      <td>2</td>\n",
       "      <td>4.07</td>\n",
       "      <td>2016-01-07</td>\n",
       "      <td>f</td>\n",
       "      <td>NaN</td>\n",
       "    </tr>\n",
       "    <tr>\n",
       "      <th>4</th>\n",
       "      <td>241032</td>\n",
       "      <td>https://www.airbnb.com/rooms/241032</td>\n",
       "      <td>20160104002432</td>\n",
       "      <td>2016-01-04</td>\n",
       "      <td>Stylish Queen Anne Apartment</td>\n",
       "      <td>NaN</td>\n",
       "      <td>Make your self at home in this charming one-be...</td>\n",
       "      <td>Make your self at home in this charming one-be...</td>\n",
       "      <td>none</td>\n",
       "      <td>NaN</td>\n",
       "      <td>...</td>\n",
       "      <td>WASHINGTON</td>\n",
       "      <td>f</td>\n",
       "      <td>moderate</td>\n",
       "      <td>f</td>\n",
       "      <td>f</td>\n",
       "      <td>2</td>\n",
       "      <td>4.07</td>\n",
       "      <td>2016-01-08</td>\n",
       "      <td>f</td>\n",
       "      <td>NaN</td>\n",
       "    </tr>\n",
       "  </tbody>\n",
       "</table>\n",
       "<p>5 rows × 95 columns</p>\n",
       "</div>"
      ],
      "text/plain": [
       "       id                          listing_url       scrape_id last_scraped  \\\n",
       "0  241032  https://www.airbnb.com/rooms/241032  20160104002432   2016-01-04   \n",
       "1  241032  https://www.airbnb.com/rooms/241032  20160104002432   2016-01-04   \n",
       "2  241032  https://www.airbnb.com/rooms/241032  20160104002432   2016-01-04   \n",
       "3  241032  https://www.airbnb.com/rooms/241032  20160104002432   2016-01-04   \n",
       "4  241032  https://www.airbnb.com/rooms/241032  20160104002432   2016-01-04   \n",
       "\n",
       "                           name summary  \\\n",
       "0  Stylish Queen Anne Apartment     NaN   \n",
       "1  Stylish Queen Anne Apartment     NaN   \n",
       "2  Stylish Queen Anne Apartment     NaN   \n",
       "3  Stylish Queen Anne Apartment     NaN   \n",
       "4  Stylish Queen Anne Apartment     NaN   \n",
       "\n",
       "                                               space  \\\n",
       "0  Make your self at home in this charming one-be...   \n",
       "1  Make your self at home in this charming one-be...   \n",
       "2  Make your self at home in this charming one-be...   \n",
       "3  Make your self at home in this charming one-be...   \n",
       "4  Make your self at home in this charming one-be...   \n",
       "\n",
       "                                         description experiences_offered  \\\n",
       "0  Make your self at home in this charming one-be...                none   \n",
       "1  Make your self at home in this charming one-be...                none   \n",
       "2  Make your self at home in this charming one-be...                none   \n",
       "3  Make your self at home in this charming one-be...                none   \n",
       "4  Make your self at home in this charming one-be...                none   \n",
       "\n",
       "  neighborhood_overview   ...   jurisdiction_names instant_bookable  \\\n",
       "0                   NaN   ...           WASHINGTON                f   \n",
       "1                   NaN   ...           WASHINGTON                f   \n",
       "2                   NaN   ...           WASHINGTON                f   \n",
       "3                   NaN   ...           WASHINGTON                f   \n",
       "4                   NaN   ...           WASHINGTON                f   \n",
       "\n",
       "  cancellation_policy require_guest_profile_picture  \\\n",
       "0            moderate                             f   \n",
       "1            moderate                             f   \n",
       "2            moderate                             f   \n",
       "3            moderate                             f   \n",
       "4            moderate                             f   \n",
       "\n",
       "  require_guest_phone_verification calculated_host_listings_count  \\\n",
       "0                                f                              2   \n",
       "1                                f                              2   \n",
       "2                                f                              2   \n",
       "3                                f                              2   \n",
       "4                                f                              2   \n",
       "\n",
       "   reviews_per_month        date available price_y  \n",
       "0               4.07  2016-01-04         t  $85.00  \n",
       "1               4.07  2016-01-05         t  $85.00  \n",
       "2               4.07  2016-01-06         f     NaN  \n",
       "3               4.07  2016-01-07         f     NaN  \n",
       "4               4.07  2016-01-08         f     NaN  \n",
       "\n",
       "[5 rows x 95 columns]"
      ]
     },
     "execution_count": 31,
     "metadata": {},
     "output_type": "execute_result"
    }
   ],
   "source": [
    "seattle_cal = seattle_cal.rename(columns={'listing_id': 'id'})\n",
    "boston_cal = boston_cal.rename(columns={'listing_id': 'id'})\n",
    "seattle=pd.merge(seattle_list,seattle_cal,on='id',how='outer')\n",
    "boston=pd.merge(boston_list,boston_cal,on='id',how='outer')\n",
    "seattle.head()"
   ]
  },
  {
   "cell_type": "code",
   "execution_count": null,
   "metadata": {
    "collapsed": true
   },
   "outputs": [],
   "source": [
    "seattle.head()"
   ]
  },
  {
   "cell_type": "markdown",
   "metadata": {},
   "source": [
    "Now create dummy columns for each city that contain name of city and then merge two dataframes together."
   ]
  },
  {
   "cell_type": "code",
   "execution_count": 32,
   "metadata": {},
   "outputs": [
    {
     "data": {
      "text/plain": [
       "0          seattle\n",
       "1          seattle\n",
       "2          seattle\n",
       "3          seattle\n",
       "4          seattle\n",
       "5          seattle\n",
       "6          seattle\n",
       "7          seattle\n",
       "8          seattle\n",
       "9          seattle\n",
       "10         seattle\n",
       "11         seattle\n",
       "12         seattle\n",
       "13         seattle\n",
       "14         seattle\n",
       "15         seattle\n",
       "16         seattle\n",
       "17         seattle\n",
       "18         seattle\n",
       "19         seattle\n",
       "20         seattle\n",
       "21         seattle\n",
       "22         seattle\n",
       "23         seattle\n",
       "24         seattle\n",
       "25         seattle\n",
       "26         seattle\n",
       "27         seattle\n",
       "28         seattle\n",
       "29         seattle\n",
       "            ...   \n",
       "2702430     boston\n",
       "2702431     boston\n",
       "2702432     boston\n",
       "2702433     boston\n",
       "2702434     boston\n",
       "2702435     boston\n",
       "2702436     boston\n",
       "2702437     boston\n",
       "2702438     boston\n",
       "2702439     boston\n",
       "2702440     boston\n",
       "2702441     boston\n",
       "2702442     boston\n",
       "2702443     boston\n",
       "2702444     boston\n",
       "2702445     boston\n",
       "2702446     boston\n",
       "2702447     boston\n",
       "2702448     boston\n",
       "2702449     boston\n",
       "2702450     boston\n",
       "2702451     boston\n",
       "2702452     boston\n",
       "2702453     boston\n",
       "2702454     boston\n",
       "2702455     boston\n",
       "2702456     boston\n",
       "2702457     boston\n",
       "2702458     boston\n",
       "2702459     boston\n",
       "Name: city, Length: 2702460, dtype: object"
      ]
     },
     "execution_count": 32,
     "metadata": {},
     "output_type": "execute_result"
    }
   ],
   "source": [
    "seattle['city'] = 'seattle'\n",
    "boston['city'] = 'boston'\n",
    "df = pd.concat([seattle,boston],ignore_index=True)\n",
    "df['city']"
   ]
  },
  {
   "cell_type": "markdown",
   "metadata": {},
   "source": [
    "time to clean out dataframe. First, we get a summary of what is inside this dataframe. I can see from head that there are columns that are not necessary and difficult to analyze as they contain a lot of jibrish text. I will go ahead and delete them. But first, let's analyze missing data as this easier in dropping columns."
   ]
  },
  {
   "cell_type": "code",
   "execution_count": null,
   "metadata": {
    "collapsed": true
   },
   "outputs": [],
   "source": [
    "df.describe()"
   ]
  },
  {
   "cell_type": "code",
   "execution_count": null,
   "metadata": {
    "collapsed": true
   },
   "outputs": [],
   "source": [
    "df.shape"
   ]
  },
  {
   "cell_type": "markdown",
   "metadata": {},
   "source": [
    "Identify columns and rows with all missing values and drop them"
   ]
  },
  {
   "cell_type": "code",
   "execution_count": null,
   "metadata": {
    "collapsed": true
   },
   "outputs": [],
   "source": [
    "df.dropna(axis='columns',how='all')\n",
    "df.dropna(how='all')\n",
    "df.head()"
   ]
  },
  {
   "cell_type": "markdown",
   "metadata": {},
   "source": [
    "Identify columsn with more than 75% of values missing"
   ]
  },
  {
   "cell_type": "code",
   "execution_count": 9,
   "metadata": {},
   "outputs": [
    {
     "data": {
      "text/plain": [
       "Index(['access', 'cleaning_fee', 'has_availability', 'host_about',\n",
       "       'house_rules', 'interaction', 'jurisdiction_names', 'license',\n",
       "       'monthly_price', 'neighborhood_overview',\n",
       "       'neighbourhood_group_cleansed', 'notes', 'price_y', 'security_deposit',\n",
       "       'square_feet', 'transit', 'weekly_price'],\n",
       "      dtype='object')"
      ]
     },
     "execution_count": 9,
     "metadata": {},
     "output_type": "execute_result"
    }
   ],
   "source": [
    "df_75 = df.columns[(df.count()/len(df)) <= .75]\n",
    "df_75"
   ]
  },
  {
   "cell_type": "markdown",
   "metadata": {},
   "source": [
    "We will analyze what values are inside these columsn to determine their importance"
   ]
  },
  {
   "cell_type": "code",
   "execution_count": null,
   "metadata": {
    "collapsed": true
   },
   "outputs": [],
   "source": [
    "df['access'].value_counts()"
   ]
  },
  {
   "cell_type": "markdown",
   "metadata": {},
   "source": [
    "This cell contain values that are duplicate of another columns amneties as shown below. So I will delete it."
   ]
  },
  {
   "cell_type": "code",
   "execution_count": null,
   "metadata": {
    "collapsed": true
   },
   "outputs": [],
   "source": [
    "df['amenities'].value_counts()"
   ]
  },
  {
   "cell_type": "markdown",
   "metadata": {},
   "source": [
    "Next is cleaning fee"
   ]
  },
  {
   "cell_type": "code",
   "execution_count": null,
   "metadata": {
    "collapsed": true
   },
   "outputs": [],
   "source": [
    "df['cleaning_fee'].value_counts()"
   ]
  },
  {
   "cell_type": "markdown",
   "metadata": {},
   "source": [
    "The cleaning fee has important values that are difficult to ignore. Maybe empty means zero. Let's analyze that"
   ]
  },
  {
   "cell_type": "code",
   "execution_count": null,
   "metadata": {
    "collapsed": true
   },
   "outputs": [],
   "source": [
    "df[df['cleaning_fee']==0]"
   ]
  },
  {
   "cell_type": "markdown",
   "metadata": {},
   "source": [
    "As you see, there are no rooms with cleaning fee equels to zero. So, it is safe to assume that empty means 0 in this case for cleaning fees. Next, I will analyze has_availability"
   ]
  },
  {
   "cell_type": "code",
   "execution_count": null,
   "metadata": {
    "collapsed": true
   },
   "outputs": [],
   "source": [
    "df['has_availability'].value_counts()"
   ]
  },
  {
   "cell_type": "markdown",
   "metadata": {},
   "source": [
    "It seems to be same situation as before with cleaning fee; empty equels to false. Next, I analyze host_about"
   ]
  },
  {
   "cell_type": "code",
   "execution_count": null,
   "metadata": {
    "collapsed": true
   },
   "outputs": [],
   "source": [
    "df['host_about'].value_counts()"
   ]
  },
  {
   "cell_type": "markdown",
   "metadata": {},
   "source": [
    "I will delete this row since it is text and 75% of it is empty."
   ]
  },
  {
   "cell_type": "code",
   "execution_count": null,
   "metadata": {
    "collapsed": true
   },
   "outputs": [],
   "source": [
    "df['house_rules'].value_counts()"
   ]
  },
  {
   "cell_type": "markdown",
   "metadata": {},
   "source": [
    "Same as about us."
   ]
  },
  {
   "cell_type": "code",
   "execution_count": null,
   "metadata": {
    "collapsed": true
   },
   "outputs": [],
   "source": [
    "df['interaction'].value_counts()"
   ]
  },
  {
   "cell_type": "markdown",
   "metadata": {},
   "source": [
    "Also interaction will be deleted."
   ]
  },
  {
   "cell_type": "code",
   "execution_count": null,
   "metadata": {
    "collapsed": true
   },
   "outputs": [],
   "source": [
    "df['jurisdiction_names'].value_counts()"
   ]
  },
  {
   "cell_type": "markdown",
   "metadata": {},
   "source": [
    "I will delete this one as it doesn't add value. City adds more value than what state people belong to. I will then analyze license."
   ]
  },
  {
   "cell_type": "code",
   "execution_count": null,
   "metadata": {
    "collapsed": true
   },
   "outputs": [],
   "source": [
    "df['license'].value_counts()"
   ]
  },
  {
   "cell_type": "markdown",
   "metadata": {},
   "source": [
    "It is strange that this wasn't deleted by dropna. Now, I will analyze monthly_price and weekly_price"
   ]
  },
  {
   "cell_type": "code",
   "execution_count": null,
   "metadata": {
    "collapsed": true
   },
   "outputs": [],
   "source": [
    "df['monthly_price'].value_counts()\n",
    "df[df['monthly_price']==0]"
   ]
  },
  {
   "cell_type": "code",
   "execution_count": null,
   "metadata": {
    "collapsed": true
   },
   "outputs": [],
   "source": [
    "df[df['weekly_price']==0]"
   ]
  },
  {
   "cell_type": "markdown",
   "metadata": {},
   "source": [
    "weekly price and monthly price if empty means 0 or not appliable. Now, I will analyze neighborhood_overview"
   ]
  },
  {
   "cell_type": "code",
   "execution_count": null,
   "metadata": {
    "collapsed": true
   },
   "outputs": [],
   "source": [
    "df['neighborhood_overview'].value_counts()"
   ]
  },
  {
   "cell_type": "markdown",
   "metadata": {},
   "source": [
    "I will delete neighborhood but I wish if there is a value that incdicate it."
   ]
  },
  {
   "cell_type": "code",
   "execution_count": null,
   "metadata": {
    "collapsed": true
   },
   "outputs": [],
   "source": [
    "df['neighbourhood_group_cleansed'].value_counts()"
   ]
  },
  {
   "cell_type": "code",
   "execution_count": null,
   "metadata": {
    "collapsed": true
   },
   "outputs": [],
   "source": [
    "df[df['city']=='boston']['neighbourhood_group_cleansed'].value_counts()"
   ]
  },
  {
   "cell_type": "code",
   "execution_count": null,
   "metadata": {
    "collapsed": true
   },
   "outputs": [],
   "source": [
    "df[df['city']=='seattle']['neighbourhood'].value_counts()"
   ]
  },
  {
   "cell_type": "markdown",
   "metadata": {},
   "source": [
    "We can delete neighborhood cleansed as we have neighborhood column filled for both seattle and boston while cleansed is not found for boston."
   ]
  },
  {
   "cell_type": "code",
   "execution_count": null,
   "metadata": {
    "collapsed": true
   },
   "outputs": [],
   "source": [
    "df['notes'].value_counts()"
   ]
  },
  {
   "cell_type": "markdown",
   "metadata": {},
   "source": [
    "We delete this column too. price_y and price_x need to be compared first."
   ]
  },
  {
   "cell_type": "code",
   "execution_count": null,
   "metadata": {
    "collapsed": true
   },
   "outputs": [],
   "source": [
    "df.shape"
   ]
  },
  {
   "cell_type": "code",
   "execution_count": null,
   "metadata": {
    "collapsed": true
   },
   "outputs": [],
   "source": [
    "df['price_x'].count()"
   ]
  },
  {
   "cell_type": "code",
   "execution_count": null,
   "metadata": {
    "collapsed": true
   },
   "outputs": [],
   "source": [
    "df['price_y'].count()"
   ]
  },
  {
   "cell_type": "code",
   "execution_count": null,
   "metadata": {
    "collapsed": true
   },
   "outputs": [],
   "source": [
    "df[df['price_x']!=df['price_y']]['price_y'].count()"
   ]
  },
  {
   "cell_type": "markdown",
   "metadata": {},
   "source": [
    "As we analyze, we find that there are disparency between price in cal and list. cal has complete info while listing doesn't. So we can delete price_y."
   ]
  },
  {
   "cell_type": "code",
   "execution_count": null,
   "metadata": {
    "collapsed": true
   },
   "outputs": [],
   "source": [
    "df[df['security_deposit']==0]"
   ]
  },
  {
   "cell_type": "markdown",
   "metadata": {},
   "source": [
    "Empty deposit means 0."
   ]
  },
  {
   "cell_type": "code",
   "execution_count": null,
   "metadata": {
    "collapsed": true
   },
   "outputs": [],
   "source": [
    "df['square_feet'].value_counts()\n"
   ]
  },
  {
   "cell_type": "markdown",
   "metadata": {},
   "source": [
    "Number of bedrooms is a safe indicator of space. Also as we at it, I will delete space column as it has a lot of jibrish."
   ]
  },
  {
   "cell_type": "code",
   "execution_count": null,
   "metadata": {
    "collapsed": true
   },
   "outputs": [],
   "source": [
    "df['transit'].value_counts()"
   ]
  },
  {
   "cell_type": "markdown",
   "metadata": {},
   "source": [
    "We delete columns now"
   ]
  },
  {
   "cell_type": "code",
   "execution_count": 33,
   "metadata": {
    "collapsed": true
   },
   "outputs": [],
   "source": [
    "df.drop(inplace=True,columns=['interaction','space','price_y','transit','notes','square_feet','neighbourhood_group_cleansed','neighborhood_overview','jurisdiction_names','license','house_rules','host_about','access'])"
   ]
  },
  {
   "cell_type": "markdown",
   "metadata": {},
   "source": [
    "We fill na values with zero for above columns we indicated before"
   ]
  },
  {
   "cell_type": "code",
   "execution_count": 34,
   "metadata": {},
   "outputs": [
    {
     "data": {
      "text/html": [
       "<div>\n",
       "<style scoped>\n",
       "    .dataframe tbody tr th:only-of-type {\n",
       "        vertical-align: middle;\n",
       "    }\n",
       "\n",
       "    .dataframe tbody tr th {\n",
       "        vertical-align: top;\n",
       "    }\n",
       "\n",
       "    .dataframe thead th {\n",
       "        text-align: right;\n",
       "    }\n",
       "</style>\n",
       "<table border=\"1\" class=\"dataframe\">\n",
       "  <thead>\n",
       "    <tr style=\"text-align: right;\">\n",
       "      <th></th>\n",
       "      <th>accommodates</th>\n",
       "      <th>amenities</th>\n",
       "      <th>availability_30</th>\n",
       "      <th>availability_365</th>\n",
       "      <th>availability_60</th>\n",
       "      <th>availability_90</th>\n",
       "      <th>available</th>\n",
       "      <th>bathrooms</th>\n",
       "      <th>bed_type</th>\n",
       "      <th>bedrooms</th>\n",
       "      <th>...</th>\n",
       "      <th>scrape_id</th>\n",
       "      <th>security_deposit</th>\n",
       "      <th>smart_location</th>\n",
       "      <th>state</th>\n",
       "      <th>street</th>\n",
       "      <th>summary</th>\n",
       "      <th>thumbnail_url</th>\n",
       "      <th>weekly_price</th>\n",
       "      <th>xl_picture_url</th>\n",
       "      <th>zipcode</th>\n",
       "    </tr>\n",
       "  </thead>\n",
       "  <tbody>\n",
       "    <tr>\n",
       "      <th>0</th>\n",
       "      <td>4</td>\n",
       "      <td>{TV,\"Cable TV\",Internet,\"Wireless Internet\",\"A...</td>\n",
       "      <td>14</td>\n",
       "      <td>346</td>\n",
       "      <td>41</td>\n",
       "      <td>71</td>\n",
       "      <td>t</td>\n",
       "      <td>1.0</td>\n",
       "      <td>Real Bed</td>\n",
       "      <td>1.0</td>\n",
       "      <td>...</td>\n",
       "      <td>20160104002432</td>\n",
       "      <td>0</td>\n",
       "      <td>Seattle, WA</td>\n",
       "      <td>WA</td>\n",
       "      <td>Gilman Dr W, Seattle, WA 98119, United States</td>\n",
       "      <td>NaN</td>\n",
       "      <td>NaN</td>\n",
       "      <td>0</td>\n",
       "      <td>NaN</td>\n",
       "      <td>98119</td>\n",
       "    </tr>\n",
       "    <tr>\n",
       "      <th>1</th>\n",
       "      <td>4</td>\n",
       "      <td>{TV,\"Cable TV\",Internet,\"Wireless Internet\",\"A...</td>\n",
       "      <td>14</td>\n",
       "      <td>346</td>\n",
       "      <td>41</td>\n",
       "      <td>71</td>\n",
       "      <td>t</td>\n",
       "      <td>1.0</td>\n",
       "      <td>Real Bed</td>\n",
       "      <td>1.0</td>\n",
       "      <td>...</td>\n",
       "      <td>20160104002432</td>\n",
       "      <td>0</td>\n",
       "      <td>Seattle, WA</td>\n",
       "      <td>WA</td>\n",
       "      <td>Gilman Dr W, Seattle, WA 98119, United States</td>\n",
       "      <td>NaN</td>\n",
       "      <td>NaN</td>\n",
       "      <td>0</td>\n",
       "      <td>NaN</td>\n",
       "      <td>98119</td>\n",
       "    </tr>\n",
       "    <tr>\n",
       "      <th>2</th>\n",
       "      <td>4</td>\n",
       "      <td>{TV,\"Cable TV\",Internet,\"Wireless Internet\",\"A...</td>\n",
       "      <td>14</td>\n",
       "      <td>346</td>\n",
       "      <td>41</td>\n",
       "      <td>71</td>\n",
       "      <td>f</td>\n",
       "      <td>1.0</td>\n",
       "      <td>Real Bed</td>\n",
       "      <td>1.0</td>\n",
       "      <td>...</td>\n",
       "      <td>20160104002432</td>\n",
       "      <td>0</td>\n",
       "      <td>Seattle, WA</td>\n",
       "      <td>WA</td>\n",
       "      <td>Gilman Dr W, Seattle, WA 98119, United States</td>\n",
       "      <td>NaN</td>\n",
       "      <td>NaN</td>\n",
       "      <td>0</td>\n",
       "      <td>NaN</td>\n",
       "      <td>98119</td>\n",
       "    </tr>\n",
       "    <tr>\n",
       "      <th>3</th>\n",
       "      <td>4</td>\n",
       "      <td>{TV,\"Cable TV\",Internet,\"Wireless Internet\",\"A...</td>\n",
       "      <td>14</td>\n",
       "      <td>346</td>\n",
       "      <td>41</td>\n",
       "      <td>71</td>\n",
       "      <td>f</td>\n",
       "      <td>1.0</td>\n",
       "      <td>Real Bed</td>\n",
       "      <td>1.0</td>\n",
       "      <td>...</td>\n",
       "      <td>20160104002432</td>\n",
       "      <td>0</td>\n",
       "      <td>Seattle, WA</td>\n",
       "      <td>WA</td>\n",
       "      <td>Gilman Dr W, Seattle, WA 98119, United States</td>\n",
       "      <td>NaN</td>\n",
       "      <td>NaN</td>\n",
       "      <td>0</td>\n",
       "      <td>NaN</td>\n",
       "      <td>98119</td>\n",
       "    </tr>\n",
       "    <tr>\n",
       "      <th>4</th>\n",
       "      <td>4</td>\n",
       "      <td>{TV,\"Cable TV\",Internet,\"Wireless Internet\",\"A...</td>\n",
       "      <td>14</td>\n",
       "      <td>346</td>\n",
       "      <td>41</td>\n",
       "      <td>71</td>\n",
       "      <td>f</td>\n",
       "      <td>1.0</td>\n",
       "      <td>Real Bed</td>\n",
       "      <td>1.0</td>\n",
       "      <td>...</td>\n",
       "      <td>20160104002432</td>\n",
       "      <td>0</td>\n",
       "      <td>Seattle, WA</td>\n",
       "      <td>WA</td>\n",
       "      <td>Gilman Dr W, Seattle, WA 98119, United States</td>\n",
       "      <td>NaN</td>\n",
       "      <td>NaN</td>\n",
       "      <td>0</td>\n",
       "      <td>NaN</td>\n",
       "      <td>98119</td>\n",
       "    </tr>\n",
       "  </tbody>\n",
       "</table>\n",
       "<p>5 rows × 85 columns</p>\n",
       "</div>"
      ],
      "text/plain": [
       "   accommodates                                          amenities  \\\n",
       "0             4  {TV,\"Cable TV\",Internet,\"Wireless Internet\",\"A...   \n",
       "1             4  {TV,\"Cable TV\",Internet,\"Wireless Internet\",\"A...   \n",
       "2             4  {TV,\"Cable TV\",Internet,\"Wireless Internet\",\"A...   \n",
       "3             4  {TV,\"Cable TV\",Internet,\"Wireless Internet\",\"A...   \n",
       "4             4  {TV,\"Cable TV\",Internet,\"Wireless Internet\",\"A...   \n",
       "\n",
       "   availability_30  availability_365  availability_60  availability_90  \\\n",
       "0               14               346               41               71   \n",
       "1               14               346               41               71   \n",
       "2               14               346               41               71   \n",
       "3               14               346               41               71   \n",
       "4               14               346               41               71   \n",
       "\n",
       "  available  bathrooms  bed_type  bedrooms   ...         scrape_id  \\\n",
       "0         t        1.0  Real Bed       1.0   ...    20160104002432   \n",
       "1         t        1.0  Real Bed       1.0   ...    20160104002432   \n",
       "2         f        1.0  Real Bed       1.0   ...    20160104002432   \n",
       "3         f        1.0  Real Bed       1.0   ...    20160104002432   \n",
       "4         f        1.0  Real Bed       1.0   ...    20160104002432   \n",
       "\n",
       "   security_deposit smart_location state  \\\n",
       "0                 0    Seattle, WA    WA   \n",
       "1                 0    Seattle, WA    WA   \n",
       "2                 0    Seattle, WA    WA   \n",
       "3                 0    Seattle, WA    WA   \n",
       "4                 0    Seattle, WA    WA   \n",
       "\n",
       "                                          street summary thumbnail_url  \\\n",
       "0  Gilman Dr W, Seattle, WA 98119, United States     NaN           NaN   \n",
       "1  Gilman Dr W, Seattle, WA 98119, United States     NaN           NaN   \n",
       "2  Gilman Dr W, Seattle, WA 98119, United States     NaN           NaN   \n",
       "3  Gilman Dr W, Seattle, WA 98119, United States     NaN           NaN   \n",
       "4  Gilman Dr W, Seattle, WA 98119, United States     NaN           NaN   \n",
       "\n",
       "  weekly_price xl_picture_url zipcode  \n",
       "0            0            NaN   98119  \n",
       "1            0            NaN   98119  \n",
       "2            0            NaN   98119  \n",
       "3            0            NaN   98119  \n",
       "4            0            NaN   98119  \n",
       "\n",
       "[5 rows x 85 columns]"
      ]
     },
     "execution_count": 34,
     "metadata": {},
     "output_type": "execute_result"
    }
   ],
   "source": [
    "df['weekly_price'].fillna(inplace=True,value=0)\n",
    "df['monthly_price'].fillna(inplace=True,value=0)\n",
    "df['security_deposit'].fillna(inplace=True,value=0)\n",
    "df['cleaning_fee'].fillna(inplace=True,value=0)\n",
    "df.head()"
   ]
  },
  {
   "cell_type": "code",
   "execution_count": 35,
   "metadata": {
    "collapsed": true
   },
   "outputs": [],
   "source": [
    "df['has_availability'].fillna(inplace=True,value=False)"
   ]
  },
  {
   "cell_type": "markdown",
   "metadata": {},
   "source": [
    "We check those have more than half empty"
   ]
  },
  {
   "cell_type": "code",
   "execution_count": 500,
   "metadata": {},
   "outputs": [
    {
     "data": {
      "text/plain": [
       "Index([], dtype='object')"
      ]
     },
     "execution_count": 500,
     "metadata": {},
     "output_type": "execute_result"
    }
   ],
   "source": [
    "df_50 = df.columns[(df.count()/len(df)) <= .50]\n",
    "df_50"
   ]
  },
  {
   "cell_type": "markdown",
   "metadata": {},
   "source": [
    "To trim more columns as we have many, I will analyze data with object types"
   ]
  },
  {
   "cell_type": "code",
   "execution_count": 60,
   "metadata": {},
   "outputs": [
    {
     "data": {
      "text/plain": [
       "Index(['amenities', 'bed_type', 'calendar_last_scraped', 'calendar_updated',\n",
       "       'cancellation_policy', 'city', 'cleaning_fee', 'date',\n",
       "       'experiences_offered', 'extra_people', 'first_review',\n",
       "       'host_acceptance_rate', 'host_has_profile_pic',\n",
       "       'host_identity_verified', 'host_is_superhost', 'host_location',\n",
       "       'host_neighbourhood', 'host_response_rate', 'host_response_time',\n",
       "       'host_since', 'host_verifications', 'last_review', 'last_scraped',\n",
       "       'market', 'monthly_price', 'neighbourhood', 'neighbourhood_cleansed',\n",
       "       'price_x', 'property_type', 'room_type', 'security_deposit',\n",
       "       'smart_location', 'weekly_price'],\n",
       "      dtype='object')"
      ]
     },
     "execution_count": 60,
     "metadata": {},
     "output_type": "execute_result"
    }
   ],
   "source": [
    "str_col = df.select_dtypes('object').columns\n",
    "str_col"
   ]
  },
  {
   "cell_type": "markdown",
   "metadata": {},
   "source": [
    "amneities will be converted to a numerical number that inciates number of amneities"
   ]
  },
  {
   "cell_type": "code",
   "execution_count": 36,
   "metadata": {},
   "outputs": [
    {
     "data": {
      "text/html": [
       "<div>\n",
       "<style scoped>\n",
       "    .dataframe tbody tr th:only-of-type {\n",
       "        vertical-align: middle;\n",
       "    }\n",
       "\n",
       "    .dataframe tbody tr th {\n",
       "        vertical-align: top;\n",
       "    }\n",
       "\n",
       "    .dataframe thead th {\n",
       "        text-align: right;\n",
       "    }\n",
       "</style>\n",
       "<table border=\"1\" class=\"dataframe\">\n",
       "  <thead>\n",
       "    <tr style=\"text-align: right;\">\n",
       "      <th></th>\n",
       "      <th>accommodates</th>\n",
       "      <th>amenities</th>\n",
       "      <th>availability_30</th>\n",
       "      <th>availability_365</th>\n",
       "      <th>availability_60</th>\n",
       "      <th>availability_90</th>\n",
       "      <th>available</th>\n",
       "      <th>bathrooms</th>\n",
       "      <th>bed_type</th>\n",
       "      <th>bedrooms</th>\n",
       "      <th>...</th>\n",
       "      <th>scrape_id</th>\n",
       "      <th>security_deposit</th>\n",
       "      <th>smart_location</th>\n",
       "      <th>state</th>\n",
       "      <th>street</th>\n",
       "      <th>summary</th>\n",
       "      <th>thumbnail_url</th>\n",
       "      <th>weekly_price</th>\n",
       "      <th>xl_picture_url</th>\n",
       "      <th>zipcode</th>\n",
       "    </tr>\n",
       "  </thead>\n",
       "  <tbody>\n",
       "    <tr>\n",
       "      <th>0</th>\n",
       "      <td>4</td>\n",
       "      <td>{TV,\"Cable TV\",Internet,\"Wireless Internet\",\"A...</td>\n",
       "      <td>14</td>\n",
       "      <td>346</td>\n",
       "      <td>41</td>\n",
       "      <td>71</td>\n",
       "      <td>True</td>\n",
       "      <td>1.0</td>\n",
       "      <td>Real Bed</td>\n",
       "      <td>1.0</td>\n",
       "      <td>...</td>\n",
       "      <td>20160104002432</td>\n",
       "      <td>0</td>\n",
       "      <td>Seattle, WA</td>\n",
       "      <td>WA</td>\n",
       "      <td>Gilman Dr W, Seattle, WA 98119, United States</td>\n",
       "      <td>NaN</td>\n",
       "      <td>NaN</td>\n",
       "      <td>0</td>\n",
       "      <td>NaN</td>\n",
       "      <td>98119</td>\n",
       "    </tr>\n",
       "    <tr>\n",
       "      <th>1</th>\n",
       "      <td>4</td>\n",
       "      <td>{TV,\"Cable TV\",Internet,\"Wireless Internet\",\"A...</td>\n",
       "      <td>14</td>\n",
       "      <td>346</td>\n",
       "      <td>41</td>\n",
       "      <td>71</td>\n",
       "      <td>True</td>\n",
       "      <td>1.0</td>\n",
       "      <td>Real Bed</td>\n",
       "      <td>1.0</td>\n",
       "      <td>...</td>\n",
       "      <td>20160104002432</td>\n",
       "      <td>0</td>\n",
       "      <td>Seattle, WA</td>\n",
       "      <td>WA</td>\n",
       "      <td>Gilman Dr W, Seattle, WA 98119, United States</td>\n",
       "      <td>NaN</td>\n",
       "      <td>NaN</td>\n",
       "      <td>0</td>\n",
       "      <td>NaN</td>\n",
       "      <td>98119</td>\n",
       "    </tr>\n",
       "    <tr>\n",
       "      <th>2</th>\n",
       "      <td>4</td>\n",
       "      <td>{TV,\"Cable TV\",Internet,\"Wireless Internet\",\"A...</td>\n",
       "      <td>14</td>\n",
       "      <td>346</td>\n",
       "      <td>41</td>\n",
       "      <td>71</td>\n",
       "      <td>False</td>\n",
       "      <td>1.0</td>\n",
       "      <td>Real Bed</td>\n",
       "      <td>1.0</td>\n",
       "      <td>...</td>\n",
       "      <td>20160104002432</td>\n",
       "      <td>0</td>\n",
       "      <td>Seattle, WA</td>\n",
       "      <td>WA</td>\n",
       "      <td>Gilman Dr W, Seattle, WA 98119, United States</td>\n",
       "      <td>NaN</td>\n",
       "      <td>NaN</td>\n",
       "      <td>0</td>\n",
       "      <td>NaN</td>\n",
       "      <td>98119</td>\n",
       "    </tr>\n",
       "    <tr>\n",
       "      <th>3</th>\n",
       "      <td>4</td>\n",
       "      <td>{TV,\"Cable TV\",Internet,\"Wireless Internet\",\"A...</td>\n",
       "      <td>14</td>\n",
       "      <td>346</td>\n",
       "      <td>41</td>\n",
       "      <td>71</td>\n",
       "      <td>False</td>\n",
       "      <td>1.0</td>\n",
       "      <td>Real Bed</td>\n",
       "      <td>1.0</td>\n",
       "      <td>...</td>\n",
       "      <td>20160104002432</td>\n",
       "      <td>0</td>\n",
       "      <td>Seattle, WA</td>\n",
       "      <td>WA</td>\n",
       "      <td>Gilman Dr W, Seattle, WA 98119, United States</td>\n",
       "      <td>NaN</td>\n",
       "      <td>NaN</td>\n",
       "      <td>0</td>\n",
       "      <td>NaN</td>\n",
       "      <td>98119</td>\n",
       "    </tr>\n",
       "    <tr>\n",
       "      <th>4</th>\n",
       "      <td>4</td>\n",
       "      <td>{TV,\"Cable TV\",Internet,\"Wireless Internet\",\"A...</td>\n",
       "      <td>14</td>\n",
       "      <td>346</td>\n",
       "      <td>41</td>\n",
       "      <td>71</td>\n",
       "      <td>False</td>\n",
       "      <td>1.0</td>\n",
       "      <td>Real Bed</td>\n",
       "      <td>1.0</td>\n",
       "      <td>...</td>\n",
       "      <td>20160104002432</td>\n",
       "      <td>0</td>\n",
       "      <td>Seattle, WA</td>\n",
       "      <td>WA</td>\n",
       "      <td>Gilman Dr W, Seattle, WA 98119, United States</td>\n",
       "      <td>NaN</td>\n",
       "      <td>NaN</td>\n",
       "      <td>0</td>\n",
       "      <td>NaN</td>\n",
       "      <td>98119</td>\n",
       "    </tr>\n",
       "  </tbody>\n",
       "</table>\n",
       "<p>5 rows × 85 columns</p>\n",
       "</div>"
      ],
      "text/plain": [
       "   accommodates                                          amenities  \\\n",
       "0             4  {TV,\"Cable TV\",Internet,\"Wireless Internet\",\"A...   \n",
       "1             4  {TV,\"Cable TV\",Internet,\"Wireless Internet\",\"A...   \n",
       "2             4  {TV,\"Cable TV\",Internet,\"Wireless Internet\",\"A...   \n",
       "3             4  {TV,\"Cable TV\",Internet,\"Wireless Internet\",\"A...   \n",
       "4             4  {TV,\"Cable TV\",Internet,\"Wireless Internet\",\"A...   \n",
       "\n",
       "   availability_30  availability_365  availability_60  availability_90  \\\n",
       "0               14               346               41               71   \n",
       "1               14               346               41               71   \n",
       "2               14               346               41               71   \n",
       "3               14               346               41               71   \n",
       "4               14               346               41               71   \n",
       "\n",
       "   available  bathrooms  bed_type  bedrooms   ...         scrape_id  \\\n",
       "0       True        1.0  Real Bed       1.0   ...    20160104002432   \n",
       "1       True        1.0  Real Bed       1.0   ...    20160104002432   \n",
       "2      False        1.0  Real Bed       1.0   ...    20160104002432   \n",
       "3      False        1.0  Real Bed       1.0   ...    20160104002432   \n",
       "4      False        1.0  Real Bed       1.0   ...    20160104002432   \n",
       "\n",
       "   security_deposit smart_location state  \\\n",
       "0                 0    Seattle, WA    WA   \n",
       "1                 0    Seattle, WA    WA   \n",
       "2                 0    Seattle, WA    WA   \n",
       "3                 0    Seattle, WA    WA   \n",
       "4                 0    Seattle, WA    WA   \n",
       "\n",
       "                                          street summary thumbnail_url  \\\n",
       "0  Gilman Dr W, Seattle, WA 98119, United States     NaN           NaN   \n",
       "1  Gilman Dr W, Seattle, WA 98119, United States     NaN           NaN   \n",
       "2  Gilman Dr W, Seattle, WA 98119, United States     NaN           NaN   \n",
       "3  Gilman Dr W, Seattle, WA 98119, United States     NaN           NaN   \n",
       "4  Gilman Dr W, Seattle, WA 98119, United States     NaN           NaN   \n",
       "\n",
       "  weekly_price xl_picture_url zipcode  \n",
       "0            0            NaN   98119  \n",
       "1            0            NaN   98119  \n",
       "2            0            NaN   98119  \n",
       "3            0            NaN   98119  \n",
       "4            0            NaN   98119  \n",
       "\n",
       "[5 rows x 85 columns]"
      ]
     },
     "execution_count": 36,
     "metadata": {},
     "output_type": "execute_result"
    }
   ],
   "source": [
    "df.replace(inplace=True,to_replace='t',value=True)\n",
    "df.replace(inplace=True,to_replace='f',value=False)\n",
    "df.head()"
   ]
  },
  {
   "cell_type": "code",
   "execution_count": 56,
   "metadata": {},
   "outputs": [
    {
     "data": {
      "text/plain": [
       "Index(['amenities', 'available', 'bed_type', 'calendar_last_scraped',\n",
       "       'calendar_updated', 'cancellation_policy', 'city', 'cleaning_fee',\n",
       "       'country', 'country_code', 'date', 'description', 'experiences_offered',\n",
       "       'extra_people', 'first_review', 'has_availability',\n",
       "       'host_acceptance_rate', 'host_has_profile_pic',\n",
       "       'host_identity_verified', 'host_is_superhost', 'host_location',\n",
       "       'host_name', 'host_neighbourhood', 'host_picture_url',\n",
       "       'host_response_rate', 'host_response_time', 'host_since',\n",
       "       'host_thumbnail_url', 'host_url', 'host_verifications',\n",
       "       'instant_bookable', 'is_location_exact', 'last_review', 'last_scraped',\n",
       "       'listing_url', 'market', 'medium_url', 'monthly_price', 'name',\n",
       "       'neighbourhood', 'neighbourhood_cleansed', 'picture_url', 'price_x',\n",
       "       'property_type', 'require_guest_phone_verification',\n",
       "       'require_guest_profile_picture', 'requires_license', 'room_type',\n",
       "       'security_deposit', 'smart_location', 'state', 'street', 'summary',\n",
       "       'thumbnail_url', 'weekly_price', 'xl_picture_url', 'zipcode'],\n",
       "      dtype='object')"
      ]
     },
     "execution_count": 56,
     "metadata": {},
     "output_type": "execute_result"
    }
   ],
   "source": [
    "str_col"
   ]
  },
  {
   "cell_type": "code",
   "execution_count": 57,
   "metadata": {},
   "outputs": [
    {
     "data": {
      "text/plain": [
       "Real Bed         2595515\n",
       "Futon              45625\n",
       "Pull-out Sofa      28470\n",
       "Airbed             24455\n",
       "Couch               8395\n",
       "Name: bed_type, dtype: int64"
      ]
     },
     "execution_count": 57,
     "metadata": {},
     "output_type": "execute_result"
    }
   ],
   "source": [
    "df['bed_type'].value_counts()"
   ]
  },
  {
   "cell_type": "markdown",
   "metadata": {},
   "source": [
    "bed type is categorical."
   ]
  },
  {
   "cell_type": "code",
   "execution_count": 58,
   "metadata": {},
   "outputs": [
    {
     "data": {
      "text/plain": [
       "2016-01-04    1393570\n",
       "2016-09-06    1308890\n",
       "Name: calendar_last_scraped, dtype: int64"
      ]
     },
     "execution_count": 58,
     "metadata": {},
     "output_type": "execute_result"
    }
   ],
   "source": [
    "df['calendar_last_scraped'].value_counts()"
   ]
  },
  {
   "cell_type": "markdown",
   "metadata": {},
   "source": [
    "By looking at title names, I will delete: country, country_code, description, host_name, host_picture_url, host_thumbnail_url, host_url, listing_url, medium_url, name, picture_url, state, street, summary, zipcode, xl_picture_url, thumbnail_url"
   ]
  },
  {
   "cell_type": "code",
   "execution_count": 37,
   "metadata": {
    "collapsed": true
   },
   "outputs": [],
   "source": [
    "df.drop(inplace=True,columns=['country', 'country_code', 'description', 'host_name', 'host_picture_url', 'host_thumbnail_url', 'host_url', 'listing_url', 'medium_url', 'name', 'picture_url', 'state', 'street', 'summary', 'zipcode', 'xl_picture_url', 'thumbnail_url'])"
   ]
  },
  {
   "cell_type": "markdown",
   "metadata": {},
   "source": [
    "Now, we will analyze the object columsn that we have"
   ]
  },
  {
   "cell_type": "code",
   "execution_count": 447,
   "metadata": {},
   "outputs": [
    {
     "data": {
      "text/plain": [
       "today            561735\n",
       "2 weeks ago      238710\n",
       "a week ago       214985\n",
       "3 weeks ago      190165\n",
       "2 months ago     162790\n",
       "yesterday        147825\n",
       "4 weeks ago      135415\n",
       "3 months ago     127385\n",
       "4 days ago       114245\n",
       "5 weeks ago      103660\n",
       "5 days ago        96360\n",
       "3 days ago        95995\n",
       "4 months ago      79570\n",
       "6 weeks ago       72635\n",
       "2 days ago        70810\n",
       "5 months ago      53655\n",
       "7 weeks ago       36500\n",
       "7 months ago      24090\n",
       "6 days ago        23360\n",
       "1 week ago        22630\n",
       "6 months ago      22265\n",
       "8 months ago      16790\n",
       "10 months ago     16425\n",
       "never             15695\n",
       "9 months ago      15330\n",
       "11 months ago      8030\n",
       "13 months ago      7665\n",
       "14 months ago      7300\n",
       "12 months ago      6570\n",
       "17 months ago      3650\n",
       "15 months ago      3285\n",
       "16 months ago      2920\n",
       "22 months ago      1095\n",
       "25 months ago       730\n",
       "18 months ago       730\n",
       "30 months ago       730\n",
       "23 months ago       365\n",
       "20 months ago       365\n",
       "Name: calendar_updated, dtype: int64"
      ]
     },
     "execution_count": 447,
     "metadata": {},
     "output_type": "execute_result"
    }
   ],
   "source": [
    "df['calendar_updated'].value_counts()"
   ]
  },
  {
   "cell_type": "markdown",
   "metadata": {},
   "source": [
    "We could convert these values to number of weeks. We will delete last scraped value as it not related to our analysis"
   ]
  },
  {
   "cell_type": "code",
   "execution_count": 38,
   "metadata": {
    "collapsed": true
   },
   "outputs": [],
   "source": [
    "df.drop(inplace=True,columns='calendar_last_scraped')"
   ]
  },
  {
   "cell_type": "code",
   "execution_count": 39,
   "metadata": {
    "collapsed": true
   },
   "outputs": [],
   "source": [
    "def func(x):\n",
    "    if('a week' in x):\n",
    "        return 1\n",
    "    elif('week' in x):\n",
    "        return str.split(x)[0]\n",
    "    elif ('month' in x):\n",
    "        return int(str.split(x)[0])*4\n",
    "    elif ('never' in x):\n",
    "        return int(0)\n",
    "    else:\n",
    "        return int(1)\n",
    "\n",
    "df['scratch']=df['calendar_updated'].apply(lambda x:func(x))\n"
   ]
  },
  {
   "cell_type": "code",
   "execution_count": 505,
   "metadata": {},
   "outputs": [
    {
     "data": {
      "text/html": [
       "<div>\n",
       "<style scoped>\n",
       "    .dataframe tbody tr th:only-of-type {\n",
       "        vertical-align: middle;\n",
       "    }\n",
       "\n",
       "    .dataframe tbody tr th {\n",
       "        vertical-align: top;\n",
       "    }\n",
       "\n",
       "    .dataframe thead th {\n",
       "        text-align: right;\n",
       "    }\n",
       "</style>\n",
       "<table border=\"1\" class=\"dataframe\">\n",
       "  <thead>\n",
       "    <tr style=\"text-align: right;\">\n",
       "      <th></th>\n",
       "      <th>accommodates</th>\n",
       "      <th>availability_30</th>\n",
       "      <th>availability_365</th>\n",
       "      <th>availability_60</th>\n",
       "      <th>availability_90</th>\n",
       "      <th>bathrooms</th>\n",
       "      <th>bedrooms</th>\n",
       "      <th>beds</th>\n",
       "      <th>calculated_host_listings_count</th>\n",
       "      <th>guests_included</th>\n",
       "      <th>...</th>\n",
       "      <th>number_of_reviews</th>\n",
       "      <th>review_scores_accuracy</th>\n",
       "      <th>review_scores_checkin</th>\n",
       "      <th>review_scores_cleanliness</th>\n",
       "      <th>review_scores_communication</th>\n",
       "      <th>review_scores_location</th>\n",
       "      <th>review_scores_rating</th>\n",
       "      <th>review_scores_value</th>\n",
       "      <th>reviews_per_month</th>\n",
       "      <th>scrape_id</th>\n",
       "    </tr>\n",
       "  </thead>\n",
       "  <tbody>\n",
       "    <tr>\n",
       "      <th>count</th>\n",
       "      <td>2.702460e+06</td>\n",
       "      <td>2.702460e+06</td>\n",
       "      <td>2.702460e+06</td>\n",
       "      <td>2.702460e+06</td>\n",
       "      <td>2.702460e+06</td>\n",
       "      <td>2.691510e+06</td>\n",
       "      <td>2.696620e+06</td>\n",
       "      <td>2.698810e+06</td>\n",
       "      <td>2.702460e+06</td>\n",
       "      <td>2.702460e+06</td>\n",
       "      <td>...</td>\n",
       "      <td>2.702460e+06</td>\n",
       "      <td>2.161530e+06</td>\n",
       "      <td>2.162625e+06</td>\n",
       "      <td>2.165180e+06</td>\n",
       "      <td>2.165910e+06</td>\n",
       "      <td>2.162990e+06</td>\n",
       "      <td>2.169195e+06</td>\n",
       "      <td>2.162990e+06</td>\n",
       "      <td>2.197300e+06</td>\n",
       "      <td>2.702460e+06</td>\n",
       "    </tr>\n",
       "    <tr>\n",
       "      <th>mean</th>\n",
       "      <td>3.200027e+00</td>\n",
       "      <td>1.284711e+01</td>\n",
       "      <td>2.130712e+02</td>\n",
       "      <td>2.956253e+01</td>\n",
       "      <td>4.863182e+01</td>\n",
       "      <td>1.241117e+00</td>\n",
       "      <td>1.282620e+00</td>\n",
       "      <td>1.674195e+00</td>\n",
       "      <td>7.686791e+00</td>\n",
       "      <td>1.554970e+00</td>\n",
       "      <td>...</td>\n",
       "      <td>2.068125e+01</td>\n",
       "      <td>9.540865e+00</td>\n",
       "      <td>9.721181e+00</td>\n",
       "      <td>9.417229e+00</td>\n",
       "      <td>9.733569e+00</td>\n",
       "      <td>9.518056e+00</td>\n",
       "      <td>9.331600e+01</td>\n",
       "      <td>9.319777e+00</td>\n",
       "      <td>2.028161e+00</td>\n",
       "      <td>2.016049e+13</td>\n",
       "    </tr>\n",
       "    <tr>\n",
       "      <th>std</th>\n",
       "      <td>1.889962e+00</td>\n",
       "      <td>1.206861e+01</td>\n",
       "      <td>1.383328e+02</td>\n",
       "      <td>2.383737e+01</td>\n",
       "      <td>3.501049e+01</td>\n",
       "      <td>5.493412e-01</td>\n",
       "      <td>8.231467e-01</td>\n",
       "      <td>1.081238e+00</td>\n",
       "      <td>2.146306e+01</td>\n",
       "      <td>1.200612e+00</td>\n",
       "      <td>...</td>\n",
       "      <td>3.672886e+01</td>\n",
       "      <td>8.217136e-01</td>\n",
       "      <td>6.821897e-01</td>\n",
       "      <td>9.991873e-01</td>\n",
       "      <td>6.565342e-01</td>\n",
       "      <td>7.752466e-01</td>\n",
       "      <td>8.206763e+00</td>\n",
       "      <td>8.927488e-01</td>\n",
       "      <td>1.968533e+00</td>\n",
       "      <td>4.009044e+08</td>\n",
       "    </tr>\n",
       "    <tr>\n",
       "      <th>min</th>\n",
       "      <td>1.000000e+00</td>\n",
       "      <td>0.000000e+00</td>\n",
       "      <td>0.000000e+00</td>\n",
       "      <td>0.000000e+00</td>\n",
       "      <td>0.000000e+00</td>\n",
       "      <td>0.000000e+00</td>\n",
       "      <td>0.000000e+00</td>\n",
       "      <td>0.000000e+00</td>\n",
       "      <td>1.000000e+00</td>\n",
       "      <td>0.000000e+00</td>\n",
       "      <td>...</td>\n",
       "      <td>0.000000e+00</td>\n",
       "      <td>2.000000e+00</td>\n",
       "      <td>2.000000e+00</td>\n",
       "      <td>2.000000e+00</td>\n",
       "      <td>2.000000e+00</td>\n",
       "      <td>2.000000e+00</td>\n",
       "      <td>2.000000e+01</td>\n",
       "      <td>2.000000e+00</td>\n",
       "      <td>1.000000e-02</td>\n",
       "      <td>2.016010e+13</td>\n",
       "    </tr>\n",
       "    <tr>\n",
       "      <th>25%</th>\n",
       "      <td>2.000000e+00</td>\n",
       "      <td>0.000000e+00</td>\n",
       "      <td>7.700000e+01</td>\n",
       "      <td>1.000000e+00</td>\n",
       "      <td>7.000000e+00</td>\n",
       "      <td>1.000000e+00</td>\n",
       "      <td>1.000000e+00</td>\n",
       "      <td>1.000000e+00</td>\n",
       "      <td>1.000000e+00</td>\n",
       "      <td>1.000000e+00</td>\n",
       "      <td>...</td>\n",
       "      <td>1.000000e+00</td>\n",
       "      <td>9.000000e+00</td>\n",
       "      <td>1.000000e+01</td>\n",
       "      <td>9.000000e+00</td>\n",
       "      <td>1.000000e+01</td>\n",
       "      <td>9.000000e+00</td>\n",
       "      <td>9.100000e+01</td>\n",
       "      <td>9.000000e+00</td>\n",
       "      <td>5.900000e-01</td>\n",
       "      <td>2.016010e+13</td>\n",
       "    </tr>\n",
       "    <tr>\n",
       "      <th>50%</th>\n",
       "      <td>2.000000e+00</td>\n",
       "      <td>1.000000e+01</td>\n",
       "      <td>2.590000e+02</td>\n",
       "      <td>3.100000e+01</td>\n",
       "      <td>5.600000e+01</td>\n",
       "      <td>1.000000e+00</td>\n",
       "      <td>1.000000e+00</td>\n",
       "      <td>1.000000e+00</td>\n",
       "      <td>1.000000e+00</td>\n",
       "      <td>1.000000e+00</td>\n",
       "      <td>...</td>\n",
       "      <td>7.000000e+00</td>\n",
       "      <td>1.000000e+01</td>\n",
       "      <td>1.000000e+01</td>\n",
       "      <td>1.000000e+01</td>\n",
       "      <td>1.000000e+01</td>\n",
       "      <td>1.000000e+01</td>\n",
       "      <td>9.600000e+01</td>\n",
       "      <td>9.000000e+00</td>\n",
       "      <td>1.370000e+00</td>\n",
       "      <td>2.016010e+13</td>\n",
       "    </tr>\n",
       "    <tr>\n",
       "      <th>75%</th>\n",
       "      <td>4.000000e+00</td>\n",
       "      <td>2.600000e+01</td>\n",
       "      <td>3.470000e+02</td>\n",
       "      <td>5.500000e+01</td>\n",
       "      <td>8.400000e+01</td>\n",
       "      <td>1.000000e+00</td>\n",
       "      <td>2.000000e+00</td>\n",
       "      <td>2.000000e+00</td>\n",
       "      <td>3.000000e+00</td>\n",
       "      <td>2.000000e+00</td>\n",
       "      <td>...</td>\n",
       "      <td>2.300000e+01</td>\n",
       "      <td>1.000000e+01</td>\n",
       "      <td>1.000000e+01</td>\n",
       "      <td>1.000000e+01</td>\n",
       "      <td>1.000000e+01</td>\n",
       "      <td>1.000000e+01</td>\n",
       "      <td>9.900000e+01</td>\n",
       "      <td>1.000000e+01</td>\n",
       "      <td>2.890000e+00</td>\n",
       "      <td>2.016091e+13</td>\n",
       "    </tr>\n",
       "    <tr>\n",
       "      <th>max</th>\n",
       "      <td>1.600000e+01</td>\n",
       "      <td>3.000000e+01</td>\n",
       "      <td>3.650000e+02</td>\n",
       "      <td>6.000000e+01</td>\n",
       "      <td>9.000000e+01</td>\n",
       "      <td>8.000000e+00</td>\n",
       "      <td>7.000000e+00</td>\n",
       "      <td>1.600000e+01</td>\n",
       "      <td>1.360000e+02</td>\n",
       "      <td>1.500000e+01</td>\n",
       "      <td>...</td>\n",
       "      <td>4.740000e+02</td>\n",
       "      <td>1.000000e+01</td>\n",
       "      <td>1.000000e+01</td>\n",
       "      <td>1.000000e+01</td>\n",
       "      <td>1.000000e+01</td>\n",
       "      <td>1.000000e+01</td>\n",
       "      <td>1.000000e+02</td>\n",
       "      <td>1.000000e+01</td>\n",
       "      <td>1.915000e+01</td>\n",
       "      <td>2.016091e+13</td>\n",
       "    </tr>\n",
       "  </tbody>\n",
       "</table>\n",
       "<p>8 rows × 28 columns</p>\n",
       "</div>"
      ],
      "text/plain": [
       "       accommodates  availability_30  availability_365  availability_60  \\\n",
       "count  2.702460e+06     2.702460e+06      2.702460e+06     2.702460e+06   \n",
       "mean   3.200027e+00     1.284711e+01      2.130712e+02     2.956253e+01   \n",
       "std    1.889962e+00     1.206861e+01      1.383328e+02     2.383737e+01   \n",
       "min    1.000000e+00     0.000000e+00      0.000000e+00     0.000000e+00   \n",
       "25%    2.000000e+00     0.000000e+00      7.700000e+01     1.000000e+00   \n",
       "50%    2.000000e+00     1.000000e+01      2.590000e+02     3.100000e+01   \n",
       "75%    4.000000e+00     2.600000e+01      3.470000e+02     5.500000e+01   \n",
       "max    1.600000e+01     3.000000e+01      3.650000e+02     6.000000e+01   \n",
       "\n",
       "       availability_90     bathrooms      bedrooms          beds  \\\n",
       "count     2.702460e+06  2.691510e+06  2.696620e+06  2.698810e+06   \n",
       "mean      4.863182e+01  1.241117e+00  1.282620e+00  1.674195e+00   \n",
       "std       3.501049e+01  5.493412e-01  8.231467e-01  1.081238e+00   \n",
       "min       0.000000e+00  0.000000e+00  0.000000e+00  0.000000e+00   \n",
       "25%       7.000000e+00  1.000000e+00  1.000000e+00  1.000000e+00   \n",
       "50%       5.600000e+01  1.000000e+00  1.000000e+00  1.000000e+00   \n",
       "75%       8.400000e+01  1.000000e+00  2.000000e+00  2.000000e+00   \n",
       "max       9.000000e+01  8.000000e+00  7.000000e+00  1.600000e+01   \n",
       "\n",
       "       calculated_host_listings_count  guests_included      ...       \\\n",
       "count                    2.702460e+06     2.702460e+06      ...        \n",
       "mean                     7.686791e+00     1.554970e+00      ...        \n",
       "std                      2.146306e+01     1.200612e+00      ...        \n",
       "min                      1.000000e+00     0.000000e+00      ...        \n",
       "25%                      1.000000e+00     1.000000e+00      ...        \n",
       "50%                      1.000000e+00     1.000000e+00      ...        \n",
       "75%                      3.000000e+00     2.000000e+00      ...        \n",
       "max                      1.360000e+02     1.500000e+01      ...        \n",
       "\n",
       "       number_of_reviews  review_scores_accuracy  review_scores_checkin  \\\n",
       "count       2.702460e+06            2.161530e+06           2.162625e+06   \n",
       "mean        2.068125e+01            9.540865e+00           9.721181e+00   \n",
       "std         3.672886e+01            8.217136e-01           6.821897e-01   \n",
       "min         0.000000e+00            2.000000e+00           2.000000e+00   \n",
       "25%         1.000000e+00            9.000000e+00           1.000000e+01   \n",
       "50%         7.000000e+00            1.000000e+01           1.000000e+01   \n",
       "75%         2.300000e+01            1.000000e+01           1.000000e+01   \n",
       "max         4.740000e+02            1.000000e+01           1.000000e+01   \n",
       "\n",
       "       review_scores_cleanliness  review_scores_communication  \\\n",
       "count               2.165180e+06                 2.165910e+06   \n",
       "mean                9.417229e+00                 9.733569e+00   \n",
       "std                 9.991873e-01                 6.565342e-01   \n",
       "min                 2.000000e+00                 2.000000e+00   \n",
       "25%                 9.000000e+00                 1.000000e+01   \n",
       "50%                 1.000000e+01                 1.000000e+01   \n",
       "75%                 1.000000e+01                 1.000000e+01   \n",
       "max                 1.000000e+01                 1.000000e+01   \n",
       "\n",
       "       review_scores_location  review_scores_rating  review_scores_value  \\\n",
       "count            2.162990e+06          2.169195e+06         2.162990e+06   \n",
       "mean             9.518056e+00          9.331600e+01         9.319777e+00   \n",
       "std              7.752466e-01          8.206763e+00         8.927488e-01   \n",
       "min              2.000000e+00          2.000000e+01         2.000000e+00   \n",
       "25%              9.000000e+00          9.100000e+01         9.000000e+00   \n",
       "50%              1.000000e+01          9.600000e+01         9.000000e+00   \n",
       "75%              1.000000e+01          9.900000e+01         1.000000e+01   \n",
       "max              1.000000e+01          1.000000e+02         1.000000e+01   \n",
       "\n",
       "       reviews_per_month     scrape_id  \n",
       "count       2.197300e+06  2.702460e+06  \n",
       "mean        2.028161e+00  2.016049e+13  \n",
       "std         1.968533e+00  4.009044e+08  \n",
       "min         1.000000e-02  2.016010e+13  \n",
       "25%         5.900000e-01  2.016010e+13  \n",
       "50%         1.370000e+00  2.016010e+13  \n",
       "75%         2.890000e+00  2.016091e+13  \n",
       "max         1.915000e+01  2.016091e+13  \n",
       "\n",
       "[8 rows x 28 columns]"
      ]
     },
     "execution_count": 505,
     "metadata": {},
     "output_type": "execute_result"
    }
   ],
   "source": [
    "df.describe()"
   ]
  },
  {
   "cell_type": "code",
   "execution_count": 109,
   "metadata": {},
   "outputs": [
    {
     "data": {
      "text/plain": [
       "strict             1094635\n",
       "moderate            792415\n",
       "flexible            784385\n",
       "super_strict_30      31025\n",
       "Name: cancellation_policy, dtype: int64"
      ]
     },
     "execution_count": 109,
     "metadata": {},
     "output_type": "execute_result"
    }
   ],
   "source": [
    "df['cancellation_policy'].value_counts()"
   ]
  },
  {
   "cell_type": "markdown",
   "metadata": {},
   "source": [
    "cancellation_policy is categorical variable"
   ]
  },
  {
   "cell_type": "code",
   "execution_count": 111,
   "metadata": {},
   "outputs": [
    {
     "data": {
      "text/plain": [
       "none    2702460\n",
       "Name: experiences_offered, dtype: int64"
      ]
     },
     "execution_count": 111,
     "metadata": {},
     "output_type": "execute_result"
    }
   ],
   "source": [
    "df['experiences_offered'].value_counts()"
   ]
  },
  {
   "cell_type": "markdown",
   "metadata": {},
   "source": [
    "experiences_offered is a silly column. We can delete it."
   ]
  },
  {
   "cell_type": "code",
   "execution_count": 40,
   "metadata": {
    "collapsed": true
   },
   "outputs": [],
   "source": [
    "df.drop(inplace=True,columns='experiences_offered')"
   ]
  },
  {
   "cell_type": "code",
   "execution_count": 113,
   "metadata": {},
   "outputs": [
    {
     "data": {
      "text/plain": [
       "$0.00      1554900\n",
       "$25.00      218635\n",
       "$10.00      206955\n",
       "$20.00      198925\n",
       "$15.00      162425\n",
       "$50.00       94170\n",
       "$30.00       59860\n",
       "$5.00        31025\n",
       "$35.00       30295\n",
       "$40.00       29565\n",
       "$100.00      17885\n",
       "$45.00       10585\n",
       "$75.00        8395\n",
       "$7.00         5840\n",
       "$12.00        5840\n",
       "$60.00        5110\n",
       "$17.00        4380\n",
       "$8.00         4380\n",
       "$29.00        4015\n",
       "$19.00        3285\n",
       "$49.00        3285\n",
       "$18.00        2920\n",
       "$9.00         2555\n",
       "$39.00        2555\n",
       "$70.00        2555\n",
       "$24.00        2190\n",
       "$80.00        2190\n",
       "$22.00        1825\n",
       "$200.00       1825\n",
       "$6.00         1825\n",
       "            ...   \n",
       "$150.00       1460\n",
       "$37.00        1460\n",
       "$65.00        1095\n",
       "$28.00        1095\n",
       "$27.00        1095\n",
       "$16.00        1095\n",
       "$36.00        1095\n",
       "$59.00         730\n",
       "$33.00         730\n",
       "$34.00         730\n",
       "$85.00         730\n",
       "$300.00        730\n",
       "$44.00         730\n",
       "$69.00         365\n",
       "$125.00        365\n",
       "$13.00         365\n",
       "$68.00         365\n",
       "$89.00         365\n",
       "$42.00         365\n",
       "$120.00        365\n",
       "$77.00         365\n",
       "$250.00        365\n",
       "$71.00         365\n",
       "$21.00         365\n",
       "$62.00         365\n",
       "$58.00         365\n",
       "$175.00        365\n",
       "$48.00         365\n",
       "$88.00         365\n",
       "$26.00         365\n",
       "Name: extra_people, Length: 62, dtype: int64"
      ]
     },
     "execution_count": 113,
     "metadata": {},
     "output_type": "execute_result"
    }
   ],
   "source": [
    "df['extra_people'].value_counts()"
   ]
  },
  {
   "cell_type": "markdown",
   "metadata": {},
   "source": [
    "This is a great column. We keep it."
   ]
  },
  {
   "cell_type": "code",
   "execution_count": 115,
   "metadata": {},
   "outputs": [
    {
     "data": {
      "text/plain": [
       "100%    1552710\n",
       "55%       50735\n",
       "91%       41975\n",
       "94%       41245\n",
       "98%       35405\n",
       "67%       32485\n",
       "68%       32485\n",
       "45%       29200\n",
       "99%       27375\n",
       "95%       25550\n",
       "93%       24455\n",
       "96%       20440\n",
       "81%       19710\n",
       "0%        18250\n",
       "50%       17520\n",
       "83%       16425\n",
       "89%       15330\n",
       "97%       14235\n",
       "33%       13140\n",
       "92%       12410\n",
       "88%       12410\n",
       "56%       12045\n",
       "75%       11315\n",
       "90%       11315\n",
       "36%        9855\n",
       "86%        9855\n",
       "69%        9125\n",
       "82%        8760\n",
       "80%        8760\n",
       "66%        7665\n",
       "         ...   \n",
       "79%        3650\n",
       "25%        2920\n",
       "74%        2920\n",
       "65%        2555\n",
       "58%        2190\n",
       "46%        2190\n",
       "42%        2190\n",
       "61%        1825\n",
       "19%        1825\n",
       "64%        1825\n",
       "72%        1825\n",
       "20%        1460\n",
       "30%        1095\n",
       "29%        1095\n",
       "62%        1095\n",
       "40%        1095\n",
       "38%         730\n",
       "17%         730\n",
       "54%         730\n",
       "43%         730\n",
       "53%         365\n",
       "28%         365\n",
       "51%         365\n",
       "47%         365\n",
       "52%         365\n",
       "48%         365\n",
       "59%         365\n",
       "23%         365\n",
       "18%         365\n",
       "44%         365\n",
       "Name: host_acceptance_rate, Length: 72, dtype: int64"
      ]
     },
     "execution_count": 115,
     "metadata": {},
     "output_type": "execute_result"
    }
   ],
   "source": [
    "df['host_acceptance_rate'].value_counts()"
   ]
  },
  {
   "cell_type": "code",
   "execution_count": 116,
   "metadata": {},
   "outputs": [
    {
     "data": {
      "text/plain": [
       "True     2696255\n",
       "False       5475\n",
       "Name: host_has_profile_pic, dtype: int64"
      ]
     },
     "execution_count": 116,
     "metadata": {},
     "output_type": "execute_result"
    }
   ],
   "source": [
    "df['host_has_profile_pic'].value_counts()"
   ]
  },
  {
   "cell_type": "code",
   "execution_count": 117,
   "metadata": {},
   "outputs": [
    {
     "data": {
      "text/plain": [
       "True     2044365\n",
       "False     657365\n",
       "Name: host_identity_verified, dtype: int64"
      ]
     },
     "execution_count": 117,
     "metadata": {},
     "output_type": "execute_result"
    }
   ],
   "source": [
    "df['host_identity_verified'].value_counts()"
   ]
  },
  {
   "cell_type": "code",
   "execution_count": 118,
   "metadata": {},
   "outputs": [
    {
     "data": {
      "text/plain": [
       "False    2269205\n",
       "True      432525\n",
       "Name: host_is_superhost, dtype: int64"
      ]
     },
     "execution_count": 118,
     "metadata": {},
     "output_type": "execute_result"
    }
   ],
   "source": [
    "df['host_is_superhost'].value_counts()"
   ]
  },
  {
   "cell_type": "code",
   "execution_count": 119,
   "metadata": {},
   "outputs": [
    {
     "data": {
      "text/plain": [
       "Seattle, Washington, United States                 1189900\n",
       "Boston, Massachusetts, United States                884395\n",
       "US                                                  279955\n",
       "New York, New York, United States                    43800\n",
       "Spokane, Washington, United States                   24090\n",
       "Montreal, Quebec, Canada                             21535\n",
       "Middlesex County, Massachusetts, United States       18250\n",
       "Cambridge, Massachusetts, United States              15695\n",
       "Kent, Washington, United States                      12410\n",
       "Massachusetts, United States                         10585\n",
       "Brookline, Massachusetts, United States               6935\n",
       "San Francisco, California, United States              6570\n",
       "Somerville, Massachusetts, United States              6205\n",
       "Los Angeles, California, United States                5840\n",
       "Bellevue, Washington, United States                   4380\n",
       "Milton, Massachusetts, United States                  3650\n",
       "Mercer Island, Washington, United States              3650\n",
       "Medford, Massachusetts, United States                 3650\n",
       "Kirkland, Washington, United States                   2920\n",
       "United States                                         2920\n",
       "Santa Monica, California, United States               2555\n",
       "Newton, Massachusetts, United States                  2190\n",
       "Cohasset, Massachusetts, United States                2190\n",
       "Shoreline, Washington, United States                  1825\n",
       "Waltham, Massachusetts, United States                 1825\n",
       "Miami, Florida, United States                         1825\n",
       "Vashon, Washington, United States                     1825\n",
       "Seattle                                               1825\n",
       "Belmont, Massachusetts, United States                 1825\n",
       "Washington, District of Columbia, United States       1825\n",
       "                                                    ...   \n",
       "Seattle, Washington and London, England                365\n",
       "Minneapolis, Minnesota, United States                  365\n",
       "Newburyport, Massachusetts, United States              365\n",
       "Somerset, Kentucky, United States                      365\n",
       "Chelan, Washington, United States                      365\n",
       "Edmonds, Washington, United States                     365\n",
       "Bergen, Hordaland, Norway                              365\n",
       "Ashland, Massachusetts, United States                  365\n",
       "Winston-Salem, North Carolina, United States           365\n",
       "Woburn, Massachusetts, United States                   365\n",
       "Charleston, South Carolina, United States              365\n",
       "San Isidro, Buenos Aires Province, Argentina           365\n",
       "Snohomish, Washington, United States                   365\n",
       "Redmond, Washington, United States                     365\n",
       "Austin, Texas, United States                           365\n",
       "Randolph, Massachusetts, United States                 365\n",
       "Alamosa, Colorado, United States                       365\n",
       "Santos, State of São Paulo, Brazil                     365\n",
       "Sidney, Ohio, United States                            365\n",
       "Peabody, Massachusetts, United States                  365\n",
       "Woodinville, Washington, United States                 365\n",
       "Utrecht, Utrecht, Netherlands                          365\n",
       "Washington State                                       365\n",
       "Lafayette, California, United States                   365\n",
       "Hillside, New Jersey, United States                    365\n",
       "Jaffrey, New Hampshire, United States                  365\n",
       "Anaheim, California, United States                     365\n",
       "Salt Lake City, Utah, United States                    365\n",
       "Knoxville, Tennessee, United States                    365\n",
       "IT                                                     365\n",
       "Name: host_location, Length: 277, dtype: int64"
      ]
     },
     "execution_count": 119,
     "metadata": {},
     "output_type": "execute_result"
    }
   ],
   "source": [
    "df['host_location'].value_counts()"
   ]
  },
  {
   "cell_type": "code",
   "execution_count": 121,
   "metadata": {},
   "outputs": [
    {
     "data": {
      "text/plain": [
       "Capitol Hill                 147825\n",
       "Allston-Brighton             136875\n",
       "Jamaica Plain                117165\n",
       "Back Bay                     113880\n",
       "Fenway/Kenmore               106580\n",
       "Belltown                      92710\n",
       "South End                     85045\n",
       "Dorchester                    79570\n",
       "Ballard                       76650\n",
       "South Boston                  72270\n",
       "Beacon Hill                   70810\n",
       "Minor                         69715\n",
       "Queen Anne                    68985\n",
       "Fremont                       53655\n",
       "Roxbury                       52195\n",
       "Wallingford                   48910\n",
       "North End                     45990\n",
       "Central Business District     43070\n",
       "East Boston                   41610\n",
       "North Beacon Hill             36865\n",
       "Ravenna                       36500\n",
       "Mission Hill                  35040\n",
       "Stevens                       31755\n",
       "First Hill                    31025\n",
       "West End                      29930\n",
       "University District           29200\n",
       "Greenwood                     29200\n",
       "Lower Queen Anne              27375\n",
       "Charlestown                   23725\n",
       "Columbia City                 22265\n",
       "                              ...  \n",
       "Waianae Coast                   365\n",
       "Winthrop                        365\n",
       "Downtown Toronto                365\n",
       "Central San Pedro               365\n",
       "Government Center               365\n",
       "Santa Cruz                      365\n",
       "Long Beach                      365\n",
       "Kauaʻi                          365\n",
       "Baldwin Hills                   365\n",
       "Miami Beach                     365\n",
       "North Hollywood                 365\n",
       "Midtown East                    365\n",
       "East Village                    365\n",
       "Malden                          365\n",
       "Forestland                      365\n",
       "Benton Park                     365\n",
       "Huntington Beach                365\n",
       "Sunnyvale                       365\n",
       "South Beacon Hill               365\n",
       "Roxhill                         365\n",
       "Bernal Heights                  365\n",
       "Hell's Kitchen                  365\n",
       "Coral Way                       365\n",
       "South of Nevsky                 365\n",
       "Newton                          365\n",
       "Clairemont Mesa East            365\n",
       "Pinehurst                       365\n",
       "Manhattan Beach                 365\n",
       "Beverly Hills                   365\n",
       "North College Park              365\n",
       "Name: host_neighbourhood, Length: 151, dtype: int64"
      ]
     },
     "execution_count": 121,
     "metadata": {},
     "output_type": "execute_result"
    }
   ],
   "source": [
    "df['host_neighbourhood'].value_counts()"
   ]
  },
  {
   "cell_type": "markdown",
   "metadata": {},
   "source": [
    "It seems host neighborhood is varied and not indicative of value of property. So we can delete it."
   ]
  },
  {
   "cell_type": "code",
   "execution_count": 41,
   "metadata": {
    "collapsed": true
   },
   "outputs": [],
   "source": [
    "df.drop(inplace=True,columns='host_neighbourhood')"
   ]
  },
  {
   "cell_type": "markdown",
   "metadata": {},
   "source": [
    "Regarding host location it is varied. But it would be great to see if host if found at same location as his property."
   ]
  },
  {
   "cell_type": "code",
   "execution_count": 42,
   "metadata": {
    "collapsed": true
   },
   "outputs": [],
   "source": [
    "df['host_location']=df['host_location'].fillna(\"NA\")\n",
    "df['same_location'] = df.apply(lambda x: x['city'] in x['host_location'].lower(), axis=1)"
   ]
  },
  {
   "cell_type": "code",
   "execution_count": 151,
   "metadata": {},
   "outputs": [
    {
     "data": {
      "text/plain": [
       "True     2087435\n",
       "False     615025\n",
       "Name: same_location, dtype: int64"
      ]
     },
     "execution_count": 151,
     "metadata": {},
     "output_type": "execute_result"
    }
   ],
   "source": [
    "df['same_location'].value_counts()"
   ]
  },
  {
   "cell_type": "code",
   "execution_count": 43,
   "metadata": {
    "collapsed": true
   },
   "outputs": [],
   "source": [
    "df.drop(inplace=True,columns='host_location')"
   ]
  },
  {
   "cell_type": "code",
   "execution_count": 153,
   "metadata": {},
   "outputs": [
    {
     "data": {
      "text/plain": [
       "100%    1622060\n",
       "90%       98915\n",
       "98%       81395\n",
       "80%       51830\n",
       "99%       47450\n",
       "89%       43435\n",
       "96%       43070\n",
       "94%       27010\n",
       "50%       26645\n",
       "88%       26280\n",
       "71%       25550\n",
       "97%       20805\n",
       "92%       20440\n",
       "67%       20440\n",
       "70%       17520\n",
       "75%       16790\n",
       "86%       14965\n",
       "93%       13140\n",
       "60%       12775\n",
       "95%       10950\n",
       "83%       10950\n",
       "91%        8030\n",
       "33%        7300\n",
       "79%        6570\n",
       "78%        6570\n",
       "77%        6205\n",
       "40%        6205\n",
       "73%        5840\n",
       "0%         4745\n",
       "63%        4380\n",
       "81%        3285\n",
       "69%        2920\n",
       "85%        2555\n",
       "43%        1825\n",
       "82%        1825\n",
       "64%        1460\n",
       "30%        1460\n",
       "25%        1460\n",
       "17%        1095\n",
       "36%        1095\n",
       "31%        1095\n",
       "57%        1095\n",
       "87%        1095\n",
       "76%        1095\n",
       "61%         730\n",
       "68%         730\n",
       "56%         730\n",
       "10%         730\n",
       "14%         730\n",
       "38%         730\n",
       "84%         730\n",
       "58%         730\n",
       "55%         365\n",
       "19%         365\n",
       "53%         365\n",
       "65%         365\n",
       "20%         365\n",
       "6%          365\n",
       "Name: host_response_rate, dtype: int64"
      ]
     },
     "execution_count": 153,
     "metadata": {},
     "output_type": "execute_result"
    }
   ],
   "source": [
    "df['host_response_rate'].value_counts()"
   ]
  },
  {
   "cell_type": "code",
   "execution_count": 154,
   "metadata": {},
   "outputs": [
    {
     "data": {
      "text/plain": [
       "within an hour        1123105\n",
       "within a few hours     797890\n",
       "within a day           389090\n",
       "a few days or more      29565\n",
       "Name: host_response_time, dtype: int64"
      ]
     },
     "execution_count": 154,
     "metadata": {},
     "output_type": "execute_result"
    }
   ],
   "source": [
    "df['host_response_time'].value_counts()"
   ]
  },
  {
   "cell_type": "markdown",
   "metadata": {},
   "source": [
    "response rate and response time are related to each other so we can delete one of them. I elect to delete time as it categorical and not as indicative as rate."
   ]
  },
  {
   "cell_type": "code",
   "execution_count": 44,
   "metadata": {
    "collapsed": true
   },
   "outputs": [],
   "source": [
    "df.drop(inplace=True,columns='host_response_time')"
   ]
  },
  {
   "cell_type": "code",
   "execution_count": 157,
   "metadata": {},
   "outputs": [
    {
     "data": {
      "text/plain": [
       "False    2269935\n",
       "True      432525\n",
       "Name: instant_bookable, dtype: int64"
      ]
     },
     "execution_count": 157,
     "metadata": {},
     "output_type": "execute_result"
    }
   ],
   "source": [
    "df['instant_bookable'].value_counts()"
   ]
  },
  {
   "cell_type": "code",
   "execution_count": 158,
   "metadata": {},
   "outputs": [
    {
     "data": {
      "text/plain": [
       "True     2369945\n",
       "False     332515\n",
       "Name: is_location_exact, dtype: int64"
      ]
     },
     "execution_count": 158,
     "metadata": {},
     "output_type": "execute_result"
    }
   ],
   "source": [
    "df['is_location_exact'].value_counts()"
   ]
  },
  {
   "cell_type": "code",
   "execution_count": 45,
   "metadata": {
    "collapsed": true
   },
   "outputs": [],
   "source": [
    "df.drop(inplace=True,columns='last_scraped')"
   ]
  },
  {
   "cell_type": "code",
   "execution_count": 161,
   "metadata": {},
   "outputs": [
    {
     "data": {
      "text/plain": [
       "Seattle                  1393570\n",
       "Boston                   1302685\n",
       "Other (Domestic)             365\n",
       "San Francisco                365\n",
       "Other (International)        365\n",
       "Name: market, dtype: int64"
      ]
     },
     "execution_count": 161,
     "metadata": {},
     "output_type": "execute_result"
    }
   ],
   "source": [
    "df['market'].value_counts()"
   ]
  },
  {
   "cell_type": "markdown",
   "metadata": {},
   "source": [
    "We will delete market and last scraped as we going to use city instead."
   ]
  },
  {
   "cell_type": "code",
   "execution_count": 46,
   "metadata": {
    "collapsed": true
   },
   "outputs": [],
   "source": [
    "df.drop(inplace=True,columns='market')"
   ]
  },
  {
   "cell_type": "code",
   "execution_count": 165,
   "metadata": {},
   "outputs": [
    {
     "data": {
      "text/plain": [
       "Broadway                     144905\n",
       "Jamaica Plain                125195\n",
       "South End                    118990\n",
       "Back Bay                     110230\n",
       "Fenway                       105850\n",
       "Dorchester                    98185\n",
       "Allston                       94900\n",
       "Belltown                      85410\n",
       "Brighton                      72270\n",
       "Beacon Hill                   70810\n",
       "South Boston                  63510\n",
       "Downtown                      63145\n",
       "Wallingford                   60955\n",
       "Fremont                       57670\n",
       "East Boston                   54750\n",
       "Roxbury                       52560\n",
       "North End                     52195\n",
       "Minor                         49275\n",
       "Mission Hill                  45260\n",
       "University District           44530\n",
       "Stevens                       43435\n",
       "Charlestown                   40515\n",
       "First Hill                    39420\n",
       "Central Business District     37595\n",
       "Lower Queen Anne              34310\n",
       "Greenwood                     32485\n",
       "South Boston Waterfront       30295\n",
       "East Queen Anne               29930\n",
       "North Beacon Hill             28470\n",
       "Phinney Ridge                 26645\n",
       "                              ...  \n",
       "Olympic Hills                  5840\n",
       "Haller Lake                    5475\n",
       "Victory Heights                5475\n",
       "Portage Bay                    5110\n",
       "Briarcliff                     5110\n",
       "North Beach/Blue Ridge         5110\n",
       "High Point                     5110\n",
       "Harrison/Denny-Blaine          5110\n",
       "Bitter Lake                    4745\n",
       "South Delridge                 4380\n",
       "Seaview                        4380\n",
       "Highland Park                  4015\n",
       "Interbay                       4015\n",
       "Laurelhurst                    3650\n",
       "Windermere                     3650\n",
       "Fauntleroy                     3650\n",
       "Longwood Medical Area          3285\n",
       "Meadowbrook                    3285\n",
       "Cedar Park                     2920\n",
       "Riverview                      2920\n",
       "Georgetown                     2920\n",
       "View Ridge                     2555\n",
       "Holly Park                     2190\n",
       "Industrial District            2190\n",
       "Leather District               1825\n",
       "Arbor Heights                  1825\n",
       "Pinehurst                      1460\n",
       "South Beacon Hill              1460\n",
       "South Park                     1095\n",
       "Roxhill                         730\n",
       "Name: neighbourhood_cleansed, Length: 111, dtype: int64"
      ]
     },
     "execution_count": 165,
     "metadata": {},
     "output_type": "execute_result"
    }
   ],
   "source": [
    "df['neighbourhood_cleansed'].value_counts()"
   ]
  },
  {
   "cell_type": "markdown",
   "metadata": {},
   "source": [
    "We go with neighborhood cleansed nstead of regular one"
   ]
  },
  {
   "cell_type": "code",
   "execution_count": 47,
   "metadata": {
    "collapsed": true
   },
   "outputs": [],
   "source": [
    "df.drop(inplace=True,columns='neighbourhood')"
   ]
  },
  {
   "cell_type": "code",
   "execution_count": 167,
   "metadata": {},
   "outputs": [
    {
     "data": {
      "text/plain": [
       "Apartment          1577165\n",
       "House               837675\n",
       "Condominium         117530\n",
       "Townhouse            62780\n",
       "Loft                 28835\n",
       "Bed & Breakfast      28470\n",
       "Other                14235\n",
       "Cabin                 7665\n",
       "Boat                  7300\n",
       "Camper/RV             5110\n",
       "Bungalow              4745\n",
       "Villa                 2190\n",
       "Tent                  1825\n",
       "Entire Floor          1460\n",
       "Dorm                  1460\n",
       "Treehouse             1095\n",
       "Chalet                 730\n",
       "Yurt                   365\n",
       "Guesthouse             365\n",
       "Name: property_type, dtype: int64"
      ]
     },
     "execution_count": 167,
     "metadata": {},
     "output_type": "execute_result"
    }
   ],
   "source": [
    "df['property_type'].value_counts()"
   ]
  },
  {
   "cell_type": "markdown",
   "metadata": {},
   "source": [
    "property type is categorical"
   ]
  },
  {
   "cell_type": "code",
   "execution_count": 168,
   "metadata": {},
   "outputs": [
    {
     "data": {
      "text/plain": [
       "False    2479080\n",
       "True      223380\n",
       "Name: require_guest_phone_verification, dtype: int64"
      ]
     },
     "execution_count": 168,
     "metadata": {},
     "output_type": "execute_result"
    }
   ],
   "source": [
    "df['require_guest_phone_verification'].value_counts()"
   ]
  },
  {
   "cell_type": "code",
   "execution_count": 169,
   "metadata": {},
   "outputs": [
    {
     "data": {
      "text/plain": [
       "False    2560840\n",
       "True      141620\n",
       "Name: require_guest_profile_picture, dtype: int64"
      ]
     },
     "execution_count": 169,
     "metadata": {},
     "output_type": "execute_result"
    }
   ],
   "source": [
    "df['require_guest_profile_picture'].value_counts()"
   ]
  },
  {
   "cell_type": "code",
   "execution_count": 170,
   "metadata": {},
   "outputs": [
    {
     "data": {
      "text/plain": [
       "False    2702460\n",
       "Name: requires_license, dtype: int64"
      ]
     },
     "execution_count": 170,
     "metadata": {},
     "output_type": "execute_result"
    }
   ],
   "source": [
    "df['requires_license'].value_counts()"
   ]
  },
  {
   "cell_type": "markdown",
   "metadata": {},
   "source": [
    "We can go ahead and delete this variable."
   ]
  },
  {
   "cell_type": "code",
   "execution_count": 48,
   "metadata": {
    "collapsed": true
   },
   "outputs": [],
   "source": [
    "df.drop(inplace=True,columns='requires_license')"
   ]
  },
  {
   "cell_type": "code",
   "execution_count": 172,
   "metadata": {},
   "outputs": [
    {
     "data": {
      "text/plain": [
       "Entire home/apt    1704185\n",
       "Private room        926370\n",
       "Shared room          71905\n",
       "Name: room_type, dtype: int64"
      ]
     },
     "execution_count": 172,
     "metadata": {},
     "output_type": "execute_result"
    }
   ],
   "source": [
    "df['room_type'].value_counts()"
   ]
  },
  {
   "cell_type": "markdown",
   "metadata": {},
   "source": [
    "Categorical and important"
   ]
  },
  {
   "cell_type": "code",
   "execution_count": 51,
   "metadata": {},
   "outputs": [
    {
     "data": {
      "text/plain": [
       "0          seattle\n",
       "1          seattle\n",
       "2          seattle\n",
       "3          seattle\n",
       "4          seattle\n",
       "5          seattle\n",
       "6          seattle\n",
       "7          seattle\n",
       "8          seattle\n",
       "9          seattle\n",
       "10         seattle\n",
       "11         seattle\n",
       "12         seattle\n",
       "13         seattle\n",
       "14         seattle\n",
       "15         seattle\n",
       "16         seattle\n",
       "17         seattle\n",
       "18         seattle\n",
       "19         seattle\n",
       "20         seattle\n",
       "21         seattle\n",
       "22         seattle\n",
       "23         seattle\n",
       "24         seattle\n",
       "25         seattle\n",
       "26         seattle\n",
       "27         seattle\n",
       "28         seattle\n",
       "29         seattle\n",
       "            ...   \n",
       "2702430     boston\n",
       "2702431     boston\n",
       "2702432     boston\n",
       "2702433     boston\n",
       "2702434     boston\n",
       "2702435     boston\n",
       "2702436     boston\n",
       "2702437     boston\n",
       "2702438     boston\n",
       "2702439     boston\n",
       "2702440     boston\n",
       "2702441     boston\n",
       "2702442     boston\n",
       "2702443     boston\n",
       "2702444     boston\n",
       "2702445     boston\n",
       "2702446     boston\n",
       "2702447     boston\n",
       "2702448     boston\n",
       "2702449     boston\n",
       "2702450     boston\n",
       "2702451     boston\n",
       "2702452     boston\n",
       "2702453     boston\n",
       "2702454     boston\n",
       "2702455     boston\n",
       "2702456     boston\n",
       "2702457     boston\n",
       "2702458     boston\n",
       "2702459     boston\n",
       "Name: city, Length: 2702460, dtype: object"
      ]
     },
     "execution_count": 51,
     "metadata": {},
     "output_type": "execute_result"
    }
   ],
   "source": [
    "df['smart_location'].value_counts()\n",
    "df['city']"
   ]
  },
  {
   "cell_type": "code",
   "execution_count": 52,
   "metadata": {
    "collapsed": true
   },
   "outputs": [],
   "source": [
    "df.drop(inplace=True,columns='smart_location')"
   ]
  },
  {
   "cell_type": "markdown",
   "metadata": {},
   "source": [
    "Now, let's take columns we know are not object and convert them"
   ]
  },
  {
   "cell_type": "code",
   "execution_count": 53,
   "metadata": {},
   "outputs": [
    {
     "data": {
      "text/plain": [
       "Index(['amenities', 'bed_type', 'calendar_updated', 'cancellation_policy',\n",
       "       'city', 'cleaning_fee', 'date', 'extra_people', 'first_review',\n",
       "       'host_acceptance_rate', 'host_has_profile_pic',\n",
       "       'host_identity_verified', 'host_is_superhost', 'host_response_rate',\n",
       "       'host_since', 'host_verifications', 'last_review', 'monthly_price',\n",
       "       'neighbourhood_cleansed', 'price_x', 'property_type', 'room_type',\n",
       "       'security_deposit', 'weekly_price', 'scratch'],\n",
       "      dtype='object')"
      ]
     },
     "execution_count": 53,
     "metadata": {},
     "output_type": "execute_result"
    }
   ],
   "source": [
    "str_col = df.select_dtypes('object').columns\n",
    "str_col"
   ]
  },
  {
   "cell_type": "markdown",
   "metadata": {},
   "source": [
    "We convert following to int: cleaning fee, extra people, monthly price, price_x, security_deposit, weekly price and not forget to change name of price_x to price.\n",
    "We convert the following to boolean: host_has_profile_pic,host_identity_verified,host_is_superhost\n",
    "And to float, we convert: host_response_rate.\n",
    "We already filled missing values so we can go ahead and convert."
   ]
  },
  {
   "cell_type": "code",
   "execution_count": 54,
   "metadata": {
    "collapsed": true
   },
   "outputs": [],
   "source": [
    "df['price']=df['price_x']\n",
    "df.drop(inplace=True,columns='price_x')"
   ]
  },
  {
   "cell_type": "code",
   "execution_count": 517,
   "metadata": {
    "collapsed": true
   },
   "outputs": [],
   "source": [
    "df.to_pickle('./clean_data.pkl')"
   ]
  },
  {
   "cell_type": "code",
   "execution_count": 55,
   "metadata": {
    "collapsed": true
   },
   "outputs": [],
   "source": [
    "df['cleaning_fee']=df['cleaning_fee'].replace('[$,]','',regex=True).astype(float).astype(int)\n",
    "df['extra_people']=df['extra_people'].replace('[$,]','',regex=True).astype(float).astype(int)\n",
    "df['monthly_price']=df['monthly_price'].replace('[$,]','',regex=True).astype(float).astype(int)\n",
    "df['weekly_price']=df['weekly_price'].replace('[$,]','',regex=True).astype(float).astype(int)\n",
    "df['price']=df['price'].replace('[$,]','',regex=True).astype(float).astype(int)\n",
    "df['security_deposit']=df['security_deposit'].replace('[$,]','',regex=True).astype(float).astype(int)\n"
   ]
  },
  {
   "cell_type": "code",
   "execution_count": 367,
   "metadata": {},
   "outputs": [
    {
     "data": {
      "text/plain": [
       "Index(['amenities', 'bed_type', 'calendar_updated', 'cancellation_policy',\n",
       "       'city', 'date', 'first_review', 'host_has_profile_pic',\n",
       "       'host_identity_verified', 'host_is_superhost', 'host_response_rate',\n",
       "       'host_since', 'host_verifications', 'last_review',\n",
       "       'neighbourhood_cleansed', 'property_type', 'room_type'],\n",
       "      dtype='object')"
      ]
     },
     "execution_count": 367,
     "metadata": {},
     "output_type": "execute_result"
    }
   ],
   "source": [
    "str_col = df.select_dtypes('object').columns\n",
    "str_col"
   ]
  },
  {
   "cell_type": "code",
   "execution_count": 56,
   "metadata": {},
   "outputs": [
    {
     "data": {
      "text/plain": [
       "0          False\n",
       "1          False\n",
       "2          False\n",
       "3          False\n",
       "4          False\n",
       "5          False\n",
       "6          False\n",
       "7          False\n",
       "8          False\n",
       "9          False\n",
       "10         False\n",
       "11         False\n",
       "12         False\n",
       "13         False\n",
       "14         False\n",
       "15         False\n",
       "16         False\n",
       "17         False\n",
       "18         False\n",
       "19         False\n",
       "20         False\n",
       "21         False\n",
       "22         False\n",
       "23         False\n",
       "24         False\n",
       "25         False\n",
       "26         False\n",
       "27         False\n",
       "28         False\n",
       "29         False\n",
       "           ...  \n",
       "2702430    False\n",
       "2702431    False\n",
       "2702432    False\n",
       "2702433    False\n",
       "2702434    False\n",
       "2702435    False\n",
       "2702436    False\n",
       "2702437    False\n",
       "2702438    False\n",
       "2702439    False\n",
       "2702440    False\n",
       "2702441    False\n",
       "2702442    False\n",
       "2702443    False\n",
       "2702444    False\n",
       "2702445    False\n",
       "2702446    False\n",
       "2702447    False\n",
       "2702448    False\n",
       "2702449    False\n",
       "2702450    False\n",
       "2702451    False\n",
       "2702452    False\n",
       "2702453    False\n",
       "2702454    False\n",
       "2702455    False\n",
       "2702456    False\n",
       "2702457    False\n",
       "2702458    False\n",
       "2702459    False\n",
       "Name: host_is_superhost, Length: 2702460, dtype: bool"
      ]
     },
     "execution_count": 56,
     "metadata": {},
     "output_type": "execute_result"
    }
   ],
   "source": [
    "df['host_has_profile_pic'].astype(bool)\n",
    "df['host_identity_verified'].astype(bool)\n",
    "df['host_is_superhost'].astype(bool)"
   ]
  },
  {
   "cell_type": "code",
   "execution_count": 57,
   "metadata": {},
   "outputs": [
    {
     "data": {
      "text/plain": [
       "0          1.00\n",
       "1          1.00\n",
       "2          1.00\n",
       "3          1.00\n",
       "4          1.00\n",
       "5          1.00\n",
       "6          1.00\n",
       "7          1.00\n",
       "8          1.00\n",
       "9          1.00\n",
       "10         1.00\n",
       "11         1.00\n",
       "12         1.00\n",
       "13         1.00\n",
       "14         1.00\n",
       "15         1.00\n",
       "16         1.00\n",
       "17         1.00\n",
       "18         1.00\n",
       "19         1.00\n",
       "20         1.00\n",
       "21         1.00\n",
       "22         1.00\n",
       "23         1.00\n",
       "24         1.00\n",
       "25         1.00\n",
       "26         1.00\n",
       "27         1.00\n",
       "28         1.00\n",
       "29         1.00\n",
       "           ... \n",
       "2702430    0.95\n",
       "2702431    0.95\n",
       "2702432    0.95\n",
       "2702433    0.95\n",
       "2702434    0.95\n",
       "2702435    0.95\n",
       "2702436    0.95\n",
       "2702437    0.95\n",
       "2702438    0.95\n",
       "2702439    0.95\n",
       "2702440    0.95\n",
       "2702441    0.95\n",
       "2702442    0.95\n",
       "2702443    0.95\n",
       "2702444    0.95\n",
       "2702445    0.95\n",
       "2702446    0.95\n",
       "2702447    0.95\n",
       "2702448    0.95\n",
       "2702449    0.95\n",
       "2702450    0.95\n",
       "2702451    0.95\n",
       "2702452    0.95\n",
       "2702453    0.95\n",
       "2702454    0.95\n",
       "2702455    0.95\n",
       "2702456    0.95\n",
       "2702457    0.95\n",
       "2702458    0.95\n",
       "2702459    0.95\n",
       "Name: host_acceptance_rate, Length: 2702460, dtype: float64"
      ]
     },
     "execution_count": 57,
     "metadata": {},
     "output_type": "execute_result"
    }
   ],
   "source": [
    "df['host_acceptance_rate']=df['host_acceptance_rate'].replace('[%]','',regex=True).astype(float)/100\n",
    "df['host_acceptance_rate']"
   ]
  },
  {
   "cell_type": "markdown",
   "metadata": {},
   "source": [
    "Now, we work with missing values"
   ]
  },
  {
   "cell_type": "code",
   "execution_count": 219,
   "metadata": {},
   "outputs": [
    {
     "data": {
      "text/plain": [
       "0          NaN\n",
       "1          NaN\n",
       "2          NaN\n",
       "3          NaN\n",
       "4          NaN\n",
       "5          NaN\n",
       "6          NaN\n",
       "7          NaN\n",
       "8          NaN\n",
       "9          NaN\n",
       "10         NaN\n",
       "11         NaN\n",
       "12         NaN\n",
       "13         NaN\n",
       "14         NaN\n",
       "15         NaN\n",
       "16         NaN\n",
       "17         NaN\n",
       "18         NaN\n",
       "19         NaN\n",
       "20         NaN\n",
       "21         NaN\n",
       "22         NaN\n",
       "23         NaN\n",
       "24         NaN\n",
       "25         NaN\n",
       "26         NaN\n",
       "27         NaN\n",
       "28         NaN\n",
       "29         NaN\n",
       "          ... \n",
       "2702430    NaN\n",
       "2702431    NaN\n",
       "2702432    NaN\n",
       "2702433    NaN\n",
       "2702434    NaN\n",
       "2702435    NaN\n",
       "2702436    NaN\n",
       "2702437    NaN\n",
       "2702438    NaN\n",
       "2702439    NaN\n",
       "2702440    NaN\n",
       "2702441    NaN\n",
       "2702442    NaN\n",
       "2702443    NaN\n",
       "2702444    NaN\n",
       "2702445    NaN\n",
       "2702446    NaN\n",
       "2702447    NaN\n",
       "2702448    NaN\n",
       "2702449    NaN\n",
       "2702450    NaN\n",
       "2702451    NaN\n",
       "2702452    NaN\n",
       "2702453    NaN\n",
       "2702454    NaN\n",
       "2702455    NaN\n",
       "2702456    NaN\n",
       "2702457    NaN\n",
       "2702458    NaN\n",
       "2702459    NaN\n",
       "Name: weekly_price, Length: 2702460, dtype: object"
      ]
     },
     "execution_count": 219,
     "metadata": {},
     "output_type": "execute_result"
    }
   ],
   "source": []
  },
  {
   "cell_type": "code",
   "execution_count": 521,
   "metadata": {},
   "outputs": [
    {
     "data": {
      "text/plain": [
       "Index(['bathrooms', 'bedrooms', 'beds', 'first_review', 'host_acceptance_rate',\n",
       "       'host_has_profile_pic', 'host_identity_verified', 'host_is_superhost',\n",
       "       'host_listings_count', 'host_response_rate', 'host_since',\n",
       "       'host_total_listings_count', 'last_review', 'property_type',\n",
       "       'review_scores_accuracy', 'review_scores_checkin',\n",
       "       'review_scores_cleanliness', 'review_scores_communication',\n",
       "       'review_scores_location', 'review_scores_rating', 'review_scores_value',\n",
       "       'reviews_per_month'],\n",
       "      dtype='object')"
      ]
     },
     "execution_count": 521,
     "metadata": {},
     "output_type": "execute_result"
    }
   ],
   "source": [
    "df_miss = df.columns[(df.count()/len(df)) < 1]\n",
    "df_miss"
   ]
  },
  {
   "cell_type": "code",
   "execution_count": 269,
   "metadata": {},
   "outputs": [
    {
     "data": {
      "text/plain": [
       "10.0    1719150\n",
       "9.0      345655\n",
       "8.0       69350\n",
       "7.0       11680\n",
       "6.0        9855\n",
       "4.0        4015\n",
       "2.0        1825\n",
       "5.0        1095\n",
       "Name: review_scores_checkin, dtype: int64"
      ]
     },
     "execution_count": 269,
     "metadata": {},
     "output_type": "execute_result"
    }
   ],
   "source": [
    "df['review_scores_checkin'].value_counts()"
   ]
  },
  {
   "cell_type": "markdown",
   "metadata": {},
   "source": [
    "For review_scores_accuracy, we can fill empty values with 0 to indicate low accuracy."
   ]
  },
  {
   "cell_type": "code",
   "execution_count": 58,
   "metadata": {
    "collapsed": true
   },
   "outputs": [],
   "source": [
    "df['review_scores_accuracy'].fillna(inplace=True,value=0)"
   ]
  },
  {
   "cell_type": "code",
   "execution_count": 59,
   "metadata": {
    "collapsed": true
   },
   "outputs": [],
   "source": [
    "df['review_scores_checkin'].fillna(inplace=True,value=0)"
   ]
  },
  {
   "cell_type": "code",
   "execution_count": 60,
   "metadata": {
    "collapsed": true
   },
   "outputs": [],
   "source": [
    "df['review_scores_cleanliness'].fillna(inplace=True,value=0)"
   ]
  },
  {
   "cell_type": "code",
   "execution_count": 61,
   "metadata": {
    "collapsed": true
   },
   "outputs": [],
   "source": [
    "df['review_scores_communication'].fillna(inplace=True,value=0)"
   ]
  },
  {
   "cell_type": "code",
   "execution_count": 62,
   "metadata": {
    "collapsed": true
   },
   "outputs": [],
   "source": [
    "df['review_scores_location'].fillna(inplace=True,value=0)"
   ]
  },
  {
   "cell_type": "code",
   "execution_count": 63,
   "metadata": {
    "collapsed": true
   },
   "outputs": [],
   "source": [
    "df['review_scores_rating'].fillna(inplace=True,value=0)"
   ]
  },
  {
   "cell_type": "code",
   "execution_count": 64,
   "metadata": {
    "collapsed": true
   },
   "outputs": [],
   "source": [
    "df['review_scores_value'].fillna(inplace=True,value=0)"
   ]
  },
  {
   "cell_type": "code",
   "execution_count": 65,
   "metadata": {
    "collapsed": true
   },
   "outputs": [],
   "source": [
    "df['reviews_per_month'].fillna(inplace=True,value=0)"
   ]
  },
  {
   "cell_type": "code",
   "execution_count": 530,
   "metadata": {},
   "outputs": [
    {
     "data": {
      "text/plain": [
       "Index(['bathrooms', 'bedrooms', 'beds', 'first_review', 'host_acceptance_rate',\n",
       "       'host_has_profile_pic', 'host_identity_verified', 'host_is_superhost',\n",
       "       'host_listings_count', 'host_response_rate', 'host_since',\n",
       "       'host_total_listings_count', 'last_review', 'property_type'],\n",
       "      dtype='object')"
      ]
     },
     "execution_count": 530,
     "metadata": {},
     "output_type": "execute_result"
    }
   ],
   "source": [
    "df_miss = df.columns[(df.count()/len(df)) < 1]\n",
    "df_miss"
   ]
  },
  {
   "cell_type": "markdown",
   "metadata": {},
   "source": [
    "We need to answer the question, how many rows we have that contain missing values."
   ]
  },
  {
   "cell_type": "code",
   "execution_count": 293,
   "metadata": {},
   "outputs": [
    {
     "data": {
      "text/plain": [
       "(2702460, 58)"
      ]
     },
     "execution_count": 293,
     "metadata": {},
     "output_type": "execute_result"
    }
   ],
   "source": [
    "df.shape"
   ]
  },
  {
   "cell_type": "code",
   "execution_count": 296,
   "metadata": {},
   "outputs": [
    {
     "data": {
      "text/plain": [
       "0.2922744462452728"
      ]
     },
     "execution_count": 296,
     "metadata": {},
     "output_type": "execute_result"
    }
   ],
   "source": [
    "df.isnull().any(axis=1).sum()/df.shape[0]"
   ]
  },
  {
   "cell_type": "markdown",
   "metadata": {},
   "source": [
    "So, the problem is that 30% of our rows contain missing values. So, we can't just delete them."
   ]
  },
  {
   "cell_type": "code",
   "execution_count": 311,
   "metadata": {},
   "outputs": [
    {
     "data": {
      "text/plain": [
       "0.9994597514856834"
      ]
     },
     "execution_count": 311,
     "metadata": {},
     "output_type": "execute_result"
    }
   ],
   "source": [
    "df['property_type'].count()/len(df['property_type'])"
   ]
  },
  {
   "cell_type": "markdown",
   "metadata": {},
   "source": [
    "99% of data with in bathrooms, beds, bedrooms, profile pic, verification do not have missing values. Before confirming deletion, we will see how many rows we dropped if it is a low number we go ahead with it."
   ]
  },
  {
   "cell_type": "code",
   "execution_count": 313,
   "metadata": {},
   "outputs": [
    {
     "data": {
      "text/plain": [
       "0.9997298757428417"
      ]
     },
     "execution_count": 313,
     "metadata": {},
     "output_type": "execute_result"
    }
   ],
   "source": [
    "df['host_total_listings_count'].count()/len(df['host_total_listings_count'])"
   ]
  },
  {
   "cell_type": "code",
   "execution_count": 314,
   "metadata": {},
   "outputs": [
    {
     "data": {
      "text/plain": [
       "0.9997298757428417"
      ]
     },
     "execution_count": 314,
     "metadata": {},
     "output_type": "execute_result"
    }
   ],
   "source": [
    "df['host_since'].count()/len(df['host_since'])"
   ]
  },
  {
   "cell_type": "code",
   "execution_count": 316,
   "metadata": {},
   "outputs": [
    {
     "data": {
      "text/plain": [
       "0.9997298757428417"
      ]
     },
     "execution_count": 316,
     "metadata": {},
     "output_type": "execute_result"
    }
   ],
   "source": [
    "df['host_listings_count'].count()/len(df['host_listings_count'])"
   ]
  },
  {
   "cell_type": "code",
   "execution_count": 317,
   "metadata": {},
   "outputs": [
    {
     "data": {
      "text/plain": [
       "0.9997298757428417"
      ]
     },
     "execution_count": 317,
     "metadata": {},
     "output_type": "execute_result"
    }
   ],
   "source": [
    "df['host_is_superhost'].count()/len(df['host_is_superhost'])"
   ]
  },
  {
   "cell_type": "code",
   "execution_count": 318,
   "metadata": {},
   "outputs": [
    {
     "data": {
      "text/plain": [
       "0.9997298757428417"
      ]
     },
     "execution_count": 318,
     "metadata": {},
     "output_type": "execute_result"
    }
   ],
   "source": [
    "df['host_identity_verified'].count()/len(df['host_identity_verified'])"
   ]
  },
  {
   "cell_type": "code",
   "execution_count": 319,
   "metadata": {},
   "outputs": [
    {
     "data": {
      "text/plain": [
       "0.9997298757428417"
      ]
     },
     "execution_count": 319,
     "metadata": {},
     "output_type": "execute_result"
    }
   ],
   "source": [
    "df['host_has_profile_pic'].count()/len(df['host_has_profile_pic'])"
   ]
  },
  {
   "cell_type": "code",
   "execution_count": 66,
   "metadata": {
    "collapsed": true
   },
   "outputs": [],
   "source": [
    "df.to_pickle('./clean_data.pkl')"
   ]
  },
  {
   "cell_type": "code",
   "execution_count": 67,
   "metadata": {
    "collapsed": true
   },
   "outputs": [],
   "source": [
    "df.dropna(inplace=True,subset=['host_has_profile_pic','host_identity_verified','host_is_superhost','host_listings_count','host_since','host_total_listings_count','property_type','bathrooms','bedrooms','beds'])"
   ]
  },
  {
   "cell_type": "code",
   "execution_count": 535,
   "metadata": {},
   "outputs": [
    {
     "data": {
      "text/plain": [
       "0.9997759151684178"
      ]
     },
     "execution_count": 535,
     "metadata": {},
     "output_type": "execute_result"
    }
   ],
   "source": [
    "(df.shape[0]-df_new.shape[0])/df.shape[0]"
   ]
  },
  {
   "cell_type": "markdown",
   "metadata": {},
   "source": [
    "As you see, this is almost 0% of data. So, we will continue with df_new. But we need to handle missing values in other columns."
   ]
  },
  {
   "cell_type": "code",
   "execution_count": 537,
   "metadata": {},
   "outputs": [
    {
     "data": {
      "text/plain": [
       "Index(['first_review', 'host_acceptance_rate', 'host_response_rate',\n",
       "       'last_review'],\n",
       "      dtype='object')"
      ]
     },
     "execution_count": 537,
     "metadata": {},
     "output_type": "execute_result"
    }
   ],
   "source": [
    "df_miss = df.columns[(df.count()/len(df)) < 1]\n",
    "df_miss"
   ]
  },
  {
   "cell_type": "code",
   "execution_count": 328,
   "metadata": {},
   "outputs": [
    {
     "data": {
      "text/plain": [
       "2016-09-05    42705\n",
       "2016-09-01    38690\n",
       "2016-01-02    35040\n",
       "2015-11-29    34310\n",
       "2016-08-28    34310\n",
       "2015-12-01    33945\n",
       "2016-01-01    32485\n",
       "2016-08-29    28470\n",
       "2015-12-30    28470\n",
       "2015-12-29    28105\n",
       "2016-08-21    27740\n",
       "2016-08-22    27375\n",
       "2015-12-20    27375\n",
       "2016-09-04    26645\n",
       "2016-09-02    24455\n",
       "2016-09-06    23360\n",
       "2016-08-31    22995\n",
       "2015-12-28    22630\n",
       "2015-12-31    21170\n",
       "2015-12-21    20805\n",
       "2016-09-03    19345\n",
       "2015-12-14    19345\n",
       "2016-08-30    18980\n",
       "2015-12-27    18980\n",
       "2016-08-19    18615\n",
       "2015-12-22    18615\n",
       "2016-08-20    17520\n",
       "2015-10-19    17520\n",
       "2016-08-12    17155\n",
       "2016-08-08    17155\n",
       "              ...  \n",
       "2015-04-20      365\n",
       "2014-10-09      365\n",
       "2016-02-16      365\n",
       "2014-05-22      365\n",
       "2014-08-12      365\n",
       "2014-06-12      365\n",
       "2014-04-17      365\n",
       "2015-01-02      365\n",
       "2012-10-04      365\n",
       "2015-07-10      365\n",
       "2016-01-18      365\n",
       "2014-07-10      365\n",
       "2012-11-30      365\n",
       "2016-01-13      365\n",
       "2016-02-05      365\n",
       "2015-06-10      365\n",
       "2015-06-24      365\n",
       "2015-05-17      365\n",
       "2015-06-04      365\n",
       "2014-06-19      365\n",
       "2013-07-02      365\n",
       "2015-07-04      365\n",
       "2013-11-08      365\n",
       "2015-01-11      365\n",
       "2015-04-09      365\n",
       "2015-06-30      365\n",
       "2013-12-02      365\n",
       "2013-10-18      365\n",
       "2016-05-03      365\n",
       "2015-03-09      365\n",
       "Name: last_review, Length: 576, dtype: int64"
      ]
     },
     "execution_count": 328,
     "metadata": {},
     "output_type": "execute_result"
    }
   ],
   "source": [
    "df['last_review'].value_counts()"
   ]
  },
  {
   "cell_type": "code",
   "execution_count": 343,
   "metadata": {},
   "outputs": [
    {
     "data": {
      "text/plain": [
       "Index(['accommodates', 'amenities', 'availability_30', 'availability_365',\n",
       "       'availability_60', 'availability_90', 'available', 'bathrooms',\n",
       "       'bed_type', 'bedrooms', 'beds', 'calculated_host_listings_count',\n",
       "       'calendar_updated', 'cancellation_policy', 'city', 'cleaning_fee',\n",
       "       'date', 'extra_people', 'first_review', 'guests_included',\n",
       "       'has_availability', 'host_acceptance_rate', 'host_has_profile_pic',\n",
       "       'host_id', 'host_identity_verified', 'host_is_superhost',\n",
       "       'host_listings_count', 'host_response_rate', 'host_since',\n",
       "       'host_total_listings_count', 'host_verifications', 'instant_bookable',\n",
       "       'is_location_exact', 'last_review', 'maximum_nights', 'minimum_nights',\n",
       "       'monthly_price', 'neighbourhood_cleansed', 'number_of_reviews',\n",
       "       'property_type', 'require_guest_phone_verification',\n",
       "       'require_guest_profile_picture', 'review_scores_accuracy',\n",
       "       'review_scores_checkin', 'review_scores_cleanliness',\n",
       "       'review_scores_communication', 'review_scores_location',\n",
       "       'review_scores_rating', 'review_scores_value', 'reviews_per_month',\n",
       "       'room_type', 'scrape_id', 'security_deposit', 'weekly_price', 'price'],\n",
       "      dtype='object')"
      ]
     },
     "execution_count": 343,
     "metadata": {},
     "output_type": "execute_result"
    }
   ],
   "source": [
    "df.columns"
   ]
  },
  {
   "cell_type": "code",
   "execution_count": 68,
   "metadata": {
    "collapsed": true
   },
   "outputs": [],
   "source": [
    "df.drop(inplace=True,columns='id')"
   ]
  },
  {
   "cell_type": "markdown",
   "metadata": {},
   "source": [
    "We can delete longitude and latitude as it too specific and we want to focus on neighborhood rather than exact location."
   ]
  },
  {
   "cell_type": "code",
   "execution_count": 69,
   "metadata": {
    "collapsed": true
   },
   "outputs": [],
   "source": [
    "df.drop(inplace=True,columns=['latitude','longitude'])"
   ]
  },
  {
   "cell_type": "code",
   "execution_count": 70,
   "metadata": {
    "collapsed": true
   },
   "outputs": [],
   "source": [
    "df.drop(inplace=True,columns='scrape_id')"
   ]
  },
  {
   "cell_type": "markdown",
   "metadata": {},
   "source": [
    "We are almost having a clean dataframe."
   ]
  },
  {
   "cell_type": "code",
   "execution_count": 542,
   "metadata": {},
   "outputs": [
    {
     "data": {
      "text/plain": [
       "Index(['first_review', 'host_acceptance_rate', 'host_response_rate',\n",
       "       'last_review'],\n",
       "      dtype='object')"
      ]
     },
     "execution_count": 542,
     "metadata": {},
     "output_type": "execute_result"
    }
   ],
   "source": [
    "df_miss = df.columns[(df.count()/len(df)) < 1]\n",
    "df_miss"
   ]
  },
  {
   "cell_type": "code",
   "execution_count": 351,
   "metadata": {},
   "outputs": [
    {
     "data": {
      "text/plain": [
       "4912"
      ]
     },
     "execution_count": 351,
     "metadata": {},
     "output_type": "execute_result"
    }
   ],
   "source": [
    "len(df_new.groupby('host_id')['host_acceptance_rate'].count()==0)"
   ]
  },
  {
   "cell_type": "markdown",
   "metadata": {},
   "source": [
    "We can see that host acceptance rate is not fully empty. If we group by host id, we see there are only around 5000 datapoints with no host acceptance rate. Moreover, we could just get average acceptance rate rather than having variations in value."
   ]
  },
  {
   "cell_type": "code",
   "execution_count": 71,
   "metadata": {
    "collapsed": true
   },
   "outputs": [],
   "source": [
    "df.to_pickle('./clean_data.pkl')"
   ]
  },
  {
   "cell_type": "code",
   "execution_count": 28,
   "metadata": {
    "collapsed": true
   },
   "outputs": [],
   "source": [
    "df = pd.read_pickle('./clean_data.pkl')\n"
   ]
  },
  {
   "cell_type": "code",
   "execution_count": 585,
   "metadata": {},
   "outputs": [
    {
     "data": {
      "text/plain": [
       "Index(['bathrooms', 'bedrooms', 'beds', 'host_acceptance_rate',\n",
       "       'host_listings_count', 'host_total_listings_count',\n",
       "       'review_scores_accuracy', 'review_scores_checkin',\n",
       "       'review_scores_cleanliness', 'review_scores_communication',\n",
       "       'review_scores_location', 'review_scores_rating', 'review_scores_value',\n",
       "       'reviews_per_month'],\n",
       "      dtype='object')"
      ]
     },
     "execution_count": 585,
     "metadata": {},
     "output_type": "execute_result"
    }
   ],
   "source": [
    "df.select_dtypes('float').columns"
   ]
  },
  {
   "cell_type": "code",
   "execution_count": 72,
   "metadata": {},
   "outputs": [
    {
     "data": {
      "text/plain": [
       "1.000000    1527525\n",
       "0.556522      50370\n",
       "0.450000      25185\n",
       "0.750000      23360\n",
       "0.680000      22265\n",
       "0.980000      20805\n",
       "0.000000      18250\n",
       "0.910000      18250\n",
       "0.500000      17520\n",
       "0.670000      16425\n",
       "0.830000      11315\n",
       "0.750000      11315\n",
       "0.930000       8760\n",
       "0.810000       8760\n",
       "0.860000       8030\n",
       "0.960000       8030\n",
       "0.680000       8030\n",
       "0.940000       8030\n",
       "0.880000       7665\n",
       "0.910000       7300\n",
       "0.940000       7300\n",
       "0.920000       7300\n",
       "0.930000       7300\n",
       "0.910000       6935\n",
       "0.660000       6935\n",
       "0.950000       6570\n",
       "0.800000       6205\n",
       "0.810000       6205\n",
       "0.940000       5840\n",
       "0.330000       5840\n",
       "             ...   \n",
       "0.600000        730\n",
       "0.430000        730\n",
       "0.840000        730\n",
       "0.360000        730\n",
       "0.790000        730\n",
       "0.170000        730\n",
       "0.720000        730\n",
       "0.380000        730\n",
       "0.330000        730\n",
       "0.200000        730\n",
       "0.420000        730\n",
       "0.660000        730\n",
       "0.760000        730\n",
       "0.990000        730\n",
       "0.460000        730\n",
       "0.200000        730\n",
       "0.650000        365\n",
       "0.530000        365\n",
       "0.480000        365\n",
       "0.440000        365\n",
       "0.280000        365\n",
       "0.180000        365\n",
       "0.520000        365\n",
       "0.450000        365\n",
       "0.840000        365\n",
       "0.590000        365\n",
       "0.680000        365\n",
       "0.230000        365\n",
       "0.510000        365\n",
       "0.470000        365\n",
       "Name: host_avg_acceptance_rate, Length: 186, dtype: int64"
      ]
     },
     "execution_count": 72,
     "metadata": {},
     "output_type": "execute_result"
    }
   ],
   "source": [
    "df['host_avg_acceptance_rate']=df.groupby('host_id')['host_acceptance_rate'].transform('mean')\n",
    "df['host_avg_acceptance_rate'].value_counts()"
   ]
  },
  {
   "cell_type": "code",
   "execution_count": 588,
   "metadata": {},
   "outputs": [
    {
     "data": {
      "text/plain": [
       "2230880"
      ]
     },
     "execution_count": 588,
     "metadata": {},
     "output_type": "execute_result"
    }
   ],
   "source": [
    "df['host_avg_acceptance_rate'].count()"
   ]
  },
  {
   "cell_type": "code",
   "execution_count": 589,
   "metadata": {},
   "outputs": [
    {
     "data": {
      "text/plain": [
       "(2682020, 57)"
      ]
     },
     "execution_count": 589,
     "metadata": {},
     "output_type": "execute_result"
    }
   ],
   "source": [
    "df.shape"
   ]
  },
  {
   "cell_type": "markdown",
   "metadata": {},
   "source": [
    "The problem with acceptance rate is that 40,000 values are nan. "
   ]
  },
  {
   "cell_type": "code",
   "execution_count": 547,
   "metadata": {},
   "outputs": [
    {
     "data": {
      "text/plain": [
       "Index(['first_review', 'host_acceptance_rate', 'host_response_rate',\n",
       "       'last_review', 'host_avg_acceptance_rate'],\n",
       "      dtype='object')"
      ]
     },
     "execution_count": 547,
     "metadata": {},
     "output_type": "execute_result"
    }
   ],
   "source": [
    "df_miss = df.columns[(df.count()/len(df)) < 1]\n",
    "df_miss"
   ]
  },
  {
   "cell_type": "code",
   "execution_count": 356,
   "metadata": {},
   "outputs": [
    {
     "data": {
      "text/plain": [
       "0.00022408483158216567"
      ]
     },
     "execution_count": 356,
     "metadata": {},
     "output_type": "execute_result"
    }
   ],
   "source": [
    "df_new['host_avg_acceptance_rate'].count()/len(df_new['host_avg_acceptance_rate'])"
   ]
  },
  {
   "cell_type": "markdown",
   "metadata": {},
   "source": [
    "We can delete values with empty value as it almost 0%."
   ]
  },
  {
   "cell_type": "code",
   "execution_count": 73,
   "metadata": {
    "collapsed": true
   },
   "outputs": [],
   "source": [
    "df.drop(inplace=True,columns='host_acceptance_rate')\n"
   ]
  },
  {
   "cell_type": "code",
   "execution_count": 75,
   "metadata": {
    "collapsed": true
   },
   "outputs": [],
   "source": [
    "# problematic\n",
    "df.dropna(inplace=True,subset=['host_avg_acceptance_rate'])"
   ]
  },
  {
   "cell_type": "code",
   "execution_count": 76,
   "metadata": {},
   "outputs": [
    {
     "data": {
      "text/plain": [
       "(2230880, 56)"
      ]
     },
     "execution_count": 76,
     "metadata": {},
     "output_type": "execute_result"
    }
   ],
   "source": [
    "df.shape"
   ]
  },
  {
   "cell_type": "markdown",
   "metadata": {},
   "source": [
    "Samewise will be done to host response rate."
   ]
  },
  {
   "cell_type": "code",
   "execution_count": 77,
   "metadata": {
    "collapsed": true
   },
   "outputs": [],
   "source": [
    "df['host_response_rate']=df['host_response_rate'].replace('[%]','',regex=True)\n",
    "df['host_response_rate']=df['host_response_rate'].astype(float)\n",
    "df['host_avg_response_rate']=df.groupby('host_id')['host_response_rate'].transform('mean')\n"
   ]
  },
  {
   "cell_type": "code",
   "execution_count": 597,
   "metadata": {},
   "outputs": [
    {
     "data": {
      "text/plain": [
       "0.9970549738219895"
      ]
     },
     "execution_count": 597,
     "metadata": {},
     "output_type": "execute_result"
    }
   ],
   "source": [
    "df['host_avg_response_rate'].count()/len(df['host_avg_response_rate'])"
   ]
  },
  {
   "cell_type": "markdown",
   "metadata": {},
   "source": [
    "We can go ahead and delete nan values in host average response rate."
   ]
  },
  {
   "cell_type": "code",
   "execution_count": 596,
   "metadata": {},
   "outputs": [
    {
     "data": {
      "text/html": [
       "<div>\n",
       "<style scoped>\n",
       "    .dataframe tbody tr th:only-of-type {\n",
       "        vertical-align: middle;\n",
       "    }\n",
       "\n",
       "    .dataframe tbody tr th {\n",
       "        vertical-align: top;\n",
       "    }\n",
       "\n",
       "    .dataframe thead th {\n",
       "        text-align: right;\n",
       "    }\n",
       "</style>\n",
       "<table border=\"1\" class=\"dataframe\">\n",
       "  <thead>\n",
       "    <tr style=\"text-align: right;\">\n",
       "      <th></th>\n",
       "      <th>accommodates</th>\n",
       "      <th>amenities</th>\n",
       "      <th>availability_30</th>\n",
       "      <th>availability_365</th>\n",
       "      <th>availability_60</th>\n",
       "      <th>availability_90</th>\n",
       "      <th>available</th>\n",
       "      <th>bathrooms</th>\n",
       "      <th>bed_type</th>\n",
       "      <th>bedrooms</th>\n",
       "      <th>...</th>\n",
       "      <th>review_scores_value</th>\n",
       "      <th>reviews_per_month</th>\n",
       "      <th>room_type</th>\n",
       "      <th>security_deposit</th>\n",
       "      <th>weekly_price</th>\n",
       "      <th>scratch</th>\n",
       "      <th>same_location</th>\n",
       "      <th>price</th>\n",
       "      <th>host_avg_acceptance_rate</th>\n",
       "      <th>host_avg_response_rate</th>\n",
       "    </tr>\n",
       "  </thead>\n",
       "  <tbody>\n",
       "    <tr>\n",
       "      <th>1440655</th>\n",
       "      <td>6</td>\n",
       "      <td>{TV,\"Cable TV\",Internet,\"Wireless Internet\",\"A...</td>\n",
       "      <td>30</td>\n",
       "      <td>353</td>\n",
       "      <td>48</td>\n",
       "      <td>78</td>\n",
       "      <td>True</td>\n",
       "      <td>3.0</td>\n",
       "      <td>Real Bed</td>\n",
       "      <td>3.0</td>\n",
       "      <td>...</td>\n",
       "      <td>10.0</td>\n",
       "      <td>0.13</td>\n",
       "      <td>Entire home/apt</td>\n",
       "      <td>0</td>\n",
       "      <td>2500</td>\n",
       "      <td>1</td>\n",
       "      <td>False</td>\n",
       "      <td>450</td>\n",
       "      <td>1.0</td>\n",
       "      <td>0.0</td>\n",
       "    </tr>\n",
       "    <tr>\n",
       "      <th>1440656</th>\n",
       "      <td>6</td>\n",
       "      <td>{TV,\"Cable TV\",Internet,\"Wireless Internet\",\"A...</td>\n",
       "      <td>30</td>\n",
       "      <td>353</td>\n",
       "      <td>48</td>\n",
       "      <td>78</td>\n",
       "      <td>True</td>\n",
       "      <td>3.0</td>\n",
       "      <td>Real Bed</td>\n",
       "      <td>3.0</td>\n",
       "      <td>...</td>\n",
       "      <td>10.0</td>\n",
       "      <td>0.13</td>\n",
       "      <td>Entire home/apt</td>\n",
       "      <td>0</td>\n",
       "      <td>2500</td>\n",
       "      <td>1</td>\n",
       "      <td>False</td>\n",
       "      <td>450</td>\n",
       "      <td>1.0</td>\n",
       "      <td>0.0</td>\n",
       "    </tr>\n",
       "    <tr>\n",
       "      <th>1440657</th>\n",
       "      <td>6</td>\n",
       "      <td>{TV,\"Cable TV\",Internet,\"Wireless Internet\",\"A...</td>\n",
       "      <td>30</td>\n",
       "      <td>353</td>\n",
       "      <td>48</td>\n",
       "      <td>78</td>\n",
       "      <td>True</td>\n",
       "      <td>3.0</td>\n",
       "      <td>Real Bed</td>\n",
       "      <td>3.0</td>\n",
       "      <td>...</td>\n",
       "      <td>10.0</td>\n",
       "      <td>0.13</td>\n",
       "      <td>Entire home/apt</td>\n",
       "      <td>0</td>\n",
       "      <td>2500</td>\n",
       "      <td>1</td>\n",
       "      <td>False</td>\n",
       "      <td>450</td>\n",
       "      <td>1.0</td>\n",
       "      <td>0.0</td>\n",
       "    </tr>\n",
       "    <tr>\n",
       "      <th>1440658</th>\n",
       "      <td>6</td>\n",
       "      <td>{TV,\"Cable TV\",Internet,\"Wireless Internet\",\"A...</td>\n",
       "      <td>30</td>\n",
       "      <td>353</td>\n",
       "      <td>48</td>\n",
       "      <td>78</td>\n",
       "      <td>True</td>\n",
       "      <td>3.0</td>\n",
       "      <td>Real Bed</td>\n",
       "      <td>3.0</td>\n",
       "      <td>...</td>\n",
       "      <td>10.0</td>\n",
       "      <td>0.13</td>\n",
       "      <td>Entire home/apt</td>\n",
       "      <td>0</td>\n",
       "      <td>2500</td>\n",
       "      <td>1</td>\n",
       "      <td>False</td>\n",
       "      <td>450</td>\n",
       "      <td>1.0</td>\n",
       "      <td>0.0</td>\n",
       "    </tr>\n",
       "    <tr>\n",
       "      <th>1440659</th>\n",
       "      <td>6</td>\n",
       "      <td>{TV,\"Cable TV\",Internet,\"Wireless Internet\",\"A...</td>\n",
       "      <td>30</td>\n",
       "      <td>353</td>\n",
       "      <td>48</td>\n",
       "      <td>78</td>\n",
       "      <td>True</td>\n",
       "      <td>3.0</td>\n",
       "      <td>Real Bed</td>\n",
       "      <td>3.0</td>\n",
       "      <td>...</td>\n",
       "      <td>10.0</td>\n",
       "      <td>0.13</td>\n",
       "      <td>Entire home/apt</td>\n",
       "      <td>0</td>\n",
       "      <td>2500</td>\n",
       "      <td>1</td>\n",
       "      <td>False</td>\n",
       "      <td>450</td>\n",
       "      <td>1.0</td>\n",
       "      <td>0.0</td>\n",
       "    </tr>\n",
       "    <tr>\n",
       "      <th>1440660</th>\n",
       "      <td>6</td>\n",
       "      <td>{TV,\"Cable TV\",Internet,\"Wireless Internet\",\"A...</td>\n",
       "      <td>30</td>\n",
       "      <td>353</td>\n",
       "      <td>48</td>\n",
       "      <td>78</td>\n",
       "      <td>True</td>\n",
       "      <td>3.0</td>\n",
       "      <td>Real Bed</td>\n",
       "      <td>3.0</td>\n",
       "      <td>...</td>\n",
       "      <td>10.0</td>\n",
       "      <td>0.13</td>\n",
       "      <td>Entire home/apt</td>\n",
       "      <td>0</td>\n",
       "      <td>2500</td>\n",
       "      <td>1</td>\n",
       "      <td>False</td>\n",
       "      <td>450</td>\n",
       "      <td>1.0</td>\n",
       "      <td>0.0</td>\n",
       "    </tr>\n",
       "    <tr>\n",
       "      <th>1440661</th>\n",
       "      <td>6</td>\n",
       "      <td>{TV,\"Cable TV\",Internet,\"Wireless Internet\",\"A...</td>\n",
       "      <td>30</td>\n",
       "      <td>353</td>\n",
       "      <td>48</td>\n",
       "      <td>78</td>\n",
       "      <td>True</td>\n",
       "      <td>3.0</td>\n",
       "      <td>Real Bed</td>\n",
       "      <td>3.0</td>\n",
       "      <td>...</td>\n",
       "      <td>10.0</td>\n",
       "      <td>0.13</td>\n",
       "      <td>Entire home/apt</td>\n",
       "      <td>0</td>\n",
       "      <td>2500</td>\n",
       "      <td>1</td>\n",
       "      <td>False</td>\n",
       "      <td>450</td>\n",
       "      <td>1.0</td>\n",
       "      <td>0.0</td>\n",
       "    </tr>\n",
       "    <tr>\n",
       "      <th>1440662</th>\n",
       "      <td>6</td>\n",
       "      <td>{TV,\"Cable TV\",Internet,\"Wireless Internet\",\"A...</td>\n",
       "      <td>30</td>\n",
       "      <td>353</td>\n",
       "      <td>48</td>\n",
       "      <td>78</td>\n",
       "      <td>True</td>\n",
       "      <td>3.0</td>\n",
       "      <td>Real Bed</td>\n",
       "      <td>3.0</td>\n",
       "      <td>...</td>\n",
       "      <td>10.0</td>\n",
       "      <td>0.13</td>\n",
       "      <td>Entire home/apt</td>\n",
       "      <td>0</td>\n",
       "      <td>2500</td>\n",
       "      <td>1</td>\n",
       "      <td>False</td>\n",
       "      <td>450</td>\n",
       "      <td>1.0</td>\n",
       "      <td>0.0</td>\n",
       "    </tr>\n",
       "    <tr>\n",
       "      <th>1440663</th>\n",
       "      <td>6</td>\n",
       "      <td>{TV,\"Cable TV\",Internet,\"Wireless Internet\",\"A...</td>\n",
       "      <td>30</td>\n",
       "      <td>353</td>\n",
       "      <td>48</td>\n",
       "      <td>78</td>\n",
       "      <td>True</td>\n",
       "      <td>3.0</td>\n",
       "      <td>Real Bed</td>\n",
       "      <td>3.0</td>\n",
       "      <td>...</td>\n",
       "      <td>10.0</td>\n",
       "      <td>0.13</td>\n",
       "      <td>Entire home/apt</td>\n",
       "      <td>0</td>\n",
       "      <td>2500</td>\n",
       "      <td>1</td>\n",
       "      <td>False</td>\n",
       "      <td>450</td>\n",
       "      <td>1.0</td>\n",
       "      <td>0.0</td>\n",
       "    </tr>\n",
       "    <tr>\n",
       "      <th>1440664</th>\n",
       "      <td>6</td>\n",
       "      <td>{TV,\"Cable TV\",Internet,\"Wireless Internet\",\"A...</td>\n",
       "      <td>30</td>\n",
       "      <td>353</td>\n",
       "      <td>48</td>\n",
       "      <td>78</td>\n",
       "      <td>True</td>\n",
       "      <td>3.0</td>\n",
       "      <td>Real Bed</td>\n",
       "      <td>3.0</td>\n",
       "      <td>...</td>\n",
       "      <td>10.0</td>\n",
       "      <td>0.13</td>\n",
       "      <td>Entire home/apt</td>\n",
       "      <td>0</td>\n",
       "      <td>2500</td>\n",
       "      <td>1</td>\n",
       "      <td>False</td>\n",
       "      <td>450</td>\n",
       "      <td>1.0</td>\n",
       "      <td>0.0</td>\n",
       "    </tr>\n",
       "    <tr>\n",
       "      <th>1440665</th>\n",
       "      <td>6</td>\n",
       "      <td>{TV,\"Cable TV\",Internet,\"Wireless Internet\",\"A...</td>\n",
       "      <td>30</td>\n",
       "      <td>353</td>\n",
       "      <td>48</td>\n",
       "      <td>78</td>\n",
       "      <td>True</td>\n",
       "      <td>3.0</td>\n",
       "      <td>Real Bed</td>\n",
       "      <td>3.0</td>\n",
       "      <td>...</td>\n",
       "      <td>10.0</td>\n",
       "      <td>0.13</td>\n",
       "      <td>Entire home/apt</td>\n",
       "      <td>0</td>\n",
       "      <td>2500</td>\n",
       "      <td>1</td>\n",
       "      <td>False</td>\n",
       "      <td>450</td>\n",
       "      <td>1.0</td>\n",
       "      <td>0.0</td>\n",
       "    </tr>\n",
       "    <tr>\n",
       "      <th>1440666</th>\n",
       "      <td>6</td>\n",
       "      <td>{TV,\"Cable TV\",Internet,\"Wireless Internet\",\"A...</td>\n",
       "      <td>30</td>\n",
       "      <td>353</td>\n",
       "      <td>48</td>\n",
       "      <td>78</td>\n",
       "      <td>True</td>\n",
       "      <td>3.0</td>\n",
       "      <td>Real Bed</td>\n",
       "      <td>3.0</td>\n",
       "      <td>...</td>\n",
       "      <td>10.0</td>\n",
       "      <td>0.13</td>\n",
       "      <td>Entire home/apt</td>\n",
       "      <td>0</td>\n",
       "      <td>2500</td>\n",
       "      <td>1</td>\n",
       "      <td>False</td>\n",
       "      <td>450</td>\n",
       "      <td>1.0</td>\n",
       "      <td>0.0</td>\n",
       "    </tr>\n",
       "    <tr>\n",
       "      <th>1440667</th>\n",
       "      <td>6</td>\n",
       "      <td>{TV,\"Cable TV\",Internet,\"Wireless Internet\",\"A...</td>\n",
       "      <td>30</td>\n",
       "      <td>353</td>\n",
       "      <td>48</td>\n",
       "      <td>78</td>\n",
       "      <td>True</td>\n",
       "      <td>3.0</td>\n",
       "      <td>Real Bed</td>\n",
       "      <td>3.0</td>\n",
       "      <td>...</td>\n",
       "      <td>10.0</td>\n",
       "      <td>0.13</td>\n",
       "      <td>Entire home/apt</td>\n",
       "      <td>0</td>\n",
       "      <td>2500</td>\n",
       "      <td>1</td>\n",
       "      <td>False</td>\n",
       "      <td>450</td>\n",
       "      <td>1.0</td>\n",
       "      <td>0.0</td>\n",
       "    </tr>\n",
       "    <tr>\n",
       "      <th>1440668</th>\n",
       "      <td>6</td>\n",
       "      <td>{TV,\"Cable TV\",Internet,\"Wireless Internet\",\"A...</td>\n",
       "      <td>30</td>\n",
       "      <td>353</td>\n",
       "      <td>48</td>\n",
       "      <td>78</td>\n",
       "      <td>True</td>\n",
       "      <td>3.0</td>\n",
       "      <td>Real Bed</td>\n",
       "      <td>3.0</td>\n",
       "      <td>...</td>\n",
       "      <td>10.0</td>\n",
       "      <td>0.13</td>\n",
       "      <td>Entire home/apt</td>\n",
       "      <td>0</td>\n",
       "      <td>2500</td>\n",
       "      <td>1</td>\n",
       "      <td>False</td>\n",
       "      <td>450</td>\n",
       "      <td>1.0</td>\n",
       "      <td>0.0</td>\n",
       "    </tr>\n",
       "    <tr>\n",
       "      <th>1440669</th>\n",
       "      <td>6</td>\n",
       "      <td>{TV,\"Cable TV\",Internet,\"Wireless Internet\",\"A...</td>\n",
       "      <td>30</td>\n",
       "      <td>353</td>\n",
       "      <td>48</td>\n",
       "      <td>78</td>\n",
       "      <td>True</td>\n",
       "      <td>3.0</td>\n",
       "      <td>Real Bed</td>\n",
       "      <td>3.0</td>\n",
       "      <td>...</td>\n",
       "      <td>10.0</td>\n",
       "      <td>0.13</td>\n",
       "      <td>Entire home/apt</td>\n",
       "      <td>0</td>\n",
       "      <td>2500</td>\n",
       "      <td>1</td>\n",
       "      <td>False</td>\n",
       "      <td>450</td>\n",
       "      <td>1.0</td>\n",
       "      <td>0.0</td>\n",
       "    </tr>\n",
       "    <tr>\n",
       "      <th>1440670</th>\n",
       "      <td>6</td>\n",
       "      <td>{TV,\"Cable TV\",Internet,\"Wireless Internet\",\"A...</td>\n",
       "      <td>30</td>\n",
       "      <td>353</td>\n",
       "      <td>48</td>\n",
       "      <td>78</td>\n",
       "      <td>True</td>\n",
       "      <td>3.0</td>\n",
       "      <td>Real Bed</td>\n",
       "      <td>3.0</td>\n",
       "      <td>...</td>\n",
       "      <td>10.0</td>\n",
       "      <td>0.13</td>\n",
       "      <td>Entire home/apt</td>\n",
       "      <td>0</td>\n",
       "      <td>2500</td>\n",
       "      <td>1</td>\n",
       "      <td>False</td>\n",
       "      <td>450</td>\n",
       "      <td>1.0</td>\n",
       "      <td>0.0</td>\n",
       "    </tr>\n",
       "    <tr>\n",
       "      <th>1440671</th>\n",
       "      <td>6</td>\n",
       "      <td>{TV,\"Cable TV\",Internet,\"Wireless Internet\",\"A...</td>\n",
       "      <td>30</td>\n",
       "      <td>353</td>\n",
       "      <td>48</td>\n",
       "      <td>78</td>\n",
       "      <td>True</td>\n",
       "      <td>3.0</td>\n",
       "      <td>Real Bed</td>\n",
       "      <td>3.0</td>\n",
       "      <td>...</td>\n",
       "      <td>10.0</td>\n",
       "      <td>0.13</td>\n",
       "      <td>Entire home/apt</td>\n",
       "      <td>0</td>\n",
       "      <td>2500</td>\n",
       "      <td>1</td>\n",
       "      <td>False</td>\n",
       "      <td>450</td>\n",
       "      <td>1.0</td>\n",
       "      <td>0.0</td>\n",
       "    </tr>\n",
       "    <tr>\n",
       "      <th>1440672</th>\n",
       "      <td>6</td>\n",
       "      <td>{TV,\"Cable TV\",Internet,\"Wireless Internet\",\"A...</td>\n",
       "      <td>30</td>\n",
       "      <td>353</td>\n",
       "      <td>48</td>\n",
       "      <td>78</td>\n",
       "      <td>True</td>\n",
       "      <td>3.0</td>\n",
       "      <td>Real Bed</td>\n",
       "      <td>3.0</td>\n",
       "      <td>...</td>\n",
       "      <td>10.0</td>\n",
       "      <td>0.13</td>\n",
       "      <td>Entire home/apt</td>\n",
       "      <td>0</td>\n",
       "      <td>2500</td>\n",
       "      <td>1</td>\n",
       "      <td>False</td>\n",
       "      <td>450</td>\n",
       "      <td>1.0</td>\n",
       "      <td>0.0</td>\n",
       "    </tr>\n",
       "    <tr>\n",
       "      <th>1440673</th>\n",
       "      <td>6</td>\n",
       "      <td>{TV,\"Cable TV\",Internet,\"Wireless Internet\",\"A...</td>\n",
       "      <td>30</td>\n",
       "      <td>353</td>\n",
       "      <td>48</td>\n",
       "      <td>78</td>\n",
       "      <td>True</td>\n",
       "      <td>3.0</td>\n",
       "      <td>Real Bed</td>\n",
       "      <td>3.0</td>\n",
       "      <td>...</td>\n",
       "      <td>10.0</td>\n",
       "      <td>0.13</td>\n",
       "      <td>Entire home/apt</td>\n",
       "      <td>0</td>\n",
       "      <td>2500</td>\n",
       "      <td>1</td>\n",
       "      <td>False</td>\n",
       "      <td>450</td>\n",
       "      <td>1.0</td>\n",
       "      <td>0.0</td>\n",
       "    </tr>\n",
       "    <tr>\n",
       "      <th>1440674</th>\n",
       "      <td>6</td>\n",
       "      <td>{TV,\"Cable TV\",Internet,\"Wireless Internet\",\"A...</td>\n",
       "      <td>30</td>\n",
       "      <td>353</td>\n",
       "      <td>48</td>\n",
       "      <td>78</td>\n",
       "      <td>True</td>\n",
       "      <td>3.0</td>\n",
       "      <td>Real Bed</td>\n",
       "      <td>3.0</td>\n",
       "      <td>...</td>\n",
       "      <td>10.0</td>\n",
       "      <td>0.13</td>\n",
       "      <td>Entire home/apt</td>\n",
       "      <td>0</td>\n",
       "      <td>2500</td>\n",
       "      <td>1</td>\n",
       "      <td>False</td>\n",
       "      <td>450</td>\n",
       "      <td>1.0</td>\n",
       "      <td>0.0</td>\n",
       "    </tr>\n",
       "    <tr>\n",
       "      <th>1440675</th>\n",
       "      <td>6</td>\n",
       "      <td>{TV,\"Cable TV\",Internet,\"Wireless Internet\",\"A...</td>\n",
       "      <td>30</td>\n",
       "      <td>353</td>\n",
       "      <td>48</td>\n",
       "      <td>78</td>\n",
       "      <td>True</td>\n",
       "      <td>3.0</td>\n",
       "      <td>Real Bed</td>\n",
       "      <td>3.0</td>\n",
       "      <td>...</td>\n",
       "      <td>10.0</td>\n",
       "      <td>0.13</td>\n",
       "      <td>Entire home/apt</td>\n",
       "      <td>0</td>\n",
       "      <td>2500</td>\n",
       "      <td>1</td>\n",
       "      <td>False</td>\n",
       "      <td>450</td>\n",
       "      <td>1.0</td>\n",
       "      <td>0.0</td>\n",
       "    </tr>\n",
       "    <tr>\n",
       "      <th>1440676</th>\n",
       "      <td>6</td>\n",
       "      <td>{TV,\"Cable TV\",Internet,\"Wireless Internet\",\"A...</td>\n",
       "      <td>30</td>\n",
       "      <td>353</td>\n",
       "      <td>48</td>\n",
       "      <td>78</td>\n",
       "      <td>True</td>\n",
       "      <td>3.0</td>\n",
       "      <td>Real Bed</td>\n",
       "      <td>3.0</td>\n",
       "      <td>...</td>\n",
       "      <td>10.0</td>\n",
       "      <td>0.13</td>\n",
       "      <td>Entire home/apt</td>\n",
       "      <td>0</td>\n",
       "      <td>2500</td>\n",
       "      <td>1</td>\n",
       "      <td>False</td>\n",
       "      <td>450</td>\n",
       "      <td>1.0</td>\n",
       "      <td>0.0</td>\n",
       "    </tr>\n",
       "    <tr>\n",
       "      <th>1440677</th>\n",
       "      <td>6</td>\n",
       "      <td>{TV,\"Cable TV\",Internet,\"Wireless Internet\",\"A...</td>\n",
       "      <td>30</td>\n",
       "      <td>353</td>\n",
       "      <td>48</td>\n",
       "      <td>78</td>\n",
       "      <td>True</td>\n",
       "      <td>3.0</td>\n",
       "      <td>Real Bed</td>\n",
       "      <td>3.0</td>\n",
       "      <td>...</td>\n",
       "      <td>10.0</td>\n",
       "      <td>0.13</td>\n",
       "      <td>Entire home/apt</td>\n",
       "      <td>0</td>\n",
       "      <td>2500</td>\n",
       "      <td>1</td>\n",
       "      <td>False</td>\n",
       "      <td>450</td>\n",
       "      <td>1.0</td>\n",
       "      <td>0.0</td>\n",
       "    </tr>\n",
       "    <tr>\n",
       "      <th>1440678</th>\n",
       "      <td>6</td>\n",
       "      <td>{TV,\"Cable TV\",Internet,\"Wireless Internet\",\"A...</td>\n",
       "      <td>30</td>\n",
       "      <td>353</td>\n",
       "      <td>48</td>\n",
       "      <td>78</td>\n",
       "      <td>True</td>\n",
       "      <td>3.0</td>\n",
       "      <td>Real Bed</td>\n",
       "      <td>3.0</td>\n",
       "      <td>...</td>\n",
       "      <td>10.0</td>\n",
       "      <td>0.13</td>\n",
       "      <td>Entire home/apt</td>\n",
       "      <td>0</td>\n",
       "      <td>2500</td>\n",
       "      <td>1</td>\n",
       "      <td>False</td>\n",
       "      <td>450</td>\n",
       "      <td>1.0</td>\n",
       "      <td>0.0</td>\n",
       "    </tr>\n",
       "    <tr>\n",
       "      <th>1440679</th>\n",
       "      <td>6</td>\n",
       "      <td>{TV,\"Cable TV\",Internet,\"Wireless Internet\",\"A...</td>\n",
       "      <td>30</td>\n",
       "      <td>353</td>\n",
       "      <td>48</td>\n",
       "      <td>78</td>\n",
       "      <td>True</td>\n",
       "      <td>3.0</td>\n",
       "      <td>Real Bed</td>\n",
       "      <td>3.0</td>\n",
       "      <td>...</td>\n",
       "      <td>10.0</td>\n",
       "      <td>0.13</td>\n",
       "      <td>Entire home/apt</td>\n",
       "      <td>0</td>\n",
       "      <td>2500</td>\n",
       "      <td>1</td>\n",
       "      <td>False</td>\n",
       "      <td>450</td>\n",
       "      <td>1.0</td>\n",
       "      <td>0.0</td>\n",
       "    </tr>\n",
       "    <tr>\n",
       "      <th>1440680</th>\n",
       "      <td>6</td>\n",
       "      <td>{TV,\"Cable TV\",Internet,\"Wireless Internet\",\"A...</td>\n",
       "      <td>30</td>\n",
       "      <td>353</td>\n",
       "      <td>48</td>\n",
       "      <td>78</td>\n",
       "      <td>True</td>\n",
       "      <td>3.0</td>\n",
       "      <td>Real Bed</td>\n",
       "      <td>3.0</td>\n",
       "      <td>...</td>\n",
       "      <td>10.0</td>\n",
       "      <td>0.13</td>\n",
       "      <td>Entire home/apt</td>\n",
       "      <td>0</td>\n",
       "      <td>2500</td>\n",
       "      <td>1</td>\n",
       "      <td>False</td>\n",
       "      <td>450</td>\n",
       "      <td>1.0</td>\n",
       "      <td>0.0</td>\n",
       "    </tr>\n",
       "    <tr>\n",
       "      <th>1440681</th>\n",
       "      <td>6</td>\n",
       "      <td>{TV,\"Cable TV\",Internet,\"Wireless Internet\",\"A...</td>\n",
       "      <td>30</td>\n",
       "      <td>353</td>\n",
       "      <td>48</td>\n",
       "      <td>78</td>\n",
       "      <td>True</td>\n",
       "      <td>3.0</td>\n",
       "      <td>Real Bed</td>\n",
       "      <td>3.0</td>\n",
       "      <td>...</td>\n",
       "      <td>10.0</td>\n",
       "      <td>0.13</td>\n",
       "      <td>Entire home/apt</td>\n",
       "      <td>0</td>\n",
       "      <td>2500</td>\n",
       "      <td>1</td>\n",
       "      <td>False</td>\n",
       "      <td>450</td>\n",
       "      <td>1.0</td>\n",
       "      <td>0.0</td>\n",
       "    </tr>\n",
       "    <tr>\n",
       "      <th>1440682</th>\n",
       "      <td>6</td>\n",
       "      <td>{TV,\"Cable TV\",Internet,\"Wireless Internet\",\"A...</td>\n",
       "      <td>30</td>\n",
       "      <td>353</td>\n",
       "      <td>48</td>\n",
       "      <td>78</td>\n",
       "      <td>True</td>\n",
       "      <td>3.0</td>\n",
       "      <td>Real Bed</td>\n",
       "      <td>3.0</td>\n",
       "      <td>...</td>\n",
       "      <td>10.0</td>\n",
       "      <td>0.13</td>\n",
       "      <td>Entire home/apt</td>\n",
       "      <td>0</td>\n",
       "      <td>2500</td>\n",
       "      <td>1</td>\n",
       "      <td>False</td>\n",
       "      <td>450</td>\n",
       "      <td>1.0</td>\n",
       "      <td>0.0</td>\n",
       "    </tr>\n",
       "    <tr>\n",
       "      <th>1440683</th>\n",
       "      <td>6</td>\n",
       "      <td>{TV,\"Cable TV\",Internet,\"Wireless Internet\",\"A...</td>\n",
       "      <td>30</td>\n",
       "      <td>353</td>\n",
       "      <td>48</td>\n",
       "      <td>78</td>\n",
       "      <td>True</td>\n",
       "      <td>3.0</td>\n",
       "      <td>Real Bed</td>\n",
       "      <td>3.0</td>\n",
       "      <td>...</td>\n",
       "      <td>10.0</td>\n",
       "      <td>0.13</td>\n",
       "      <td>Entire home/apt</td>\n",
       "      <td>0</td>\n",
       "      <td>2500</td>\n",
       "      <td>1</td>\n",
       "      <td>False</td>\n",
       "      <td>450</td>\n",
       "      <td>1.0</td>\n",
       "      <td>0.0</td>\n",
       "    </tr>\n",
       "    <tr>\n",
       "      <th>1440684</th>\n",
       "      <td>6</td>\n",
       "      <td>{TV,\"Cable TV\",Internet,\"Wireless Internet\",\"A...</td>\n",
       "      <td>30</td>\n",
       "      <td>353</td>\n",
       "      <td>48</td>\n",
       "      <td>78</td>\n",
       "      <td>True</td>\n",
       "      <td>3.0</td>\n",
       "      <td>Real Bed</td>\n",
       "      <td>3.0</td>\n",
       "      <td>...</td>\n",
       "      <td>10.0</td>\n",
       "      <td>0.13</td>\n",
       "      <td>Entire home/apt</td>\n",
       "      <td>0</td>\n",
       "      <td>2500</td>\n",
       "      <td>1</td>\n",
       "      <td>False</td>\n",
       "      <td>450</td>\n",
       "      <td>1.0</td>\n",
       "      <td>0.0</td>\n",
       "    </tr>\n",
       "    <tr>\n",
       "      <th>...</th>\n",
       "      <td>...</td>\n",
       "      <td>...</td>\n",
       "      <td>...</td>\n",
       "      <td>...</td>\n",
       "      <td>...</td>\n",
       "      <td>...</td>\n",
       "      <td>...</td>\n",
       "      <td>...</td>\n",
       "      <td>...</td>\n",
       "      <td>...</td>\n",
       "      <td>...</td>\n",
       "      <td>...</td>\n",
       "      <td>...</td>\n",
       "      <td>...</td>\n",
       "      <td>...</td>\n",
       "      <td>...</td>\n",
       "      <td>...</td>\n",
       "      <td>...</td>\n",
       "      <td>...</td>\n",
       "      <td>...</td>\n",
       "      <td>...</td>\n",
       "    </tr>\n",
       "    <tr>\n",
       "      <th>2596580</th>\n",
       "      <td>1</td>\n",
       "      <td>{TV,\"Air Conditioning\",Kitchen,Heating,Washer,...</td>\n",
       "      <td>0</td>\n",
       "      <td>0</td>\n",
       "      <td>0</td>\n",
       "      <td>0</td>\n",
       "      <td>False</td>\n",
       "      <td>1.0</td>\n",
       "      <td>Real Bed</td>\n",
       "      <td>1.0</td>\n",
       "      <td>...</td>\n",
       "      <td>0.0</td>\n",
       "      <td>0.00</td>\n",
       "      <td>Private room</td>\n",
       "      <td>0</td>\n",
       "      <td>0</td>\n",
       "      <td>16</td>\n",
       "      <td>False</td>\n",
       "      <td>33</td>\n",
       "      <td>1.0</td>\n",
       "      <td>0.0</td>\n",
       "    </tr>\n",
       "    <tr>\n",
       "      <th>2596581</th>\n",
       "      <td>1</td>\n",
       "      <td>{TV,\"Air Conditioning\",Kitchen,Heating,Washer,...</td>\n",
       "      <td>0</td>\n",
       "      <td>0</td>\n",
       "      <td>0</td>\n",
       "      <td>0</td>\n",
       "      <td>False</td>\n",
       "      <td>1.0</td>\n",
       "      <td>Real Bed</td>\n",
       "      <td>1.0</td>\n",
       "      <td>...</td>\n",
       "      <td>0.0</td>\n",
       "      <td>0.00</td>\n",
       "      <td>Private room</td>\n",
       "      <td>0</td>\n",
       "      <td>0</td>\n",
       "      <td>16</td>\n",
       "      <td>False</td>\n",
       "      <td>33</td>\n",
       "      <td>1.0</td>\n",
       "      <td>0.0</td>\n",
       "    </tr>\n",
       "    <tr>\n",
       "      <th>2596582</th>\n",
       "      <td>1</td>\n",
       "      <td>{TV,\"Air Conditioning\",Kitchen,Heating,Washer,...</td>\n",
       "      <td>0</td>\n",
       "      <td>0</td>\n",
       "      <td>0</td>\n",
       "      <td>0</td>\n",
       "      <td>False</td>\n",
       "      <td>1.0</td>\n",
       "      <td>Real Bed</td>\n",
       "      <td>1.0</td>\n",
       "      <td>...</td>\n",
       "      <td>0.0</td>\n",
       "      <td>0.00</td>\n",
       "      <td>Private room</td>\n",
       "      <td>0</td>\n",
       "      <td>0</td>\n",
       "      <td>16</td>\n",
       "      <td>False</td>\n",
       "      <td>33</td>\n",
       "      <td>1.0</td>\n",
       "      <td>0.0</td>\n",
       "    </tr>\n",
       "    <tr>\n",
       "      <th>2596583</th>\n",
       "      <td>1</td>\n",
       "      <td>{TV,\"Air Conditioning\",Kitchen,Heating,Washer,...</td>\n",
       "      <td>0</td>\n",
       "      <td>0</td>\n",
       "      <td>0</td>\n",
       "      <td>0</td>\n",
       "      <td>False</td>\n",
       "      <td>1.0</td>\n",
       "      <td>Real Bed</td>\n",
       "      <td>1.0</td>\n",
       "      <td>...</td>\n",
       "      <td>0.0</td>\n",
       "      <td>0.00</td>\n",
       "      <td>Private room</td>\n",
       "      <td>0</td>\n",
       "      <td>0</td>\n",
       "      <td>16</td>\n",
       "      <td>False</td>\n",
       "      <td>33</td>\n",
       "      <td>1.0</td>\n",
       "      <td>0.0</td>\n",
       "    </tr>\n",
       "    <tr>\n",
       "      <th>2596584</th>\n",
       "      <td>1</td>\n",
       "      <td>{TV,\"Air Conditioning\",Kitchen,Heating,Washer,...</td>\n",
       "      <td>0</td>\n",
       "      <td>0</td>\n",
       "      <td>0</td>\n",
       "      <td>0</td>\n",
       "      <td>False</td>\n",
       "      <td>1.0</td>\n",
       "      <td>Real Bed</td>\n",
       "      <td>1.0</td>\n",
       "      <td>...</td>\n",
       "      <td>0.0</td>\n",
       "      <td>0.00</td>\n",
       "      <td>Private room</td>\n",
       "      <td>0</td>\n",
       "      <td>0</td>\n",
       "      <td>16</td>\n",
       "      <td>False</td>\n",
       "      <td>33</td>\n",
       "      <td>1.0</td>\n",
       "      <td>0.0</td>\n",
       "    </tr>\n",
       "    <tr>\n",
       "      <th>2596585</th>\n",
       "      <td>1</td>\n",
       "      <td>{TV,\"Air Conditioning\",Kitchen,Heating,Washer,...</td>\n",
       "      <td>0</td>\n",
       "      <td>0</td>\n",
       "      <td>0</td>\n",
       "      <td>0</td>\n",
       "      <td>False</td>\n",
       "      <td>1.0</td>\n",
       "      <td>Real Bed</td>\n",
       "      <td>1.0</td>\n",
       "      <td>...</td>\n",
       "      <td>0.0</td>\n",
       "      <td>0.00</td>\n",
       "      <td>Private room</td>\n",
       "      <td>0</td>\n",
       "      <td>0</td>\n",
       "      <td>16</td>\n",
       "      <td>False</td>\n",
       "      <td>33</td>\n",
       "      <td>1.0</td>\n",
       "      <td>0.0</td>\n",
       "    </tr>\n",
       "    <tr>\n",
       "      <th>2596586</th>\n",
       "      <td>1</td>\n",
       "      <td>{TV,\"Air Conditioning\",Kitchen,Heating,Washer,...</td>\n",
       "      <td>0</td>\n",
       "      <td>0</td>\n",
       "      <td>0</td>\n",
       "      <td>0</td>\n",
       "      <td>False</td>\n",
       "      <td>1.0</td>\n",
       "      <td>Real Bed</td>\n",
       "      <td>1.0</td>\n",
       "      <td>...</td>\n",
       "      <td>0.0</td>\n",
       "      <td>0.00</td>\n",
       "      <td>Private room</td>\n",
       "      <td>0</td>\n",
       "      <td>0</td>\n",
       "      <td>16</td>\n",
       "      <td>False</td>\n",
       "      <td>33</td>\n",
       "      <td>1.0</td>\n",
       "      <td>0.0</td>\n",
       "    </tr>\n",
       "    <tr>\n",
       "      <th>2596587</th>\n",
       "      <td>1</td>\n",
       "      <td>{TV,\"Air Conditioning\",Kitchen,Heating,Washer,...</td>\n",
       "      <td>0</td>\n",
       "      <td>0</td>\n",
       "      <td>0</td>\n",
       "      <td>0</td>\n",
       "      <td>False</td>\n",
       "      <td>1.0</td>\n",
       "      <td>Real Bed</td>\n",
       "      <td>1.0</td>\n",
       "      <td>...</td>\n",
       "      <td>0.0</td>\n",
       "      <td>0.00</td>\n",
       "      <td>Private room</td>\n",
       "      <td>0</td>\n",
       "      <td>0</td>\n",
       "      <td>16</td>\n",
       "      <td>False</td>\n",
       "      <td>33</td>\n",
       "      <td>1.0</td>\n",
       "      <td>0.0</td>\n",
       "    </tr>\n",
       "    <tr>\n",
       "      <th>2596588</th>\n",
       "      <td>1</td>\n",
       "      <td>{TV,\"Air Conditioning\",Kitchen,Heating,Washer,...</td>\n",
       "      <td>0</td>\n",
       "      <td>0</td>\n",
       "      <td>0</td>\n",
       "      <td>0</td>\n",
       "      <td>False</td>\n",
       "      <td>1.0</td>\n",
       "      <td>Real Bed</td>\n",
       "      <td>1.0</td>\n",
       "      <td>...</td>\n",
       "      <td>0.0</td>\n",
       "      <td>0.00</td>\n",
       "      <td>Private room</td>\n",
       "      <td>0</td>\n",
       "      <td>0</td>\n",
       "      <td>16</td>\n",
       "      <td>False</td>\n",
       "      <td>33</td>\n",
       "      <td>1.0</td>\n",
       "      <td>0.0</td>\n",
       "    </tr>\n",
       "    <tr>\n",
       "      <th>2596589</th>\n",
       "      <td>1</td>\n",
       "      <td>{TV,\"Air Conditioning\",Kitchen,Heating,Washer,...</td>\n",
       "      <td>0</td>\n",
       "      <td>0</td>\n",
       "      <td>0</td>\n",
       "      <td>0</td>\n",
       "      <td>False</td>\n",
       "      <td>1.0</td>\n",
       "      <td>Real Bed</td>\n",
       "      <td>1.0</td>\n",
       "      <td>...</td>\n",
       "      <td>0.0</td>\n",
       "      <td>0.00</td>\n",
       "      <td>Private room</td>\n",
       "      <td>0</td>\n",
       "      <td>0</td>\n",
       "      <td>16</td>\n",
       "      <td>False</td>\n",
       "      <td>33</td>\n",
       "      <td>1.0</td>\n",
       "      <td>0.0</td>\n",
       "    </tr>\n",
       "    <tr>\n",
       "      <th>2596590</th>\n",
       "      <td>1</td>\n",
       "      <td>{TV,\"Air Conditioning\",Kitchen,Heating,Washer,...</td>\n",
       "      <td>0</td>\n",
       "      <td>0</td>\n",
       "      <td>0</td>\n",
       "      <td>0</td>\n",
       "      <td>False</td>\n",
       "      <td>1.0</td>\n",
       "      <td>Real Bed</td>\n",
       "      <td>1.0</td>\n",
       "      <td>...</td>\n",
       "      <td>0.0</td>\n",
       "      <td>0.00</td>\n",
       "      <td>Private room</td>\n",
       "      <td>0</td>\n",
       "      <td>0</td>\n",
       "      <td>16</td>\n",
       "      <td>False</td>\n",
       "      <td>33</td>\n",
       "      <td>1.0</td>\n",
       "      <td>0.0</td>\n",
       "    </tr>\n",
       "    <tr>\n",
       "      <th>2596591</th>\n",
       "      <td>1</td>\n",
       "      <td>{TV,\"Air Conditioning\",Kitchen,Heating,Washer,...</td>\n",
       "      <td>0</td>\n",
       "      <td>0</td>\n",
       "      <td>0</td>\n",
       "      <td>0</td>\n",
       "      <td>False</td>\n",
       "      <td>1.0</td>\n",
       "      <td>Real Bed</td>\n",
       "      <td>1.0</td>\n",
       "      <td>...</td>\n",
       "      <td>0.0</td>\n",
       "      <td>0.00</td>\n",
       "      <td>Private room</td>\n",
       "      <td>0</td>\n",
       "      <td>0</td>\n",
       "      <td>16</td>\n",
       "      <td>False</td>\n",
       "      <td>33</td>\n",
       "      <td>1.0</td>\n",
       "      <td>0.0</td>\n",
       "    </tr>\n",
       "    <tr>\n",
       "      <th>2596592</th>\n",
       "      <td>1</td>\n",
       "      <td>{TV,\"Air Conditioning\",Kitchen,Heating,Washer,...</td>\n",
       "      <td>0</td>\n",
       "      <td>0</td>\n",
       "      <td>0</td>\n",
       "      <td>0</td>\n",
       "      <td>False</td>\n",
       "      <td>1.0</td>\n",
       "      <td>Real Bed</td>\n",
       "      <td>1.0</td>\n",
       "      <td>...</td>\n",
       "      <td>0.0</td>\n",
       "      <td>0.00</td>\n",
       "      <td>Private room</td>\n",
       "      <td>0</td>\n",
       "      <td>0</td>\n",
       "      <td>16</td>\n",
       "      <td>False</td>\n",
       "      <td>33</td>\n",
       "      <td>1.0</td>\n",
       "      <td>0.0</td>\n",
       "    </tr>\n",
       "    <tr>\n",
       "      <th>2596593</th>\n",
       "      <td>1</td>\n",
       "      <td>{TV,\"Air Conditioning\",Kitchen,Heating,Washer,...</td>\n",
       "      <td>0</td>\n",
       "      <td>0</td>\n",
       "      <td>0</td>\n",
       "      <td>0</td>\n",
       "      <td>False</td>\n",
       "      <td>1.0</td>\n",
       "      <td>Real Bed</td>\n",
       "      <td>1.0</td>\n",
       "      <td>...</td>\n",
       "      <td>0.0</td>\n",
       "      <td>0.00</td>\n",
       "      <td>Private room</td>\n",
       "      <td>0</td>\n",
       "      <td>0</td>\n",
       "      <td>16</td>\n",
       "      <td>False</td>\n",
       "      <td>33</td>\n",
       "      <td>1.0</td>\n",
       "      <td>0.0</td>\n",
       "    </tr>\n",
       "    <tr>\n",
       "      <th>2596594</th>\n",
       "      <td>1</td>\n",
       "      <td>{TV,\"Air Conditioning\",Kitchen,Heating,Washer,...</td>\n",
       "      <td>0</td>\n",
       "      <td>0</td>\n",
       "      <td>0</td>\n",
       "      <td>0</td>\n",
       "      <td>False</td>\n",
       "      <td>1.0</td>\n",
       "      <td>Real Bed</td>\n",
       "      <td>1.0</td>\n",
       "      <td>...</td>\n",
       "      <td>0.0</td>\n",
       "      <td>0.00</td>\n",
       "      <td>Private room</td>\n",
       "      <td>0</td>\n",
       "      <td>0</td>\n",
       "      <td>16</td>\n",
       "      <td>False</td>\n",
       "      <td>33</td>\n",
       "      <td>1.0</td>\n",
       "      <td>0.0</td>\n",
       "    </tr>\n",
       "    <tr>\n",
       "      <th>2596595</th>\n",
       "      <td>1</td>\n",
       "      <td>{TV,\"Air Conditioning\",Kitchen,Heating,Washer,...</td>\n",
       "      <td>0</td>\n",
       "      <td>0</td>\n",
       "      <td>0</td>\n",
       "      <td>0</td>\n",
       "      <td>False</td>\n",
       "      <td>1.0</td>\n",
       "      <td>Real Bed</td>\n",
       "      <td>1.0</td>\n",
       "      <td>...</td>\n",
       "      <td>0.0</td>\n",
       "      <td>0.00</td>\n",
       "      <td>Private room</td>\n",
       "      <td>0</td>\n",
       "      <td>0</td>\n",
       "      <td>16</td>\n",
       "      <td>False</td>\n",
       "      <td>33</td>\n",
       "      <td>1.0</td>\n",
       "      <td>0.0</td>\n",
       "    </tr>\n",
       "    <tr>\n",
       "      <th>2596596</th>\n",
       "      <td>1</td>\n",
       "      <td>{TV,\"Air Conditioning\",Kitchen,Heating,Washer,...</td>\n",
       "      <td>0</td>\n",
       "      <td>0</td>\n",
       "      <td>0</td>\n",
       "      <td>0</td>\n",
       "      <td>False</td>\n",
       "      <td>1.0</td>\n",
       "      <td>Real Bed</td>\n",
       "      <td>1.0</td>\n",
       "      <td>...</td>\n",
       "      <td>0.0</td>\n",
       "      <td>0.00</td>\n",
       "      <td>Private room</td>\n",
       "      <td>0</td>\n",
       "      <td>0</td>\n",
       "      <td>16</td>\n",
       "      <td>False</td>\n",
       "      <td>33</td>\n",
       "      <td>1.0</td>\n",
       "      <td>0.0</td>\n",
       "    </tr>\n",
       "    <tr>\n",
       "      <th>2596597</th>\n",
       "      <td>1</td>\n",
       "      <td>{TV,\"Air Conditioning\",Kitchen,Heating,Washer,...</td>\n",
       "      <td>0</td>\n",
       "      <td>0</td>\n",
       "      <td>0</td>\n",
       "      <td>0</td>\n",
       "      <td>False</td>\n",
       "      <td>1.0</td>\n",
       "      <td>Real Bed</td>\n",
       "      <td>1.0</td>\n",
       "      <td>...</td>\n",
       "      <td>0.0</td>\n",
       "      <td>0.00</td>\n",
       "      <td>Private room</td>\n",
       "      <td>0</td>\n",
       "      <td>0</td>\n",
       "      <td>16</td>\n",
       "      <td>False</td>\n",
       "      <td>33</td>\n",
       "      <td>1.0</td>\n",
       "      <td>0.0</td>\n",
       "    </tr>\n",
       "    <tr>\n",
       "      <th>2596598</th>\n",
       "      <td>1</td>\n",
       "      <td>{TV,\"Air Conditioning\",Kitchen,Heating,Washer,...</td>\n",
       "      <td>0</td>\n",
       "      <td>0</td>\n",
       "      <td>0</td>\n",
       "      <td>0</td>\n",
       "      <td>False</td>\n",
       "      <td>1.0</td>\n",
       "      <td>Real Bed</td>\n",
       "      <td>1.0</td>\n",
       "      <td>...</td>\n",
       "      <td>0.0</td>\n",
       "      <td>0.00</td>\n",
       "      <td>Private room</td>\n",
       "      <td>0</td>\n",
       "      <td>0</td>\n",
       "      <td>16</td>\n",
       "      <td>False</td>\n",
       "      <td>33</td>\n",
       "      <td>1.0</td>\n",
       "      <td>0.0</td>\n",
       "    </tr>\n",
       "    <tr>\n",
       "      <th>2596599</th>\n",
       "      <td>1</td>\n",
       "      <td>{TV,\"Air Conditioning\",Kitchen,Heating,Washer,...</td>\n",
       "      <td>0</td>\n",
       "      <td>0</td>\n",
       "      <td>0</td>\n",
       "      <td>0</td>\n",
       "      <td>False</td>\n",
       "      <td>1.0</td>\n",
       "      <td>Real Bed</td>\n",
       "      <td>1.0</td>\n",
       "      <td>...</td>\n",
       "      <td>0.0</td>\n",
       "      <td>0.00</td>\n",
       "      <td>Private room</td>\n",
       "      <td>0</td>\n",
       "      <td>0</td>\n",
       "      <td>16</td>\n",
       "      <td>False</td>\n",
       "      <td>33</td>\n",
       "      <td>1.0</td>\n",
       "      <td>0.0</td>\n",
       "    </tr>\n",
       "    <tr>\n",
       "      <th>2596600</th>\n",
       "      <td>1</td>\n",
       "      <td>{TV,\"Air Conditioning\",Kitchen,Heating,Washer,...</td>\n",
       "      <td>0</td>\n",
       "      <td>0</td>\n",
       "      <td>0</td>\n",
       "      <td>0</td>\n",
       "      <td>False</td>\n",
       "      <td>1.0</td>\n",
       "      <td>Real Bed</td>\n",
       "      <td>1.0</td>\n",
       "      <td>...</td>\n",
       "      <td>0.0</td>\n",
       "      <td>0.00</td>\n",
       "      <td>Private room</td>\n",
       "      <td>0</td>\n",
       "      <td>0</td>\n",
       "      <td>16</td>\n",
       "      <td>False</td>\n",
       "      <td>33</td>\n",
       "      <td>1.0</td>\n",
       "      <td>0.0</td>\n",
       "    </tr>\n",
       "    <tr>\n",
       "      <th>2596601</th>\n",
       "      <td>1</td>\n",
       "      <td>{TV,\"Air Conditioning\",Kitchen,Heating,Washer,...</td>\n",
       "      <td>0</td>\n",
       "      <td>0</td>\n",
       "      <td>0</td>\n",
       "      <td>0</td>\n",
       "      <td>False</td>\n",
       "      <td>1.0</td>\n",
       "      <td>Real Bed</td>\n",
       "      <td>1.0</td>\n",
       "      <td>...</td>\n",
       "      <td>0.0</td>\n",
       "      <td>0.00</td>\n",
       "      <td>Private room</td>\n",
       "      <td>0</td>\n",
       "      <td>0</td>\n",
       "      <td>16</td>\n",
       "      <td>False</td>\n",
       "      <td>33</td>\n",
       "      <td>1.0</td>\n",
       "      <td>0.0</td>\n",
       "    </tr>\n",
       "    <tr>\n",
       "      <th>2596602</th>\n",
       "      <td>1</td>\n",
       "      <td>{TV,\"Air Conditioning\",Kitchen,Heating,Washer,...</td>\n",
       "      <td>0</td>\n",
       "      <td>0</td>\n",
       "      <td>0</td>\n",
       "      <td>0</td>\n",
       "      <td>False</td>\n",
       "      <td>1.0</td>\n",
       "      <td>Real Bed</td>\n",
       "      <td>1.0</td>\n",
       "      <td>...</td>\n",
       "      <td>0.0</td>\n",
       "      <td>0.00</td>\n",
       "      <td>Private room</td>\n",
       "      <td>0</td>\n",
       "      <td>0</td>\n",
       "      <td>16</td>\n",
       "      <td>False</td>\n",
       "      <td>33</td>\n",
       "      <td>1.0</td>\n",
       "      <td>0.0</td>\n",
       "    </tr>\n",
       "    <tr>\n",
       "      <th>2596603</th>\n",
       "      <td>1</td>\n",
       "      <td>{TV,\"Air Conditioning\",Kitchen,Heating,Washer,...</td>\n",
       "      <td>0</td>\n",
       "      <td>0</td>\n",
       "      <td>0</td>\n",
       "      <td>0</td>\n",
       "      <td>False</td>\n",
       "      <td>1.0</td>\n",
       "      <td>Real Bed</td>\n",
       "      <td>1.0</td>\n",
       "      <td>...</td>\n",
       "      <td>0.0</td>\n",
       "      <td>0.00</td>\n",
       "      <td>Private room</td>\n",
       "      <td>0</td>\n",
       "      <td>0</td>\n",
       "      <td>16</td>\n",
       "      <td>False</td>\n",
       "      <td>33</td>\n",
       "      <td>1.0</td>\n",
       "      <td>0.0</td>\n",
       "    </tr>\n",
       "    <tr>\n",
       "      <th>2596604</th>\n",
       "      <td>1</td>\n",
       "      <td>{TV,\"Air Conditioning\",Kitchen,Heating,Washer,...</td>\n",
       "      <td>0</td>\n",
       "      <td>0</td>\n",
       "      <td>0</td>\n",
       "      <td>0</td>\n",
       "      <td>False</td>\n",
       "      <td>1.0</td>\n",
       "      <td>Real Bed</td>\n",
       "      <td>1.0</td>\n",
       "      <td>...</td>\n",
       "      <td>0.0</td>\n",
       "      <td>0.00</td>\n",
       "      <td>Private room</td>\n",
       "      <td>0</td>\n",
       "      <td>0</td>\n",
       "      <td>16</td>\n",
       "      <td>False</td>\n",
       "      <td>33</td>\n",
       "      <td>1.0</td>\n",
       "      <td>0.0</td>\n",
       "    </tr>\n",
       "    <tr>\n",
       "      <th>2596605</th>\n",
       "      <td>1</td>\n",
       "      <td>{TV,\"Air Conditioning\",Kitchen,Heating,Washer,...</td>\n",
       "      <td>0</td>\n",
       "      <td>0</td>\n",
       "      <td>0</td>\n",
       "      <td>0</td>\n",
       "      <td>False</td>\n",
       "      <td>1.0</td>\n",
       "      <td>Real Bed</td>\n",
       "      <td>1.0</td>\n",
       "      <td>...</td>\n",
       "      <td>0.0</td>\n",
       "      <td>0.00</td>\n",
       "      <td>Private room</td>\n",
       "      <td>0</td>\n",
       "      <td>0</td>\n",
       "      <td>16</td>\n",
       "      <td>False</td>\n",
       "      <td>33</td>\n",
       "      <td>1.0</td>\n",
       "      <td>0.0</td>\n",
       "    </tr>\n",
       "    <tr>\n",
       "      <th>2596606</th>\n",
       "      <td>1</td>\n",
       "      <td>{TV,\"Air Conditioning\",Kitchen,Heating,Washer,...</td>\n",
       "      <td>0</td>\n",
       "      <td>0</td>\n",
       "      <td>0</td>\n",
       "      <td>0</td>\n",
       "      <td>False</td>\n",
       "      <td>1.0</td>\n",
       "      <td>Real Bed</td>\n",
       "      <td>1.0</td>\n",
       "      <td>...</td>\n",
       "      <td>0.0</td>\n",
       "      <td>0.00</td>\n",
       "      <td>Private room</td>\n",
       "      <td>0</td>\n",
       "      <td>0</td>\n",
       "      <td>16</td>\n",
       "      <td>False</td>\n",
       "      <td>33</td>\n",
       "      <td>1.0</td>\n",
       "      <td>0.0</td>\n",
       "    </tr>\n",
       "    <tr>\n",
       "      <th>2596607</th>\n",
       "      <td>1</td>\n",
       "      <td>{TV,\"Air Conditioning\",Kitchen,Heating,Washer,...</td>\n",
       "      <td>0</td>\n",
       "      <td>0</td>\n",
       "      <td>0</td>\n",
       "      <td>0</td>\n",
       "      <td>False</td>\n",
       "      <td>1.0</td>\n",
       "      <td>Real Bed</td>\n",
       "      <td>1.0</td>\n",
       "      <td>...</td>\n",
       "      <td>0.0</td>\n",
       "      <td>0.00</td>\n",
       "      <td>Private room</td>\n",
       "      <td>0</td>\n",
       "      <td>0</td>\n",
       "      <td>16</td>\n",
       "      <td>False</td>\n",
       "      <td>33</td>\n",
       "      <td>1.0</td>\n",
       "      <td>0.0</td>\n",
       "    </tr>\n",
       "    <tr>\n",
       "      <th>2596608</th>\n",
       "      <td>1</td>\n",
       "      <td>{TV,\"Air Conditioning\",Kitchen,Heating,Washer,...</td>\n",
       "      <td>0</td>\n",
       "      <td>0</td>\n",
       "      <td>0</td>\n",
       "      <td>0</td>\n",
       "      <td>False</td>\n",
       "      <td>1.0</td>\n",
       "      <td>Real Bed</td>\n",
       "      <td>1.0</td>\n",
       "      <td>...</td>\n",
       "      <td>0.0</td>\n",
       "      <td>0.00</td>\n",
       "      <td>Private room</td>\n",
       "      <td>0</td>\n",
       "      <td>0</td>\n",
       "      <td>16</td>\n",
       "      <td>False</td>\n",
       "      <td>33</td>\n",
       "      <td>1.0</td>\n",
       "      <td>0.0</td>\n",
       "    </tr>\n",
       "    <tr>\n",
       "      <th>2596609</th>\n",
       "      <td>1</td>\n",
       "      <td>{TV,\"Air Conditioning\",Kitchen,Heating,Washer,...</td>\n",
       "      <td>0</td>\n",
       "      <td>0</td>\n",
       "      <td>0</td>\n",
       "      <td>0</td>\n",
       "      <td>False</td>\n",
       "      <td>1.0</td>\n",
       "      <td>Real Bed</td>\n",
       "      <td>1.0</td>\n",
       "      <td>...</td>\n",
       "      <td>0.0</td>\n",
       "      <td>0.00</td>\n",
       "      <td>Private room</td>\n",
       "      <td>0</td>\n",
       "      <td>0</td>\n",
       "      <td>16</td>\n",
       "      <td>False</td>\n",
       "      <td>33</td>\n",
       "      <td>1.0</td>\n",
       "      <td>0.0</td>\n",
       "    </tr>\n",
       "  </tbody>\n",
       "</table>\n",
       "<p>4745 rows × 57 columns</p>\n",
       "</div>"
      ],
      "text/plain": [
       "         accommodates                                          amenities  \\\n",
       "1440655             6  {TV,\"Cable TV\",Internet,\"Wireless Internet\",\"A...   \n",
       "1440656             6  {TV,\"Cable TV\",Internet,\"Wireless Internet\",\"A...   \n",
       "1440657             6  {TV,\"Cable TV\",Internet,\"Wireless Internet\",\"A...   \n",
       "1440658             6  {TV,\"Cable TV\",Internet,\"Wireless Internet\",\"A...   \n",
       "1440659             6  {TV,\"Cable TV\",Internet,\"Wireless Internet\",\"A...   \n",
       "1440660             6  {TV,\"Cable TV\",Internet,\"Wireless Internet\",\"A...   \n",
       "1440661             6  {TV,\"Cable TV\",Internet,\"Wireless Internet\",\"A...   \n",
       "1440662             6  {TV,\"Cable TV\",Internet,\"Wireless Internet\",\"A...   \n",
       "1440663             6  {TV,\"Cable TV\",Internet,\"Wireless Internet\",\"A...   \n",
       "1440664             6  {TV,\"Cable TV\",Internet,\"Wireless Internet\",\"A...   \n",
       "1440665             6  {TV,\"Cable TV\",Internet,\"Wireless Internet\",\"A...   \n",
       "1440666             6  {TV,\"Cable TV\",Internet,\"Wireless Internet\",\"A...   \n",
       "1440667             6  {TV,\"Cable TV\",Internet,\"Wireless Internet\",\"A...   \n",
       "1440668             6  {TV,\"Cable TV\",Internet,\"Wireless Internet\",\"A...   \n",
       "1440669             6  {TV,\"Cable TV\",Internet,\"Wireless Internet\",\"A...   \n",
       "1440670             6  {TV,\"Cable TV\",Internet,\"Wireless Internet\",\"A...   \n",
       "1440671             6  {TV,\"Cable TV\",Internet,\"Wireless Internet\",\"A...   \n",
       "1440672             6  {TV,\"Cable TV\",Internet,\"Wireless Internet\",\"A...   \n",
       "1440673             6  {TV,\"Cable TV\",Internet,\"Wireless Internet\",\"A...   \n",
       "1440674             6  {TV,\"Cable TV\",Internet,\"Wireless Internet\",\"A...   \n",
       "1440675             6  {TV,\"Cable TV\",Internet,\"Wireless Internet\",\"A...   \n",
       "1440676             6  {TV,\"Cable TV\",Internet,\"Wireless Internet\",\"A...   \n",
       "1440677             6  {TV,\"Cable TV\",Internet,\"Wireless Internet\",\"A...   \n",
       "1440678             6  {TV,\"Cable TV\",Internet,\"Wireless Internet\",\"A...   \n",
       "1440679             6  {TV,\"Cable TV\",Internet,\"Wireless Internet\",\"A...   \n",
       "1440680             6  {TV,\"Cable TV\",Internet,\"Wireless Internet\",\"A...   \n",
       "1440681             6  {TV,\"Cable TV\",Internet,\"Wireless Internet\",\"A...   \n",
       "1440682             6  {TV,\"Cable TV\",Internet,\"Wireless Internet\",\"A...   \n",
       "1440683             6  {TV,\"Cable TV\",Internet,\"Wireless Internet\",\"A...   \n",
       "1440684             6  {TV,\"Cable TV\",Internet,\"Wireless Internet\",\"A...   \n",
       "...               ...                                                ...   \n",
       "2596580             1  {TV,\"Air Conditioning\",Kitchen,Heating,Washer,...   \n",
       "2596581             1  {TV,\"Air Conditioning\",Kitchen,Heating,Washer,...   \n",
       "2596582             1  {TV,\"Air Conditioning\",Kitchen,Heating,Washer,...   \n",
       "2596583             1  {TV,\"Air Conditioning\",Kitchen,Heating,Washer,...   \n",
       "2596584             1  {TV,\"Air Conditioning\",Kitchen,Heating,Washer,...   \n",
       "2596585             1  {TV,\"Air Conditioning\",Kitchen,Heating,Washer,...   \n",
       "2596586             1  {TV,\"Air Conditioning\",Kitchen,Heating,Washer,...   \n",
       "2596587             1  {TV,\"Air Conditioning\",Kitchen,Heating,Washer,...   \n",
       "2596588             1  {TV,\"Air Conditioning\",Kitchen,Heating,Washer,...   \n",
       "2596589             1  {TV,\"Air Conditioning\",Kitchen,Heating,Washer,...   \n",
       "2596590             1  {TV,\"Air Conditioning\",Kitchen,Heating,Washer,...   \n",
       "2596591             1  {TV,\"Air Conditioning\",Kitchen,Heating,Washer,...   \n",
       "2596592             1  {TV,\"Air Conditioning\",Kitchen,Heating,Washer,...   \n",
       "2596593             1  {TV,\"Air Conditioning\",Kitchen,Heating,Washer,...   \n",
       "2596594             1  {TV,\"Air Conditioning\",Kitchen,Heating,Washer,...   \n",
       "2596595             1  {TV,\"Air Conditioning\",Kitchen,Heating,Washer,...   \n",
       "2596596             1  {TV,\"Air Conditioning\",Kitchen,Heating,Washer,...   \n",
       "2596597             1  {TV,\"Air Conditioning\",Kitchen,Heating,Washer,...   \n",
       "2596598             1  {TV,\"Air Conditioning\",Kitchen,Heating,Washer,...   \n",
       "2596599             1  {TV,\"Air Conditioning\",Kitchen,Heating,Washer,...   \n",
       "2596600             1  {TV,\"Air Conditioning\",Kitchen,Heating,Washer,...   \n",
       "2596601             1  {TV,\"Air Conditioning\",Kitchen,Heating,Washer,...   \n",
       "2596602             1  {TV,\"Air Conditioning\",Kitchen,Heating,Washer,...   \n",
       "2596603             1  {TV,\"Air Conditioning\",Kitchen,Heating,Washer,...   \n",
       "2596604             1  {TV,\"Air Conditioning\",Kitchen,Heating,Washer,...   \n",
       "2596605             1  {TV,\"Air Conditioning\",Kitchen,Heating,Washer,...   \n",
       "2596606             1  {TV,\"Air Conditioning\",Kitchen,Heating,Washer,...   \n",
       "2596607             1  {TV,\"Air Conditioning\",Kitchen,Heating,Washer,...   \n",
       "2596608             1  {TV,\"Air Conditioning\",Kitchen,Heating,Washer,...   \n",
       "2596609             1  {TV,\"Air Conditioning\",Kitchen,Heating,Washer,...   \n",
       "\n",
       "         availability_30  availability_365  availability_60  availability_90  \\\n",
       "1440655               30               353               48               78   \n",
       "1440656               30               353               48               78   \n",
       "1440657               30               353               48               78   \n",
       "1440658               30               353               48               78   \n",
       "1440659               30               353               48               78   \n",
       "1440660               30               353               48               78   \n",
       "1440661               30               353               48               78   \n",
       "1440662               30               353               48               78   \n",
       "1440663               30               353               48               78   \n",
       "1440664               30               353               48               78   \n",
       "1440665               30               353               48               78   \n",
       "1440666               30               353               48               78   \n",
       "1440667               30               353               48               78   \n",
       "1440668               30               353               48               78   \n",
       "1440669               30               353               48               78   \n",
       "1440670               30               353               48               78   \n",
       "1440671               30               353               48               78   \n",
       "1440672               30               353               48               78   \n",
       "1440673               30               353               48               78   \n",
       "1440674               30               353               48               78   \n",
       "1440675               30               353               48               78   \n",
       "1440676               30               353               48               78   \n",
       "1440677               30               353               48               78   \n",
       "1440678               30               353               48               78   \n",
       "1440679               30               353               48               78   \n",
       "1440680               30               353               48               78   \n",
       "1440681               30               353               48               78   \n",
       "1440682               30               353               48               78   \n",
       "1440683               30               353               48               78   \n",
       "1440684               30               353               48               78   \n",
       "...                  ...               ...              ...              ...   \n",
       "2596580                0                 0                0                0   \n",
       "2596581                0                 0                0                0   \n",
       "2596582                0                 0                0                0   \n",
       "2596583                0                 0                0                0   \n",
       "2596584                0                 0                0                0   \n",
       "2596585                0                 0                0                0   \n",
       "2596586                0                 0                0                0   \n",
       "2596587                0                 0                0                0   \n",
       "2596588                0                 0                0                0   \n",
       "2596589                0                 0                0                0   \n",
       "2596590                0                 0                0                0   \n",
       "2596591                0                 0                0                0   \n",
       "2596592                0                 0                0                0   \n",
       "2596593                0                 0                0                0   \n",
       "2596594                0                 0                0                0   \n",
       "2596595                0                 0                0                0   \n",
       "2596596                0                 0                0                0   \n",
       "2596597                0                 0                0                0   \n",
       "2596598                0                 0                0                0   \n",
       "2596599                0                 0                0                0   \n",
       "2596600                0                 0                0                0   \n",
       "2596601                0                 0                0                0   \n",
       "2596602                0                 0                0                0   \n",
       "2596603                0                 0                0                0   \n",
       "2596604                0                 0                0                0   \n",
       "2596605                0                 0                0                0   \n",
       "2596606                0                 0                0                0   \n",
       "2596607                0                 0                0                0   \n",
       "2596608                0                 0                0                0   \n",
       "2596609                0                 0                0                0   \n",
       "\n",
       "         available  bathrooms  bed_type  bedrooms           ...            \\\n",
       "1440655       True        3.0  Real Bed       3.0           ...             \n",
       "1440656       True        3.0  Real Bed       3.0           ...             \n",
       "1440657       True        3.0  Real Bed       3.0           ...             \n",
       "1440658       True        3.0  Real Bed       3.0           ...             \n",
       "1440659       True        3.0  Real Bed       3.0           ...             \n",
       "1440660       True        3.0  Real Bed       3.0           ...             \n",
       "1440661       True        3.0  Real Bed       3.0           ...             \n",
       "1440662       True        3.0  Real Bed       3.0           ...             \n",
       "1440663       True        3.0  Real Bed       3.0           ...             \n",
       "1440664       True        3.0  Real Bed       3.0           ...             \n",
       "1440665       True        3.0  Real Bed       3.0           ...             \n",
       "1440666       True        3.0  Real Bed       3.0           ...             \n",
       "1440667       True        3.0  Real Bed       3.0           ...             \n",
       "1440668       True        3.0  Real Bed       3.0           ...             \n",
       "1440669       True        3.0  Real Bed       3.0           ...             \n",
       "1440670       True        3.0  Real Bed       3.0           ...             \n",
       "1440671       True        3.0  Real Bed       3.0           ...             \n",
       "1440672       True        3.0  Real Bed       3.0           ...             \n",
       "1440673       True        3.0  Real Bed       3.0           ...             \n",
       "1440674       True        3.0  Real Bed       3.0           ...             \n",
       "1440675       True        3.0  Real Bed       3.0           ...             \n",
       "1440676       True        3.0  Real Bed       3.0           ...             \n",
       "1440677       True        3.0  Real Bed       3.0           ...             \n",
       "1440678       True        3.0  Real Bed       3.0           ...             \n",
       "1440679       True        3.0  Real Bed       3.0           ...             \n",
       "1440680       True        3.0  Real Bed       3.0           ...             \n",
       "1440681       True        3.0  Real Bed       3.0           ...             \n",
       "1440682       True        3.0  Real Bed       3.0           ...             \n",
       "1440683       True        3.0  Real Bed       3.0           ...             \n",
       "1440684       True        3.0  Real Bed       3.0           ...             \n",
       "...            ...        ...       ...       ...           ...             \n",
       "2596580      False        1.0  Real Bed       1.0           ...             \n",
       "2596581      False        1.0  Real Bed       1.0           ...             \n",
       "2596582      False        1.0  Real Bed       1.0           ...             \n",
       "2596583      False        1.0  Real Bed       1.0           ...             \n",
       "2596584      False        1.0  Real Bed       1.0           ...             \n",
       "2596585      False        1.0  Real Bed       1.0           ...             \n",
       "2596586      False        1.0  Real Bed       1.0           ...             \n",
       "2596587      False        1.0  Real Bed       1.0           ...             \n",
       "2596588      False        1.0  Real Bed       1.0           ...             \n",
       "2596589      False        1.0  Real Bed       1.0           ...             \n",
       "2596590      False        1.0  Real Bed       1.0           ...             \n",
       "2596591      False        1.0  Real Bed       1.0           ...             \n",
       "2596592      False        1.0  Real Bed       1.0           ...             \n",
       "2596593      False        1.0  Real Bed       1.0           ...             \n",
       "2596594      False        1.0  Real Bed       1.0           ...             \n",
       "2596595      False        1.0  Real Bed       1.0           ...             \n",
       "2596596      False        1.0  Real Bed       1.0           ...             \n",
       "2596597      False        1.0  Real Bed       1.0           ...             \n",
       "2596598      False        1.0  Real Bed       1.0           ...             \n",
       "2596599      False        1.0  Real Bed       1.0           ...             \n",
       "2596600      False        1.0  Real Bed       1.0           ...             \n",
       "2596601      False        1.0  Real Bed       1.0           ...             \n",
       "2596602      False        1.0  Real Bed       1.0           ...             \n",
       "2596603      False        1.0  Real Bed       1.0           ...             \n",
       "2596604      False        1.0  Real Bed       1.0           ...             \n",
       "2596605      False        1.0  Real Bed       1.0           ...             \n",
       "2596606      False        1.0  Real Bed       1.0           ...             \n",
       "2596607      False        1.0  Real Bed       1.0           ...             \n",
       "2596608      False        1.0  Real Bed       1.0           ...             \n",
       "2596609      False        1.0  Real Bed       1.0           ...             \n",
       "\n",
       "         review_scores_value  reviews_per_month        room_type  \\\n",
       "1440655                 10.0               0.13  Entire home/apt   \n",
       "1440656                 10.0               0.13  Entire home/apt   \n",
       "1440657                 10.0               0.13  Entire home/apt   \n",
       "1440658                 10.0               0.13  Entire home/apt   \n",
       "1440659                 10.0               0.13  Entire home/apt   \n",
       "1440660                 10.0               0.13  Entire home/apt   \n",
       "1440661                 10.0               0.13  Entire home/apt   \n",
       "1440662                 10.0               0.13  Entire home/apt   \n",
       "1440663                 10.0               0.13  Entire home/apt   \n",
       "1440664                 10.0               0.13  Entire home/apt   \n",
       "1440665                 10.0               0.13  Entire home/apt   \n",
       "1440666                 10.0               0.13  Entire home/apt   \n",
       "1440667                 10.0               0.13  Entire home/apt   \n",
       "1440668                 10.0               0.13  Entire home/apt   \n",
       "1440669                 10.0               0.13  Entire home/apt   \n",
       "1440670                 10.0               0.13  Entire home/apt   \n",
       "1440671                 10.0               0.13  Entire home/apt   \n",
       "1440672                 10.0               0.13  Entire home/apt   \n",
       "1440673                 10.0               0.13  Entire home/apt   \n",
       "1440674                 10.0               0.13  Entire home/apt   \n",
       "1440675                 10.0               0.13  Entire home/apt   \n",
       "1440676                 10.0               0.13  Entire home/apt   \n",
       "1440677                 10.0               0.13  Entire home/apt   \n",
       "1440678                 10.0               0.13  Entire home/apt   \n",
       "1440679                 10.0               0.13  Entire home/apt   \n",
       "1440680                 10.0               0.13  Entire home/apt   \n",
       "1440681                 10.0               0.13  Entire home/apt   \n",
       "1440682                 10.0               0.13  Entire home/apt   \n",
       "1440683                 10.0               0.13  Entire home/apt   \n",
       "1440684                 10.0               0.13  Entire home/apt   \n",
       "...                      ...                ...              ...   \n",
       "2596580                  0.0               0.00     Private room   \n",
       "2596581                  0.0               0.00     Private room   \n",
       "2596582                  0.0               0.00     Private room   \n",
       "2596583                  0.0               0.00     Private room   \n",
       "2596584                  0.0               0.00     Private room   \n",
       "2596585                  0.0               0.00     Private room   \n",
       "2596586                  0.0               0.00     Private room   \n",
       "2596587                  0.0               0.00     Private room   \n",
       "2596588                  0.0               0.00     Private room   \n",
       "2596589                  0.0               0.00     Private room   \n",
       "2596590                  0.0               0.00     Private room   \n",
       "2596591                  0.0               0.00     Private room   \n",
       "2596592                  0.0               0.00     Private room   \n",
       "2596593                  0.0               0.00     Private room   \n",
       "2596594                  0.0               0.00     Private room   \n",
       "2596595                  0.0               0.00     Private room   \n",
       "2596596                  0.0               0.00     Private room   \n",
       "2596597                  0.0               0.00     Private room   \n",
       "2596598                  0.0               0.00     Private room   \n",
       "2596599                  0.0               0.00     Private room   \n",
       "2596600                  0.0               0.00     Private room   \n",
       "2596601                  0.0               0.00     Private room   \n",
       "2596602                  0.0               0.00     Private room   \n",
       "2596603                  0.0               0.00     Private room   \n",
       "2596604                  0.0               0.00     Private room   \n",
       "2596605                  0.0               0.00     Private room   \n",
       "2596606                  0.0               0.00     Private room   \n",
       "2596607                  0.0               0.00     Private room   \n",
       "2596608                  0.0               0.00     Private room   \n",
       "2596609                  0.0               0.00     Private room   \n",
       "\n",
       "        security_deposit weekly_price  scratch same_location  price  \\\n",
       "1440655                0         2500        1         False    450   \n",
       "1440656                0         2500        1         False    450   \n",
       "1440657                0         2500        1         False    450   \n",
       "1440658                0         2500        1         False    450   \n",
       "1440659                0         2500        1         False    450   \n",
       "1440660                0         2500        1         False    450   \n",
       "1440661                0         2500        1         False    450   \n",
       "1440662                0         2500        1         False    450   \n",
       "1440663                0         2500        1         False    450   \n",
       "1440664                0         2500        1         False    450   \n",
       "1440665                0         2500        1         False    450   \n",
       "1440666                0         2500        1         False    450   \n",
       "1440667                0         2500        1         False    450   \n",
       "1440668                0         2500        1         False    450   \n",
       "1440669                0         2500        1         False    450   \n",
       "1440670                0         2500        1         False    450   \n",
       "1440671                0         2500        1         False    450   \n",
       "1440672                0         2500        1         False    450   \n",
       "1440673                0         2500        1         False    450   \n",
       "1440674                0         2500        1         False    450   \n",
       "1440675                0         2500        1         False    450   \n",
       "1440676                0         2500        1         False    450   \n",
       "1440677                0         2500        1         False    450   \n",
       "1440678                0         2500        1         False    450   \n",
       "1440679                0         2500        1         False    450   \n",
       "1440680                0         2500        1         False    450   \n",
       "1440681                0         2500        1         False    450   \n",
       "1440682                0         2500        1         False    450   \n",
       "1440683                0         2500        1         False    450   \n",
       "1440684                0         2500        1         False    450   \n",
       "...                  ...          ...      ...           ...    ...   \n",
       "2596580                0            0       16         False     33   \n",
       "2596581                0            0       16         False     33   \n",
       "2596582                0            0       16         False     33   \n",
       "2596583                0            0       16         False     33   \n",
       "2596584                0            0       16         False     33   \n",
       "2596585                0            0       16         False     33   \n",
       "2596586                0            0       16         False     33   \n",
       "2596587                0            0       16         False     33   \n",
       "2596588                0            0       16         False     33   \n",
       "2596589                0            0       16         False     33   \n",
       "2596590                0            0       16         False     33   \n",
       "2596591                0            0       16         False     33   \n",
       "2596592                0            0       16         False     33   \n",
       "2596593                0            0       16         False     33   \n",
       "2596594                0            0       16         False     33   \n",
       "2596595                0            0       16         False     33   \n",
       "2596596                0            0       16         False     33   \n",
       "2596597                0            0       16         False     33   \n",
       "2596598                0            0       16         False     33   \n",
       "2596599                0            0       16         False     33   \n",
       "2596600                0            0       16         False     33   \n",
       "2596601                0            0       16         False     33   \n",
       "2596602                0            0       16         False     33   \n",
       "2596603                0            0       16         False     33   \n",
       "2596604                0            0       16         False     33   \n",
       "2596605                0            0       16         False     33   \n",
       "2596606                0            0       16         False     33   \n",
       "2596607                0            0       16         False     33   \n",
       "2596608                0            0       16         False     33   \n",
       "2596609                0            0       16         False     33   \n",
       "\n",
       "        host_avg_acceptance_rate  host_avg_response_rate  \n",
       "1440655                      1.0                     0.0  \n",
       "1440656                      1.0                     0.0  \n",
       "1440657                      1.0                     0.0  \n",
       "1440658                      1.0                     0.0  \n",
       "1440659                      1.0                     0.0  \n",
       "1440660                      1.0                     0.0  \n",
       "1440661                      1.0                     0.0  \n",
       "1440662                      1.0                     0.0  \n",
       "1440663                      1.0                     0.0  \n",
       "1440664                      1.0                     0.0  \n",
       "1440665                      1.0                     0.0  \n",
       "1440666                      1.0                     0.0  \n",
       "1440667                      1.0                     0.0  \n",
       "1440668                      1.0                     0.0  \n",
       "1440669                      1.0                     0.0  \n",
       "1440670                      1.0                     0.0  \n",
       "1440671                      1.0                     0.0  \n",
       "1440672                      1.0                     0.0  \n",
       "1440673                      1.0                     0.0  \n",
       "1440674                      1.0                     0.0  \n",
       "1440675                      1.0                     0.0  \n",
       "1440676                      1.0                     0.0  \n",
       "1440677                      1.0                     0.0  \n",
       "1440678                      1.0                     0.0  \n",
       "1440679                      1.0                     0.0  \n",
       "1440680                      1.0                     0.0  \n",
       "1440681                      1.0                     0.0  \n",
       "1440682                      1.0                     0.0  \n",
       "1440683                      1.0                     0.0  \n",
       "1440684                      1.0                     0.0  \n",
       "...                          ...                     ...  \n",
       "2596580                      1.0                     0.0  \n",
       "2596581                      1.0                     0.0  \n",
       "2596582                      1.0                     0.0  \n",
       "2596583                      1.0                     0.0  \n",
       "2596584                      1.0                     0.0  \n",
       "2596585                      1.0                     0.0  \n",
       "2596586                      1.0                     0.0  \n",
       "2596587                      1.0                     0.0  \n",
       "2596588                      1.0                     0.0  \n",
       "2596589                      1.0                     0.0  \n",
       "2596590                      1.0                     0.0  \n",
       "2596591                      1.0                     0.0  \n",
       "2596592                      1.0                     0.0  \n",
       "2596593                      1.0                     0.0  \n",
       "2596594                      1.0                     0.0  \n",
       "2596595                      1.0                     0.0  \n",
       "2596596                      1.0                     0.0  \n",
       "2596597                      1.0                     0.0  \n",
       "2596598                      1.0                     0.0  \n",
       "2596599                      1.0                     0.0  \n",
       "2596600                      1.0                     0.0  \n",
       "2596601                      1.0                     0.0  \n",
       "2596602                      1.0                     0.0  \n",
       "2596603                      1.0                     0.0  \n",
       "2596604                      1.0                     0.0  \n",
       "2596605                      1.0                     0.0  \n",
       "2596606                      1.0                     0.0  \n",
       "2596607                      1.0                     0.0  \n",
       "2596608                      1.0                     0.0  \n",
       "2596609                      1.0                     0.0  \n",
       "\n",
       "[4745 rows x 57 columns]"
      ]
     },
     "execution_count": 596,
     "metadata": {},
     "output_type": "execute_result"
    }
   ],
   "source": [
    "df[df['host_avg_response_rate']==0]"
   ]
  },
  {
   "cell_type": "code",
   "execution_count": 78,
   "metadata": {
    "collapsed": true
   },
   "outputs": [],
   "source": [
    "df.drop(inplace=True,columns='host_response_rate')"
   ]
  },
  {
   "cell_type": "code",
   "execution_count": 79,
   "metadata": {
    "collapsed": true
   },
   "outputs": [],
   "source": [
    "df.dropna(inplace=True,subset=['host_avg_response_rate','host_avg_acceptance_rate'])"
   ]
  },
  {
   "cell_type": "code",
   "execution_count": 80,
   "metadata": {},
   "outputs": [
    {
     "data": {
      "text/plain": [
       "(2224310, 56)"
      ]
     },
     "execution_count": 80,
     "metadata": {},
     "output_type": "execute_result"
    }
   ],
   "source": [
    "df.shape"
   ]
  },
  {
   "cell_type": "markdown",
   "metadata": {},
   "source": [
    "To convert first review and last review to something more meaningful, we could substact them from each other and this may fix missing value issue. And as we at it, let's convert some objects to datetime"
   ]
  },
  {
   "cell_type": "code",
   "execution_count": 81,
   "metadata": {
    "collapsed": true
   },
   "outputs": [],
   "source": [
    "import datetime"
   ]
  },
  {
   "cell_type": "code",
   "execution_count": 82,
   "metadata": {},
   "outputs": [
    {
     "data": {
      "text/plain": [
       "Index([], dtype='object')"
      ]
     },
     "execution_count": 82,
     "metadata": {},
     "output_type": "execute_result"
    }
   ],
   "source": [
    "str_col = df_new.select_dtypes('object').columns\n",
    "str_col"
   ]
  },
  {
   "cell_type": "markdown",
   "metadata": {},
   "source": [
    "Since, we are subtracting last review froom first review, let's fill missing values with zero"
   ]
  },
  {
   "cell_type": "code",
   "execution_count": 83,
   "metadata": {
    "collapsed": true
   },
   "outputs": [],
   "source": [
    "df['first_review'].fillna(inplace=True,value=0)\n",
    "df['last_review'].fillna(inplace=True,value=0)"
   ]
  },
  {
   "cell_type": "code",
   "execution_count": 84,
   "metadata": {
    "collapsed": true
   },
   "outputs": [],
   "source": [
    "df['first_review']=pd.to_datetime(df['first_review'],errors='ignore')\n",
    "df['date']=pd.to_datetime(df['date'],errors='ignore')\n",
    "df['last_review']=pd.to_datetime(df['last_review'],errors='ignore')"
   ]
  },
  {
   "cell_type": "code",
   "execution_count": 85,
   "metadata": {},
   "outputs": [
    {
     "data": {
      "text/plain": [
       "0          1523\n",
       "1          1523\n",
       "2          1523\n",
       "3          1523\n",
       "4          1523\n",
       "5          1523\n",
       "6          1523\n",
       "7          1523\n",
       "8          1523\n",
       "9          1523\n",
       "10         1523\n",
       "11         1523\n",
       "12         1523\n",
       "13         1523\n",
       "14         1523\n",
       "15         1523\n",
       "16         1523\n",
       "17         1523\n",
       "18         1523\n",
       "19         1523\n",
       "20         1523\n",
       "21         1523\n",
       "22         1523\n",
       "23         1523\n",
       "24         1523\n",
       "25         1523\n",
       "26         1523\n",
       "27         1523\n",
       "28         1523\n",
       "29         1523\n",
       "           ... \n",
       "2702430       0\n",
       "2702431       0\n",
       "2702432       0\n",
       "2702433       0\n",
       "2702434       0\n",
       "2702435       0\n",
       "2702436       0\n",
       "2702437       0\n",
       "2702438       0\n",
       "2702439       0\n",
       "2702440       0\n",
       "2702441       0\n",
       "2702442       0\n",
       "2702443       0\n",
       "2702444       0\n",
       "2702445       0\n",
       "2702446       0\n",
       "2702447       0\n",
       "2702448       0\n",
       "2702449       0\n",
       "2702450       0\n",
       "2702451       0\n",
       "2702452       0\n",
       "2702453       0\n",
       "2702454       0\n",
       "2702455       0\n",
       "2702456       0\n",
       "2702457       0\n",
       "2702458       0\n",
       "2702459       0\n",
       "Name: review_diff, Length: 2224310, dtype: int64"
      ]
     },
     "execution_count": 85,
     "metadata": {},
     "output_type": "execute_result"
    }
   ],
   "source": [
    "df['review_diff'] = df['last_review'].sub(df['first_review'],fill_value=0).dt.days\n",
    "df['review_diff']"
   ]
  },
  {
   "cell_type": "code",
   "execution_count": 606,
   "metadata": {},
   "outputs": [
    {
     "data": {
      "text/plain": [
       "0       170\n",
       "67        5\n",
       "137       4\n",
       "131       4\n",
       "1832      4\n",
       "113       4\n",
       "55        3\n",
       "17        3\n",
       "442       3\n",
       "401       3\n",
       "224       3\n",
       "191       3\n",
       "181       3\n",
       "138       3\n",
       "136       3\n",
       "62        3\n",
       "18        3\n",
       "127       3\n",
       "23        3\n",
       "103       3\n",
       "81        3\n",
       "35        3\n",
       "521       3\n",
       "322       3\n",
       "469       2\n",
       "90        2\n",
       "86        2\n",
       "84        2\n",
       "83        2\n",
       "82        2\n",
       "       ... \n",
       "422       1\n",
       "465       1\n",
       "461       1\n",
       "1481      1\n",
       "453       1\n",
       "449       1\n",
       "446       1\n",
       "861       1\n",
       "438       1\n",
       "437       1\n",
       "433       1\n",
       "431       1\n",
       "427       1\n",
       "425       1\n",
       "419       1\n",
       "350       1\n",
       "413       1\n",
       "404       1\n",
       "864       1\n",
       "397       1\n",
       "1416      1\n",
       "1917      1\n",
       "373       1\n",
       "371       1\n",
       "369       1\n",
       "368       1\n",
       "367       1\n",
       "365       1\n",
       "355       1\n",
       "2044      1\n",
       "Name: review_diff, Length: 313, dtype: int64"
      ]
     },
     "execution_count": 606,
     "metadata": {},
     "output_type": "execute_result"
    }
   ],
   "source": [
    "df_new['review_diff'].value_counts()"
   ]
  },
  {
   "cell_type": "markdown",
   "metadata": {},
   "source": [
    "Now, we delete first review and last review."
   ]
  },
  {
   "cell_type": "code",
   "execution_count": 86,
   "metadata": {
    "collapsed": true
   },
   "outputs": [],
   "source": [
    "df.drop(inplace=True,columns=['last_review','first_review'])"
   ]
  },
  {
   "cell_type": "code",
   "execution_count": 610,
   "metadata": {},
   "outputs": [
    {
     "data": {
      "text/plain": [
       "1.0"
      ]
     },
     "execution_count": 610,
     "metadata": {},
     "output_type": "execute_result"
    }
   ],
   "source": [
    "df['review_diff'].count()/len(df['review_diff'])"
   ]
  },
  {
   "cell_type": "markdown",
   "metadata": {},
   "source": [
    "This is not good, 80% of our data are non-empty. This could be the result of having nan values. So I had to redo my calculation and fill missing values with zeros. Now, we can drop last review and first review."
   ]
  },
  {
   "cell_type": "code",
   "execution_count": 632,
   "metadata": {},
   "outputs": [
    {
     "data": {
      "text/plain": [
       "Index([], dtype='object')"
      ]
     },
     "execution_count": 632,
     "metadata": {},
     "output_type": "execute_result"
    }
   ],
   "source": [
    "df_miss = df.columns[(df.count()/len(df)) < 1]\n",
    "df_miss"
   ]
  },
  {
   "cell_type": "markdown",
   "metadata": {},
   "source": [
    "So, we got rid of missing data. Now, we need to continue cleaning object data."
   ]
  },
  {
   "cell_type": "code",
   "execution_count": 612,
   "metadata": {},
   "outputs": [
    {
     "data": {
      "text/plain": [
       "Index(['amenities', 'bed_type', 'calendar_updated', 'cancellation_policy',\n",
       "       'city', 'host_has_profile_pic', 'host_identity_verified',\n",
       "       'host_is_superhost', 'host_since', 'host_verifications',\n",
       "       'neighbourhood_cleansed', 'property_type', 'room_type', 'scratch'],\n",
       "      dtype='object')"
      ]
     },
     "execution_count": 612,
     "metadata": {},
     "output_type": "execute_result"
    }
   ],
   "source": [
    "str_col = df.select_dtypes('object').columns\n",
    "str_col"
   ]
  },
  {
   "cell_type": "code",
   "execution_count": 87,
   "metadata": {
    "collapsed": true
   },
   "outputs": [],
   "source": [
    "df['host_is_superhost']=df['host_is_superhost'].astype(bool)\n",
    "df['host_has_profile_pic']=df['host_has_profile_pic'].astype(bool)\n",
    "df['host_identity_verified']=df['host_identity_verified'].astype(bool)\n",
    "df['host_is_superhost']=df['host_is_superhost'].astype(bool)\n"
   ]
  },
  {
   "cell_type": "code",
   "execution_count": 88,
   "metadata": {
    "collapsed": true
   },
   "outputs": [],
   "source": [
    "df['host_since']=pd.to_datetime(df['host_since'],errors='ignore')\n"
   ]
  },
  {
   "cell_type": "code",
   "execution_count": 89,
   "metadata": {
    "collapsed": true
   },
   "outputs": [],
   "source": [
    "df['host_diff'] = df['date'].sub(df['host_since'],fill_value=0).dt.days\n",
    "df['host_diff']\n",
    "df.drop(inplace=True,columns=['date','host_since'])"
   ]
  },
  {
   "cell_type": "markdown",
   "metadata": {},
   "source": [
    "amneties and host verifications are lists and can be converted to int that represent how many elements inside of list."
   ]
  },
  {
   "cell_type": "code",
   "execution_count": 90,
   "metadata": {
    "collapsed": true
   },
   "outputs": [],
   "source": [
    "def count_list(x):\n",
    "    return x.count(',')+1\n",
    "df['amenities'] = df['amenities'].apply(lambda x: count_list(x))\n",
    "df['host_verifications'] = df['host_verifications'].apply(lambda x: count_list(x))\n"
   ]
  },
  {
   "cell_type": "code",
   "execution_count": 91,
   "metadata": {
    "collapsed": true
   },
   "outputs": [],
   "source": [
    "df['calendar_updated']=df['scratch'].astype(int)"
   ]
  },
  {
   "cell_type": "code",
   "execution_count": 618,
   "metadata": {},
   "outputs": [
    {
     "data": {
      "text/plain": [
       "Index(['bathrooms', 'reviews_per_month', 'host_avg_acceptance_rate',\n",
       "       'host_avg_response_rate'],\n",
       "      dtype='object')"
      ]
     },
     "execution_count": 618,
     "metadata": {},
     "output_type": "execute_result"
    }
   ],
   "source": [
    "float_col = df_new.select_dtypes('float').columns\n",
    "float_col"
   ]
  },
  {
   "cell_type": "code",
   "execution_count": 92,
   "metadata": {
    "collapsed": true
   },
   "outputs": [],
   "source": [
    "df['bedrooms']=df['bedrooms'].astype(int)"
   ]
  },
  {
   "cell_type": "code",
   "execution_count": 93,
   "metadata": {
    "collapsed": true
   },
   "outputs": [],
   "source": [
    "df['beds']=df['beds'].astype(int)"
   ]
  },
  {
   "cell_type": "code",
   "execution_count": 94,
   "metadata": {
    "collapsed": true
   },
   "outputs": [],
   "source": [
    "df['host_listings_count']=df['host_listings_count'].astype(int)"
   ]
  },
  {
   "cell_type": "code",
   "execution_count": 95,
   "metadata": {
    "collapsed": true
   },
   "outputs": [],
   "source": [
    "df['host_total_listings_count']=df['host_total_listings_count'].astype(int)"
   ]
  },
  {
   "cell_type": "code",
   "execution_count": 96,
   "metadata": {
    "collapsed": true
   },
   "outputs": [],
   "source": [
    "df['review_scores_accuracy']=df['review_scores_accuracy'].astype(int)"
   ]
  },
  {
   "cell_type": "code",
   "execution_count": 97,
   "metadata": {
    "collapsed": true
   },
   "outputs": [],
   "source": [
    "df['review_scores_checkin']=df['review_scores_checkin'].astype(int)"
   ]
  },
  {
   "cell_type": "code",
   "execution_count": 98,
   "metadata": {
    "collapsed": true
   },
   "outputs": [],
   "source": [
    "df['review_scores_cleanliness']=df['review_scores_cleanliness'].astype(int)"
   ]
  },
  {
   "cell_type": "code",
   "execution_count": 99,
   "metadata": {
    "collapsed": true
   },
   "outputs": [],
   "source": [
    "df['review_scores_communication']=df['review_scores_communication'].astype(int)"
   ]
  },
  {
   "cell_type": "code",
   "execution_count": 100,
   "metadata": {
    "collapsed": true
   },
   "outputs": [],
   "source": [
    "df['review_scores_location']=df['review_scores_location'].astype(int)"
   ]
  },
  {
   "cell_type": "code",
   "execution_count": 101,
   "metadata": {
    "collapsed": true
   },
   "outputs": [],
   "source": [
    "df['review_scores_rating']=df['review_scores_rating'].astype(int)"
   ]
  },
  {
   "cell_type": "code",
   "execution_count": 102,
   "metadata": {
    "collapsed": true
   },
   "outputs": [],
   "source": [
    "df['review_scores_value']=df['review_scores_value'].astype(int)"
   ]
  },
  {
   "cell_type": "code",
   "execution_count": 103,
   "metadata": {
    "collapsed": true
   },
   "outputs": [],
   "source": [
    "df.to_pickle('./clean_data.pkl')"
   ]
  },
  {
   "cell_type": "code",
   "execution_count": 631,
   "metadata": {},
   "outputs": [
    {
     "data": {
      "text/html": [
       "<div>\n",
       "<style scoped>\n",
       "    .dataframe tbody tr th:only-of-type {\n",
       "        vertical-align: middle;\n",
       "    }\n",
       "\n",
       "    .dataframe tbody tr th {\n",
       "        vertical-align: top;\n",
       "    }\n",
       "\n",
       "    .dataframe thead th {\n",
       "        text-align: right;\n",
       "    }\n",
       "</style>\n",
       "<table border=\"1\" class=\"dataframe\">\n",
       "  <thead>\n",
       "    <tr style=\"text-align: right;\">\n",
       "      <th></th>\n",
       "      <th>accommodates</th>\n",
       "      <th>amenities</th>\n",
       "      <th>availability_30</th>\n",
       "      <th>availability_365</th>\n",
       "      <th>availability_60</th>\n",
       "      <th>availability_90</th>\n",
       "      <th>bathrooms</th>\n",
       "      <th>bedrooms</th>\n",
       "      <th>beds</th>\n",
       "      <th>calculated_host_listings_count</th>\n",
       "      <th>...</th>\n",
       "      <th>review_scores_rating</th>\n",
       "      <th>review_scores_value</th>\n",
       "      <th>reviews_per_month</th>\n",
       "      <th>security_deposit</th>\n",
       "      <th>weekly_price</th>\n",
       "      <th>price</th>\n",
       "      <th>host_avg_acceptance_rate</th>\n",
       "      <th>host_avg_response_rate</th>\n",
       "      <th>review_diff</th>\n",
       "      <th>host_diff</th>\n",
       "    </tr>\n",
       "  </thead>\n",
       "  <tbody>\n",
       "    <tr>\n",
       "      <th>count</th>\n",
       "      <td>2.224310e+06</td>\n",
       "      <td>2.224310e+06</td>\n",
       "      <td>2.224310e+06</td>\n",
       "      <td>2.224310e+06</td>\n",
       "      <td>2.224310e+06</td>\n",
       "      <td>2.224310e+06</td>\n",
       "      <td>2.224310e+06</td>\n",
       "      <td>2.224310e+06</td>\n",
       "      <td>2.224310e+06</td>\n",
       "      <td>2.224310e+06</td>\n",
       "      <td>...</td>\n",
       "      <td>2.224310e+06</td>\n",
       "      <td>2.224310e+06</td>\n",
       "      <td>2.224310e+06</td>\n",
       "      <td>2.224310e+06</td>\n",
       "      <td>2.224310e+06</td>\n",
       "      <td>2.224310e+06</td>\n",
       "      <td>2.224310e+06</td>\n",
       "      <td>2.224310e+06</td>\n",
       "      <td>2.224310e+06</td>\n",
       "      <td>2.224310e+06</td>\n",
       "    </tr>\n",
       "    <tr>\n",
       "      <th>mean</th>\n",
       "      <td>3.239252e+00</td>\n",
       "      <td>1.543124e+01</td>\n",
       "      <td>1.357171e+01</td>\n",
       "      <td>2.238261e+02</td>\n",
       "      <td>3.152002e+01</td>\n",
       "      <td>5.209797e+01</td>\n",
       "      <td>1.241959e+00</td>\n",
       "      <td>1.273055e+00</td>\n",
       "      <td>1.689038e+00</td>\n",
       "      <td>8.941910e+00</td>\n",
       "      <td>...</td>\n",
       "      <td>7.949196e+01</td>\n",
       "      <td>7.921070e+00</td>\n",
       "      <td>1.911588e+00</td>\n",
       "      <td>1.337568e+02</td>\n",
       "      <td>3.184411e+02</td>\n",
       "      <td>1.469193e+02</td>\n",
       "      <td>9.203380e-01</td>\n",
       "      <td>9.502084e+01</td>\n",
       "      <td>3.077847e+02</td>\n",
       "      <td>1.066353e+03</td>\n",
       "    </tr>\n",
       "    <tr>\n",
       "      <th>std</th>\n",
       "      <td>1.917445e+00</td>\n",
       "      <td>4.780319e+00</td>\n",
       "      <td>1.169738e+01</td>\n",
       "      <td>1.328286e+02</td>\n",
       "      <td>2.283820e+01</td>\n",
       "      <td>3.300467e+01</td>\n",
       "      <td>5.537979e-01</td>\n",
       "      <td>8.145821e-01</td>\n",
       "      <td>1.102384e+00</td>\n",
       "      <td>2.324086e+01</td>\n",
       "      <td>...</td>\n",
       "      <td>3.398342e+01</td>\n",
       "      <td>3.427554e+00</td>\n",
       "      <td>2.021615e+00</td>\n",
       "      <td>2.403164e+02</td>\n",
       "      <td>5.290522e+02</td>\n",
       "      <td>1.046538e+02</td>\n",
       "      <td>1.705416e-01</td>\n",
       "      <td>1.195530e+01</td>\n",
       "      <td>4.031883e+02</td>\n",
       "      <td>6.067565e+02</td>\n",
       "    </tr>\n",
       "    <tr>\n",
       "      <th>min</th>\n",
       "      <td>1.000000e+00</td>\n",
       "      <td>1.000000e+00</td>\n",
       "      <td>0.000000e+00</td>\n",
       "      <td>0.000000e+00</td>\n",
       "      <td>0.000000e+00</td>\n",
       "      <td>0.000000e+00</td>\n",
       "      <td>0.000000e+00</td>\n",
       "      <td>0.000000e+00</td>\n",
       "      <td>0.000000e+00</td>\n",
       "      <td>1.000000e+00</td>\n",
       "      <td>...</td>\n",
       "      <td>0.000000e+00</td>\n",
       "      <td>0.000000e+00</td>\n",
       "      <td>0.000000e+00</td>\n",
       "      <td>0.000000e+00</td>\n",
       "      <td>0.000000e+00</td>\n",
       "      <td>1.000000e+01</td>\n",
       "      <td>0.000000e+00</td>\n",
       "      <td>0.000000e+00</td>\n",
       "      <td>0.000000e+00</td>\n",
       "      <td>1.200000e+01</td>\n",
       "    </tr>\n",
       "    <tr>\n",
       "      <th>25%</th>\n",
       "      <td>2.000000e+00</td>\n",
       "      <td>1.200000e+01</td>\n",
       "      <td>1.000000e+00</td>\n",
       "      <td>8.900000e+01</td>\n",
       "      <td>6.000000e+00</td>\n",
       "      <td>2.100000e+01</td>\n",
       "      <td>1.000000e+00</td>\n",
       "      <td>1.000000e+00</td>\n",
       "      <td>1.000000e+00</td>\n",
       "      <td>1.000000e+00</td>\n",
       "      <td>...</td>\n",
       "      <td>8.600000e+01</td>\n",
       "      <td>9.000000e+00</td>\n",
       "      <td>3.900000e-01</td>\n",
       "      <td>0.000000e+00</td>\n",
       "      <td>0.000000e+00</td>\n",
       "      <td>7.900000e+01</td>\n",
       "      <td>9.400000e-01</td>\n",
       "      <td>9.700000e+01</td>\n",
       "      <td>1.200000e+01</td>\n",
       "      <td>5.980000e+02</td>\n",
       "    </tr>\n",
       "    <tr>\n",
       "      <th>50%</th>\n",
       "      <td>2.000000e+00</td>\n",
       "      <td>1.500000e+01</td>\n",
       "      <td>1.200000e+01</td>\n",
       "      <td>2.780000e+02</td>\n",
       "      <td>3.400000e+01</td>\n",
       "      <td>6.100000e+01</td>\n",
       "      <td>1.000000e+00</td>\n",
       "      <td>1.000000e+00</td>\n",
       "      <td>1.000000e+00</td>\n",
       "      <td>2.000000e+00</td>\n",
       "      <td>...</td>\n",
       "      <td>9.400000e+01</td>\n",
       "      <td>9.000000e+00</td>\n",
       "      <td>1.250000e+00</td>\n",
       "      <td>0.000000e+00</td>\n",
       "      <td>0.000000e+00</td>\n",
       "      <td>1.190000e+02</td>\n",
       "      <td>1.000000e+00</td>\n",
       "      <td>1.000000e+02</td>\n",
       "      <td>1.400000e+02</td>\n",
       "      <td>9.600000e+02</td>\n",
       "    </tr>\n",
       "    <tr>\n",
       "      <th>75%</th>\n",
       "      <td>4.000000e+00</td>\n",
       "      <td>1.900000e+01</td>\n",
       "      <td>2.600000e+01</td>\n",
       "      <td>3.480000e+02</td>\n",
       "      <td>5.500000e+01</td>\n",
       "      <td>8.400000e+01</td>\n",
       "      <td>1.000000e+00</td>\n",
       "      <td>2.000000e+00</td>\n",
       "      <td>2.000000e+00</td>\n",
       "      <td>4.000000e+00</td>\n",
       "      <td>...</td>\n",
       "      <td>9.800000e+01</td>\n",
       "      <td>1.000000e+01</td>\n",
       "      <td>2.840000e+00</td>\n",
       "      <td>2.000000e+02</td>\n",
       "      <td>5.250000e+02</td>\n",
       "      <td>1.850000e+02</td>\n",
       "      <td>1.000000e+00</td>\n",
       "      <td>1.000000e+02</td>\n",
       "      <td>4.510000e+02</td>\n",
       "      <td>1.434000e+03</td>\n",
       "    </tr>\n",
       "    <tr>\n",
       "      <th>max</th>\n",
       "      <td>1.600000e+01</td>\n",
       "      <td>3.100000e+01</td>\n",
       "      <td>3.000000e+01</td>\n",
       "      <td>3.650000e+02</td>\n",
       "      <td>6.000000e+01</td>\n",
       "      <td>9.000000e+01</td>\n",
       "      <td>8.000000e+00</td>\n",
       "      <td>7.000000e+00</td>\n",
       "      <td>1.600000e+01</td>\n",
       "      <td>1.360000e+02</td>\n",
       "      <td>...</td>\n",
       "      <td>1.000000e+02</td>\n",
       "      <td>1.000000e+01</td>\n",
       "      <td>1.915000e+01</td>\n",
       "      <td>4.500000e+03</td>\n",
       "      <td>6.300000e+03</td>\n",
       "      <td>1.345000e+03</td>\n",
       "      <td>1.000000e+00</td>\n",
       "      <td>1.000000e+02</td>\n",
       "      <td>2.680000e+03</td>\n",
       "      <td>3.220000e+03</td>\n",
       "    </tr>\n",
       "  </tbody>\n",
       "</table>\n",
       "<p>8 rows × 37 columns</p>\n",
       "</div>"
      ],
      "text/plain": [
       "       accommodates     amenities  availability_30  availability_365  \\\n",
       "count  2.224310e+06  2.224310e+06     2.224310e+06      2.224310e+06   \n",
       "mean   3.239252e+00  1.543124e+01     1.357171e+01      2.238261e+02   \n",
       "std    1.917445e+00  4.780319e+00     1.169738e+01      1.328286e+02   \n",
       "min    1.000000e+00  1.000000e+00     0.000000e+00      0.000000e+00   \n",
       "25%    2.000000e+00  1.200000e+01     1.000000e+00      8.900000e+01   \n",
       "50%    2.000000e+00  1.500000e+01     1.200000e+01      2.780000e+02   \n",
       "75%    4.000000e+00  1.900000e+01     2.600000e+01      3.480000e+02   \n",
       "max    1.600000e+01  3.100000e+01     3.000000e+01      3.650000e+02   \n",
       "\n",
       "       availability_60  availability_90     bathrooms      bedrooms  \\\n",
       "count     2.224310e+06     2.224310e+06  2.224310e+06  2.224310e+06   \n",
       "mean      3.152002e+01     5.209797e+01  1.241959e+00  1.273055e+00   \n",
       "std       2.283820e+01     3.300467e+01  5.537979e-01  8.145821e-01   \n",
       "min       0.000000e+00     0.000000e+00  0.000000e+00  0.000000e+00   \n",
       "25%       6.000000e+00     2.100000e+01  1.000000e+00  1.000000e+00   \n",
       "50%       3.400000e+01     6.100000e+01  1.000000e+00  1.000000e+00   \n",
       "75%       5.500000e+01     8.400000e+01  1.000000e+00  2.000000e+00   \n",
       "max       6.000000e+01     9.000000e+01  8.000000e+00  7.000000e+00   \n",
       "\n",
       "               beds  calculated_host_listings_count      ...       \\\n",
       "count  2.224310e+06                    2.224310e+06      ...        \n",
       "mean   1.689038e+00                    8.941910e+00      ...        \n",
       "std    1.102384e+00                    2.324086e+01      ...        \n",
       "min    0.000000e+00                    1.000000e+00      ...        \n",
       "25%    1.000000e+00                    1.000000e+00      ...        \n",
       "50%    1.000000e+00                    2.000000e+00      ...        \n",
       "75%    2.000000e+00                    4.000000e+00      ...        \n",
       "max    1.600000e+01                    1.360000e+02      ...        \n",
       "\n",
       "       review_scores_rating  review_scores_value  reviews_per_month  \\\n",
       "count          2.224310e+06         2.224310e+06       2.224310e+06   \n",
       "mean           7.949196e+01         7.921070e+00       1.911588e+00   \n",
       "std            3.398342e+01         3.427554e+00       2.021615e+00   \n",
       "min            0.000000e+00         0.000000e+00       0.000000e+00   \n",
       "25%            8.600000e+01         9.000000e+00       3.900000e-01   \n",
       "50%            9.400000e+01         9.000000e+00       1.250000e+00   \n",
       "75%            9.800000e+01         1.000000e+01       2.840000e+00   \n",
       "max            1.000000e+02         1.000000e+01       1.915000e+01   \n",
       "\n",
       "       security_deposit  weekly_price         price  host_avg_acceptance_rate  \\\n",
       "count      2.224310e+06  2.224310e+06  2.224310e+06              2.224310e+06   \n",
       "mean       1.337568e+02  3.184411e+02  1.469193e+02              9.203380e-01   \n",
       "std        2.403164e+02  5.290522e+02  1.046538e+02              1.705416e-01   \n",
       "min        0.000000e+00  0.000000e+00  1.000000e+01              0.000000e+00   \n",
       "25%        0.000000e+00  0.000000e+00  7.900000e+01              9.400000e-01   \n",
       "50%        0.000000e+00  0.000000e+00  1.190000e+02              1.000000e+00   \n",
       "75%        2.000000e+02  5.250000e+02  1.850000e+02              1.000000e+00   \n",
       "max        4.500000e+03  6.300000e+03  1.345000e+03              1.000000e+00   \n",
       "\n",
       "       host_avg_response_rate   review_diff     host_diff  \n",
       "count            2.224310e+06  2.224310e+06  2.224310e+06  \n",
       "mean             9.502084e+01  3.077847e+02  1.066353e+03  \n",
       "std              1.195530e+01  4.031883e+02  6.067565e+02  \n",
       "min              0.000000e+00  0.000000e+00  1.200000e+01  \n",
       "25%              9.700000e+01  1.200000e+01  5.980000e+02  \n",
       "50%              1.000000e+02  1.400000e+02  9.600000e+02  \n",
       "75%              1.000000e+02  4.510000e+02  1.434000e+03  \n",
       "max              1.000000e+02  2.680000e+03  3.220000e+03  \n",
       "\n",
       "[8 rows x 37 columns]"
      ]
     },
     "execution_count": 631,
     "metadata": {},
     "output_type": "execute_result"
    }
   ],
   "source": [
    "df.describe()"
   ]
  },
  {
   "cell_type": "markdown",
   "metadata": {},
   "source": [
    "Time to create values out of categorical variables"
   ]
  },
  {
   "cell_type": "code",
   "execution_count": 110,
   "metadata": {},
   "outputs": [
    {
     "data": {
      "text/plain": [
       "Index(['bed_type', 'cancellation_policy', 'city', 'neighbourhood_cleansed',\n",
       "       'property_type', 'room_type'],\n",
       "      dtype='object')"
      ]
     },
     "execution_count": 110,
     "metadata": {},
     "output_type": "execute_result"
    }
   ],
   "source": [
    "df=pd.read_pickle('./clean_data.pkl')\n",
    "df.drop(inplace=True,columns='scratch')\n",
    "df.select_dtypes('object').columns\n"
   ]
  },
  {
   "cell_type": "code",
   "execution_count": 113,
   "metadata": {},
   "outputs": [
    {
     "data": {
      "text/plain": [
       "0          seattle\n",
       "1          seattle\n",
       "2          seattle\n",
       "3          seattle\n",
       "4          seattle\n",
       "5          seattle\n",
       "6          seattle\n",
       "7          seattle\n",
       "8          seattle\n",
       "9          seattle\n",
       "10         seattle\n",
       "11         seattle\n",
       "12         seattle\n",
       "13         seattle\n",
       "14         seattle\n",
       "15         seattle\n",
       "16         seattle\n",
       "17         seattle\n",
       "18         seattle\n",
       "19         seattle\n",
       "20         seattle\n",
       "21         seattle\n",
       "22         seattle\n",
       "23         seattle\n",
       "24         seattle\n",
       "25         seattle\n",
       "26         seattle\n",
       "27         seattle\n",
       "28         seattle\n",
       "29         seattle\n",
       "            ...   \n",
       "2702430     boston\n",
       "2702431     boston\n",
       "2702432     boston\n",
       "2702433     boston\n",
       "2702434     boston\n",
       "2702435     boston\n",
       "2702436     boston\n",
       "2702437     boston\n",
       "2702438     boston\n",
       "2702439     boston\n",
       "2702440     boston\n",
       "2702441     boston\n",
       "2702442     boston\n",
       "2702443     boston\n",
       "2702444     boston\n",
       "2702445     boston\n",
       "2702446     boston\n",
       "2702447     boston\n",
       "2702448     boston\n",
       "2702449     boston\n",
       "2702450     boston\n",
       "2702451     boston\n",
       "2702452     boston\n",
       "2702453     boston\n",
       "2702454     boston\n",
       "2702455     boston\n",
       "2702456     boston\n",
       "2702457     boston\n",
       "2702458     boston\n",
       "2702459     boston\n",
       "Name: city, Length: 2224310, dtype: object"
      ]
     },
     "execution_count": 113,
     "metadata": {},
     "output_type": "execute_result"
    }
   ],
   "source": [
    "df_new =pd.get_dummies(df,columns=['bed_type', 'cancellation_policy', 'neighbourhood_cleansed',\n",
    "       'property_type', 'room_type'],drop_first=True)\n",
    "df_new['city']"
   ]
  },
  {
   "cell_type": "code",
   "execution_count": 109,
   "metadata": {},
   "outputs": [
    {
     "ename": "KeyError",
     "evalue": "'city'",
     "output_type": "error",
     "traceback": [
      "\u001b[0;31m---------------------------------------------------------------------------\u001b[0m",
      "\u001b[0;31mKeyError\u001b[0m                                  Traceback (most recent call last)",
      "\u001b[0;32m~/anaconda3/lib/python3.6/site-packages/pandas/core/indexes/base.py\u001b[0m in \u001b[0;36mget_loc\u001b[0;34m(self, key, method, tolerance)\u001b[0m\n\u001b[1;32m   2521\u001b[0m             \u001b[0;32mtry\u001b[0m\u001b[0;34m:\u001b[0m\u001b[0;34m\u001b[0m\u001b[0m\n\u001b[0;32m-> 2522\u001b[0;31m                 \u001b[0;32mreturn\u001b[0m \u001b[0mself\u001b[0m\u001b[0;34m.\u001b[0m\u001b[0m_engine\u001b[0m\u001b[0;34m.\u001b[0m\u001b[0mget_loc\u001b[0m\u001b[0;34m(\u001b[0m\u001b[0mkey\u001b[0m\u001b[0;34m)\u001b[0m\u001b[0;34m\u001b[0m\u001b[0m\n\u001b[0m\u001b[1;32m   2523\u001b[0m             \u001b[0;32mexcept\u001b[0m \u001b[0mKeyError\u001b[0m\u001b[0;34m:\u001b[0m\u001b[0;34m\u001b[0m\u001b[0m\n",
      "\u001b[0;32mpandas/_libs/index.pyx\u001b[0m in \u001b[0;36mpandas._libs.index.IndexEngine.get_loc\u001b[0;34m()\u001b[0m\n",
      "\u001b[0;32mpandas/_libs/index.pyx\u001b[0m in \u001b[0;36mpandas._libs.index.IndexEngine.get_loc\u001b[0;34m()\u001b[0m\n",
      "\u001b[0;32mpandas/_libs/hashtable_class_helper.pxi\u001b[0m in \u001b[0;36mpandas._libs.hashtable.PyObjectHashTable.get_item\u001b[0;34m()\u001b[0m\n",
      "\u001b[0;32mpandas/_libs/hashtable_class_helper.pxi\u001b[0m in \u001b[0;36mpandas._libs.hashtable.PyObjectHashTable.get_item\u001b[0;34m()\u001b[0m\n",
      "\u001b[0;31mKeyError\u001b[0m: 'city'",
      "\nDuring handling of the above exception, another exception occurred:\n",
      "\u001b[0;31mKeyError\u001b[0m                                  Traceback (most recent call last)",
      "\u001b[0;32m<ipython-input-109-8c56b5424e0c>\u001b[0m in \u001b[0;36m<module>\u001b[0;34m()\u001b[0m\n\u001b[0;32m----> 1\u001b[0;31m \u001b[0mdf_new\u001b[0m\u001b[0;34m[\u001b[0m\u001b[0;34m'city'\u001b[0m\u001b[0;34m]\u001b[0m\u001b[0;34m\u001b[0m\u001b[0m\n\u001b[0m",
      "\u001b[0;32m~/anaconda3/lib/python3.6/site-packages/pandas/core/frame.py\u001b[0m in \u001b[0;36m__getitem__\u001b[0;34m(self, key)\u001b[0m\n\u001b[1;32m   2137\u001b[0m             \u001b[0;32mreturn\u001b[0m \u001b[0mself\u001b[0m\u001b[0;34m.\u001b[0m\u001b[0m_getitem_multilevel\u001b[0m\u001b[0;34m(\u001b[0m\u001b[0mkey\u001b[0m\u001b[0;34m)\u001b[0m\u001b[0;34m\u001b[0m\u001b[0m\n\u001b[1;32m   2138\u001b[0m         \u001b[0;32melse\u001b[0m\u001b[0;34m:\u001b[0m\u001b[0;34m\u001b[0m\u001b[0m\n\u001b[0;32m-> 2139\u001b[0;31m             \u001b[0;32mreturn\u001b[0m \u001b[0mself\u001b[0m\u001b[0;34m.\u001b[0m\u001b[0m_getitem_column\u001b[0m\u001b[0;34m(\u001b[0m\u001b[0mkey\u001b[0m\u001b[0;34m)\u001b[0m\u001b[0;34m\u001b[0m\u001b[0m\n\u001b[0m\u001b[1;32m   2140\u001b[0m \u001b[0;34m\u001b[0m\u001b[0m\n\u001b[1;32m   2141\u001b[0m     \u001b[0;32mdef\u001b[0m \u001b[0m_getitem_column\u001b[0m\u001b[0;34m(\u001b[0m\u001b[0mself\u001b[0m\u001b[0;34m,\u001b[0m \u001b[0mkey\u001b[0m\u001b[0;34m)\u001b[0m\u001b[0;34m:\u001b[0m\u001b[0;34m\u001b[0m\u001b[0m\n",
      "\u001b[0;32m~/anaconda3/lib/python3.6/site-packages/pandas/core/frame.py\u001b[0m in \u001b[0;36m_getitem_column\u001b[0;34m(self, key)\u001b[0m\n\u001b[1;32m   2144\u001b[0m         \u001b[0;31m# get column\u001b[0m\u001b[0;34m\u001b[0m\u001b[0;34m\u001b[0m\u001b[0m\n\u001b[1;32m   2145\u001b[0m         \u001b[0;32mif\u001b[0m \u001b[0mself\u001b[0m\u001b[0;34m.\u001b[0m\u001b[0mcolumns\u001b[0m\u001b[0;34m.\u001b[0m\u001b[0mis_unique\u001b[0m\u001b[0;34m:\u001b[0m\u001b[0;34m\u001b[0m\u001b[0m\n\u001b[0;32m-> 2146\u001b[0;31m             \u001b[0;32mreturn\u001b[0m \u001b[0mself\u001b[0m\u001b[0;34m.\u001b[0m\u001b[0m_get_item_cache\u001b[0m\u001b[0;34m(\u001b[0m\u001b[0mkey\u001b[0m\u001b[0;34m)\u001b[0m\u001b[0;34m\u001b[0m\u001b[0m\n\u001b[0m\u001b[1;32m   2147\u001b[0m \u001b[0;34m\u001b[0m\u001b[0m\n\u001b[1;32m   2148\u001b[0m         \u001b[0;31m# duplicate columns & possible reduce dimensionality\u001b[0m\u001b[0;34m\u001b[0m\u001b[0;34m\u001b[0m\u001b[0m\n",
      "\u001b[0;32m~/anaconda3/lib/python3.6/site-packages/pandas/core/generic.py\u001b[0m in \u001b[0;36m_get_item_cache\u001b[0;34m(self, item)\u001b[0m\n\u001b[1;32m   1840\u001b[0m         \u001b[0mres\u001b[0m \u001b[0;34m=\u001b[0m \u001b[0mcache\u001b[0m\u001b[0;34m.\u001b[0m\u001b[0mget\u001b[0m\u001b[0;34m(\u001b[0m\u001b[0mitem\u001b[0m\u001b[0;34m)\u001b[0m\u001b[0;34m\u001b[0m\u001b[0m\n\u001b[1;32m   1841\u001b[0m         \u001b[0;32mif\u001b[0m \u001b[0mres\u001b[0m \u001b[0;32mis\u001b[0m \u001b[0;32mNone\u001b[0m\u001b[0;34m:\u001b[0m\u001b[0;34m\u001b[0m\u001b[0m\n\u001b[0;32m-> 1842\u001b[0;31m             \u001b[0mvalues\u001b[0m \u001b[0;34m=\u001b[0m \u001b[0mself\u001b[0m\u001b[0;34m.\u001b[0m\u001b[0m_data\u001b[0m\u001b[0;34m.\u001b[0m\u001b[0mget\u001b[0m\u001b[0;34m(\u001b[0m\u001b[0mitem\u001b[0m\u001b[0;34m)\u001b[0m\u001b[0;34m\u001b[0m\u001b[0m\n\u001b[0m\u001b[1;32m   1843\u001b[0m             \u001b[0mres\u001b[0m \u001b[0;34m=\u001b[0m \u001b[0mself\u001b[0m\u001b[0;34m.\u001b[0m\u001b[0m_box_item_values\u001b[0m\u001b[0;34m(\u001b[0m\u001b[0mitem\u001b[0m\u001b[0;34m,\u001b[0m \u001b[0mvalues\u001b[0m\u001b[0;34m)\u001b[0m\u001b[0;34m\u001b[0m\u001b[0m\n\u001b[1;32m   1844\u001b[0m             \u001b[0mcache\u001b[0m\u001b[0;34m[\u001b[0m\u001b[0mitem\u001b[0m\u001b[0;34m]\u001b[0m \u001b[0;34m=\u001b[0m \u001b[0mres\u001b[0m\u001b[0;34m\u001b[0m\u001b[0m\n",
      "\u001b[0;32m~/anaconda3/lib/python3.6/site-packages/pandas/core/internals.py\u001b[0m in \u001b[0;36mget\u001b[0;34m(self, item, fastpath)\u001b[0m\n\u001b[1;32m   3836\u001b[0m \u001b[0;34m\u001b[0m\u001b[0m\n\u001b[1;32m   3837\u001b[0m             \u001b[0;32mif\u001b[0m \u001b[0;32mnot\u001b[0m \u001b[0misna\u001b[0m\u001b[0;34m(\u001b[0m\u001b[0mitem\u001b[0m\u001b[0;34m)\u001b[0m\u001b[0;34m:\u001b[0m\u001b[0;34m\u001b[0m\u001b[0m\n\u001b[0;32m-> 3838\u001b[0;31m                 \u001b[0mloc\u001b[0m \u001b[0;34m=\u001b[0m \u001b[0mself\u001b[0m\u001b[0;34m.\u001b[0m\u001b[0mitems\u001b[0m\u001b[0;34m.\u001b[0m\u001b[0mget_loc\u001b[0m\u001b[0;34m(\u001b[0m\u001b[0mitem\u001b[0m\u001b[0;34m)\u001b[0m\u001b[0;34m\u001b[0m\u001b[0m\n\u001b[0m\u001b[1;32m   3839\u001b[0m             \u001b[0;32melse\u001b[0m\u001b[0;34m:\u001b[0m\u001b[0;34m\u001b[0m\u001b[0m\n\u001b[1;32m   3840\u001b[0m                 \u001b[0mindexer\u001b[0m \u001b[0;34m=\u001b[0m \u001b[0mnp\u001b[0m\u001b[0;34m.\u001b[0m\u001b[0marange\u001b[0m\u001b[0;34m(\u001b[0m\u001b[0mlen\u001b[0m\u001b[0;34m(\u001b[0m\u001b[0mself\u001b[0m\u001b[0;34m.\u001b[0m\u001b[0mitems\u001b[0m\u001b[0;34m)\u001b[0m\u001b[0;34m)\u001b[0m\u001b[0;34m[\u001b[0m\u001b[0misna\u001b[0m\u001b[0;34m(\u001b[0m\u001b[0mself\u001b[0m\u001b[0;34m.\u001b[0m\u001b[0mitems\u001b[0m\u001b[0;34m)\u001b[0m\u001b[0;34m]\u001b[0m\u001b[0;34m\u001b[0m\u001b[0m\n",
      "\u001b[0;32m~/anaconda3/lib/python3.6/site-packages/pandas/core/indexes/base.py\u001b[0m in \u001b[0;36mget_loc\u001b[0;34m(self, key, method, tolerance)\u001b[0m\n\u001b[1;32m   2522\u001b[0m                 \u001b[0;32mreturn\u001b[0m \u001b[0mself\u001b[0m\u001b[0;34m.\u001b[0m\u001b[0m_engine\u001b[0m\u001b[0;34m.\u001b[0m\u001b[0mget_loc\u001b[0m\u001b[0;34m(\u001b[0m\u001b[0mkey\u001b[0m\u001b[0;34m)\u001b[0m\u001b[0;34m\u001b[0m\u001b[0m\n\u001b[1;32m   2523\u001b[0m             \u001b[0;32mexcept\u001b[0m \u001b[0mKeyError\u001b[0m\u001b[0;34m:\u001b[0m\u001b[0;34m\u001b[0m\u001b[0m\n\u001b[0;32m-> 2524\u001b[0;31m                 \u001b[0;32mreturn\u001b[0m \u001b[0mself\u001b[0m\u001b[0;34m.\u001b[0m\u001b[0m_engine\u001b[0m\u001b[0;34m.\u001b[0m\u001b[0mget_loc\u001b[0m\u001b[0;34m(\u001b[0m\u001b[0mself\u001b[0m\u001b[0;34m.\u001b[0m\u001b[0m_maybe_cast_indexer\u001b[0m\u001b[0;34m(\u001b[0m\u001b[0mkey\u001b[0m\u001b[0;34m)\u001b[0m\u001b[0;34m)\u001b[0m\u001b[0;34m\u001b[0m\u001b[0m\n\u001b[0m\u001b[1;32m   2525\u001b[0m \u001b[0;34m\u001b[0m\u001b[0m\n\u001b[1;32m   2526\u001b[0m         \u001b[0mindexer\u001b[0m \u001b[0;34m=\u001b[0m \u001b[0mself\u001b[0m\u001b[0;34m.\u001b[0m\u001b[0mget_indexer\u001b[0m\u001b[0;34m(\u001b[0m\u001b[0;34m[\u001b[0m\u001b[0mkey\u001b[0m\u001b[0;34m]\u001b[0m\u001b[0;34m,\u001b[0m \u001b[0mmethod\u001b[0m\u001b[0;34m=\u001b[0m\u001b[0mmethod\u001b[0m\u001b[0;34m,\u001b[0m \u001b[0mtolerance\u001b[0m\u001b[0;34m=\u001b[0m\u001b[0mtolerance\u001b[0m\u001b[0;34m)\u001b[0m\u001b[0;34m\u001b[0m\u001b[0m\n",
      "\u001b[0;32mpandas/_libs/index.pyx\u001b[0m in \u001b[0;36mpandas._libs.index.IndexEngine.get_loc\u001b[0;34m()\u001b[0m\n",
      "\u001b[0;32mpandas/_libs/index.pyx\u001b[0m in \u001b[0;36mpandas._libs.index.IndexEngine.get_loc\u001b[0;34m()\u001b[0m\n",
      "\u001b[0;32mpandas/_libs/hashtable_class_helper.pxi\u001b[0m in \u001b[0;36mpandas._libs.hashtable.PyObjectHashTable.get_item\u001b[0;34m()\u001b[0m\n",
      "\u001b[0;32mpandas/_libs/hashtable_class_helper.pxi\u001b[0m in \u001b[0;36mpandas._libs.hashtable.PyObjectHashTable.get_item\u001b[0;34m()\u001b[0m\n",
      "\u001b[0;31mKeyError\u001b[0m: 'city'"
     ]
    }
   ],
   "source": [
    "df_new['city']"
   ]
  },
  {
   "cell_type": "markdown",
   "metadata": {},
   "source": [
    "We now have data that is cleaned and not missing values. Now, we should do a correlation analysis and outliers."
   ]
  },
  {
   "cell_type": "markdown",
   "metadata": {},
   "source": [
    "EDA"
   ]
  },
  {
   "cell_type": "code",
   "execution_count": 634,
   "metadata": {},
   "outputs": [
    {
     "data": {
      "image/png": "[encoded data removed]",
      "text/plain": [
       "<matplotlib.figure.Figure at 0x1b495d4dd8>"
      ]
     },
     "metadata": {},
     "output_type": "display_data"
    }
   ],
   "source": [
    "df['accommodates'].hist();"
   ]
  },
  {
   "cell_type": "code",
   "execution_count": 636,
   "metadata": {},
   "outputs": [
    {
     "data": {
      "image/png": "[encoded data removed]",
      "text/plain": [
       "<matplotlib.figure.Figure at 0x1b49640cf8>"
      ]
     },
     "metadata": {},
     "output_type": "display_data"
    }
   ],
   "source": [
    "df['amenities'].hist();"
   ]
  },
  {
   "cell_type": "code",
   "execution_count": 640,
   "metadata": {},
   "outputs": [
    {
     "data": {
      "image/png": "[encoded data removed]",
      "text/plain": [
       "<matplotlib.figure.Figure at 0x1b49754160>"
      ]
     },
     "metadata": {},
     "output_type": "display_data"
    }
   ],
   "source": [
    "df['availability_30'].hist();"
   ]
  },
  {
   "cell_type": "code",
   "execution_count": 641,
   "metadata": {},
   "outputs": [
    {
     "data": {
      "image/png": "[encoded data removed]",
      "text/plain": [
       "<matplotlib.figure.Figure at 0x1b48d5c860>"
      ]
     },
     "metadata": {},
     "output_type": "display_data"
    }
   ],
   "source": [
    "df['availability_60'].hist();"
   ]
  },
  {
   "cell_type": "code",
   "execution_count": 642,
   "metadata": {},
   "outputs": [
    {
     "data": {
      "image/png": "[encoded data removed]",
      "text/plain": [
       "<matplotlib.figure.Figure at 0x1b4994c208>"
      ]
     },
     "metadata": {},
     "output_type": "display_data"
    }
   ],
   "source": [
    "df['availability_90'].hist();"
   ]
  },
  {
   "cell_type": "code",
   "execution_count": 643,
   "metadata": {},
   "outputs": [
    {
     "data": {
      "image/png": "[encoded data removed]",
      "text/plain": [
       "<matplotlib.figure.Figure at 0x1b49a45780>"
      ]
     },
     "metadata": {},
     "output_type": "display_data"
    }
   ],
   "source": [
    "df['bathrooms'].hist();"
   ]
  },
  {
   "cell_type": "markdown",
   "metadata": {},
   "source": [
    "Below code copied from:\n",
    "https://seaborn.pydata.org/examples/many_pairwise_correlations.html"
   ]
  },
  {
   "cell_type": "code",
   "execution_count": 29,
   "metadata": {},
   "outputs": [
    {
     "data": {
      "text/plain": [
       "<matplotlib.axes._subplots.AxesSubplot at 0x1a72d319e8>"
      ]
     },
     "execution_count": 29,
     "metadata": {},
     "output_type": "execute_result"
    },
    {
     "data": {
      "image/png": "[encoded data removed]",
      "text/plain": [
       "<matplotlib.figure.Figure at 0x10ec01898>"
      ]
     },
     "metadata": {},
     "output_type": "display_data"
    }
   ],
   "source": [
    "sns.set(style=\"white\")\n",
    "\n",
    "# Compute the correlation matrix\n",
    "corr = df.corr()\n",
    "\n",
    "# Generate a mask for the upper triangle\n",
    "mask = np.zeros_like(corr, dtype=np.bool)\n",
    "mask[np.triu_indices_from(mask)] = True\n",
    "\n",
    "# Set up the matplotlib figure\n",
    "f, ax = plt.subplots(figsize=(11, 9))\n",
    "\n",
    "# Generate a custom diverging colormap\n",
    "cmap = sns.diverging_palette(220, 10, as_cmap=True)\n",
    "\n",
    "# Draw the heatmap with the mask and correct aspect ratio\n",
    "sns.heatmap(corr, mask=mask, cmap=cmap, vmax=.3, center=0,\n",
    "            square=True, linewidths=.5, cbar_kws={\"shrink\": .5})"
   ]
  },
  {
   "cell_type": "markdown",
   "metadata": {},
   "source": [
    "From above diagram, we see that host_diff and host id is related and I suppose the reason is that host id is assigned by date joined. We can delete id. A lot of columsn are related and there are many of them. For instance, available is strongly correlated with availability_30,60,90, etc. So, let's delete the others and keep only available."
   ]
  },
  {
   "cell_type": "code",
   "execution_count": 114,
   "metadata": {
    "collapsed": true
   },
   "outputs": [],
   "source": [
    "df_new.drop(inplace=True,columns='host_id')"
   ]
  },
  {
   "cell_type": "code",
   "execution_count": 115,
   "metadata": {
    "collapsed": true
   },
   "outputs": [],
   "source": [
    "df_new.drop(inplace=True,columns=['availability_30','availability_90','availability_60','availability_365'])"
   ]
  },
  {
   "cell_type": "markdown",
   "metadata": {},
   "source": [
    "We can see that all values with review score are strongly correlated. Let's keep one and delete the others."
   ]
  },
  {
   "cell_type": "code",
   "execution_count": 116,
   "metadata": {
    "collapsed": true
   },
   "outputs": [],
   "source": [
    "df_new['review']=df_new['review_scores_value']\n",
    "df_new = df_new[df_new.columns.drop(list(df_new.filter(regex='review_scores')))]"
   ]
  },
  {
   "cell_type": "markdown",
   "metadata": {},
   "source": [
    "We can delete host listings count as total take care of it."
   ]
  },
  {
   "cell_type": "code",
   "execution_count": 117,
   "metadata": {
    "collapsed": true
   },
   "outputs": [],
   "source": [
    "df_new.drop(inplace=True,columns='host_listings_count')"
   ]
  },
  {
   "cell_type": "code",
   "execution_count": 5,
   "metadata": {
    "collapsed": true
   },
   "outputs": [],
   "source": [
    "df_new = pd.read_pickle('./complete_data.pkl')"
   ]
  },
  {
   "cell_type": "code",
   "execution_count": 118,
   "metadata": {
    "collapsed": true
   },
   "outputs": [],
   "source": [
    "df_new.drop(inplace=True,columns=['host_total_listings_count'])"
   ]
  },
  {
   "cell_type": "markdown",
   "metadata": {},
   "source": [
    "Time to answer questions:\n",
    "1. Can we come up with a model that can predict good reviews?\n",
    "2. What are the most important 10 features in determining reviews?\n",
    "3. Can we generalize our model to any city or are models specific to cities? That we have to do our analysis to each of Seattle and Boston and compare them with our answers in 1 and 2."
   ]
  },
  {
   "cell_type": "markdown",
   "metadata": {},
   "source": [
    "Base Model: Linear Regression"
   ]
  },
  {
   "cell_type": "code",
   "execution_count": 6,
   "metadata": {
    "collapsed": true
   },
   "outputs": [],
   "source": [
    "X = df_new.drop(columns=['review'])\n",
    "Y = df_new['review']"
   ]
  },
  {
   "cell_type": "code",
   "execution_count": 120,
   "metadata": {
    "collapsed": true
   },
   "outputs": [],
   "source": [
    "\n",
    "X_train, X_test, y_train, y_test = train_test_split(X, Y , test_size=.30, random_state=42)"
   ]
  },
  {
   "cell_type": "code",
   "execution_count": 121,
   "metadata": {},
   "outputs": [
    {
     "name": "stdout",
     "output_type": "stream",
     "text": [
      "0.36100784720873613\n"
     ]
    }
   ],
   "source": [
    "\n",
    "lm_model = LinearRegression(normalize=True)\n",
    "lm_model.fit(X_train, y_train)\n",
    "y_preds = lm_model.predict(X_test)\n",
    "r2_ =  r2_score(y_test,y_preds)\n",
    "print(r2_)"
   ]
  },
  {
   "cell_type": "markdown",
   "metadata": {},
   "source": [
    "So the score of our model is 36% which is horrible. Let's try to find a model that can predict trying my best to get above 50% or beat base model."
   ]
  },
  {
   "cell_type": "markdown",
   "metadata": {},
   "source": [
    "Decission Tree Classifier"
   ]
  },
  {
   "cell_type": "code",
   "execution_count": 4,
   "metadata": {
    "collapsed": true
   },
   "outputs": [],
   "source": [
    "from sklearn.linear_model import LogisticRegression\n",
    "from sklearn.feature_selection import SelectKBest\n",
    "from sklearn.feature_selection import chi2"
   ]
  },
  {
   "cell_type": "code",
   "execution_count": 7,
   "metadata": {},
   "outputs": [
    {
     "name": "stdout",
     "output_type": "stream",
     "text": [
      "(2224310, 10)\n",
      "['calculated_host_listings_count', 'host_total_listings_count', 'maximum_nights', 'monthly_price', 'number_of_reviews', 'security_deposit', 'weekly_price', 'price', 'review_diff', 'host_diff']\n"
     ]
    }
   ],
   "source": [
    "selector = SelectKBest(chi2, k=10)\n",
    "selector.fit(X,Y)\n",
    "X_new = selector.transform(X)\n",
    "print(X_new.shape)\n",
    "\n",
    "X.columns[selector.get_support(indices=True)]\n",
    "\n",
    "vector_names = list(X.columns[selector.get_support(indices=True)])\n",
    "print(vector_names)\n"
   ]
  },
  {
   "cell_type": "code",
   "execution_count": 8,
   "metadata": {
    "collapsed": true
   },
   "outputs": [],
   "source": [
    "X=df_new[vector_names]"
   ]
  },
  {
   "cell_type": "code",
   "execution_count": 23,
   "metadata": {
    "collapsed": true
   },
   "outputs": [],
   "source": [
    "X_train, X_test, y_train, y_test = train_test_split(X, Y , test_size=.30, random_state=42)"
   ]
  },
  {
   "cell_type": "code",
   "execution_count": 3,
   "metadata": {
    "collapsed": true
   },
   "outputs": [],
   "source": [
    "from sklearn import tree\n",
    "from sklearn.metrics import accuracy_score"
   ]
  },
  {
   "cell_type": "code",
   "execution_count": 24,
   "metadata": {},
   "outputs": [
    {
     "name": "stdout",
     "output_type": "stream",
     "text": [
      "0.9944507135546155\n"
     ]
    }
   ],
   "source": [
    "clf = tree.DecisionTreeClassifier()\n",
    "clf = clf.fit(X_train, y_train)\n",
    "y_preds=clf.predict(X_test)\n",
    "score_=accuracy_score(y_test, y_preds)\n",
    "print(score_)"
   ]
  },
  {
   "cell_type": "markdown",
   "metadata": {},
   "source": [
    "Great result using Decission tree classifier!!! This answers first and second question."
   ]
  },
  {
   "cell_type": "code",
   "execution_count": 27,
   "metadata": {},
   "outputs": [
    {
     "data": {
      "text/plain": [
       "Index(['accommodates', 'amenities', 'available', 'bathrooms', 'bedrooms',\n",
       "       'beds', 'calculated_host_listings_count', 'calendar_updated',\n",
       "       'cleaning_fee', 'extra_people',\n",
       "       ...\n",
       "       'property_type_Loft', 'property_type_Other', 'property_type_Tent',\n",
       "       'property_type_Townhouse', 'property_type_Treehouse',\n",
       "       'property_type_Villa', 'property_type_Yurt', 'room_type_Private room',\n",
       "       'room_type_Shared room', 'review'],\n",
       "      dtype='object', length=172)"
      ]
     },
     "execution_count": 27,
     "metadata": {},
     "output_type": "execute_result"
    }
   ],
   "source": []
  },
  {
   "cell_type": "code",
   "execution_count": 141,
   "metadata": {
    "collapsed": true
   },
   "outputs": [],
   "source": [
    "Boston = df_new[df_new['city']=='boston']\n",
    "Seattle = df_new[df_new['city']=='seattle']\n"
   ]
  },
  {
   "cell_type": "code",
   "execution_count": 142,
   "metadata": {
    "collapsed": true
   },
   "outputs": [],
   "source": [
    "X_b = Boston.drop(columns=['review','city'])\n",
    "Y_b = Boston['review']\n",
    "X_s = Seattle.drop(columns=['review','city'])\n",
    "Y_s = Seattle['review']"
   ]
  },
  {
   "cell_type": "code",
   "execution_count": 136,
   "metadata": {
    "collapsed": true
   },
   "outputs": [],
   "source": [
    "selector = SelectKBest(chi2, k=10)\n",
    "selector.fit(X_b,Y_b)\n",
    "X_b_new = selector.transform(X_b)\n",
    "\n",
    "X_b.columns[selector.get_support(indices=True)]\n",
    "\n",
    "vector_names = list(X_b.columns[selector.get_support(indices=True)])\n"
   ]
  },
  {
   "cell_type": "code",
   "execution_count": 143,
   "metadata": {
    "collapsed": true
   },
   "outputs": [],
   "source": [
    "X_b=X_b[vector_names]"
   ]
  },
  {
   "cell_type": "code",
   "execution_count": 135,
   "metadata": {
    "collapsed": true
   },
   "outputs": [],
   "source": [
    "selector = SelectKBest(chi2, k=10)\n",
    "selector.fit(X_s,Y_s)\n",
    "X_s_new = selector.transform(X_s)\n",
    "\n",
    "X_s.columns[selector.get_support(indices=True)]\n",
    "\n",
    "vector_names = list(X_s.columns[selector.get_support(indices=True)])\n"
   ]
  },
  {
   "cell_type": "code",
   "execution_count": 144,
   "metadata": {
    "collapsed": true
   },
   "outputs": [],
   "source": [
    "X_s=X_s[vector_names]"
   ]
  },
  {
   "cell_type": "markdown",
   "metadata": {},
   "source": [
    "Our original model had these variables:\n",
    "['calculated_host_listings_count', 'cleaning_fee', 'maximum_nights', 'monthly_price', 'number_of_reviews', 'security_deposit', 'weekly_price', 'price', 'review_diff', 'host_diff']\n",
    "Which is the same in case of Boston but Seattle has reviews per month rather than number of reviews. Let's use our model on Seattle and Boston each."
   ]
  },
  {
   "cell_type": "code",
   "execution_count": 145,
   "metadata": {
    "collapsed": true
   },
   "outputs": [],
   "source": [
    "X_b_train, X_b_test, y_b_train, y_b_test = train_test_split(X_b, Y_b , test_size=.30, random_state=42)\n",
    "X_s_train, X_s_test, y_s_train, y_s_test = train_test_split(X_s, Y_s , test_size=.30, random_state=42)"
   ]
  },
  {
   "cell_type": "markdown",
   "metadata": {},
   "source": [
    "I will not retrain model. Instead, I will use it on test data directly."
   ]
  },
  {
   "cell_type": "code",
   "execution_count": 146,
   "metadata": {},
   "outputs": [
    {
     "name": "stdout",
     "output_type": "stream",
     "text": [
      "0.994562564528869\n"
     ]
    }
   ],
   "source": [
    "y_b_preds=clf.predict(X_b_test)\n",
    "score_1=accuracy_score(y_b_test, y_b_preds)\n",
    "print(score_1)"
   ]
  },
  {
   "cell_type": "code",
   "execution_count": 147,
   "metadata": {},
   "outputs": [
    {
     "name": "stdout",
     "output_type": "stream",
     "text": [
      "0.9994533311871521\n"
     ]
    }
   ],
   "source": [
    "y_s_preds=clf.predict(X_s_test)\n",
    "score_2=accuracy_score(y_s_test, y_s_preds)\n",
    "print(score_2)"
   ]
  },
  {
   "cell_type": "markdown",
   "metadata": {},
   "source": [
    "This is good result and shows that our model can be extended to new cities."
   ]
  },
  {
   "cell_type": "code",
   "execution_count": 149,
   "metadata": {
    "collapsed": true
   },
   "outputs": [],
   "source": [
    "import pickle\n",
    "filename = './finalized_model.sav'\n",
    "pickle.dump(clf, open(filename, 'wb'))"
   ]
  },
  {
   "cell_type": "code",
   "execution_count": 18,
   "metadata": {
    "collapsed": true
   },
   "outputs": [],
   "source": [
    "import pickle\n",
    "filename = './finalized_model.sav'\n",
    "dtree = pickle.load(open(filename, 'rb'))"
   ]
  },
  {
   "cell_type": "code",
   "execution_count": 14,
   "metadata": {},
   "outputs": [],
   "source": [
    "with open(\"./airbnb_classifier.dot\", \"w\") as f:\n",
    "    f = tree.export_graphviz(dtree, out_file=f,max_depth=5,feature_names=vector_names)"
   ]
  },
  {
   "cell_type": "markdown",
   "metadata": {},
   "source": [
    "The above code shows decission tree structure. Below code was borrowed from:\n",
    "https://jakevdp.github.io/PythonDataScienceHandbook/05.08-random-forests.html\n",
    "It shows decission tree classifier on data."
   ]
  },
  {
   "cell_type": "code",
   "execution_count": 19,
   "metadata": {
    "collapsed": true
   },
   "outputs": [],
   "source": [
    "def visualize_classifier(model, X, y, ax=None, cmap='rainbow'):\n",
    "    ax = ax or plt.gca()\n",
    "    \n",
    "    # Plot the training points\n",
    "    ax.scatter(X[:, 0], X[:, 1], c=y, s=30, cmap=cmap,\n",
    "               clim=(y.min(), y.max()), zorder=3)\n",
    "    ax.axis('tight')\n",
    "    ax.axis('off')\n",
    "    xlim = ax.get_xlim()\n",
    "    ylim = ax.get_ylim()\n",
    "    \n",
    "    # fit the estimator\n",
    "    model.fit(X, y)\n",
    "    xx, yy = np.meshgrid(np.linspace(*xlim, num=200),\n",
    "                         np.linspace(*ylim, num=200))\n",
    "    Z = model.predict(np.c_[xx.ravel(), yy.ravel()]).reshape(xx.shape)\n",
    "\n",
    "    # Create a color plot with the results\n",
    "    n_classes = len(np.unique(y))\n",
    "    contours = ax.contourf(xx, yy, Z, alpha=0.3,\n",
    "                           levels=np.arange(n_classes + 1) - 0.5,\n",
    "                           cmap=cmap, clim=(y.min(), y.max()),\n",
    "                           zorder=1)\n",
    "\n",
    "    ax.set(xlim=xlim, ylim=ylim)"
   ]
  },
  {
   "cell_type": "code",
   "execution_count": 25,
   "metadata": {},
   "outputs": [
    {
     "data": {
      "image/png": "[encoded data removed]",
      "text/plain": [
       "<matplotlib.figure.Figure at 0x1b350aada0>"
      ]
     },
     "metadata": {},
     "output_type": "display_data"
    }
   ],
   "source": [
    "from sklearn.metrics import confusion_matrix\n",
    "mat = confusion_matrix(y_test, y_preds)\n",
    "sns.heatmap(mat.T, square=True, annot=True, fmt='d', cbar=False)\n",
    "plt.xlabel('true label')\n",
    "plt.ylabel('predicted label');"
   ]
  },
  {
   "cell_type": "markdown",
   "metadata": {},
   "source": [
    "The above shows confusion matrix. We see that labels 8-10 have some issues to them in addition to 1."
   ]
  }
 ],
 "metadata": {
  "kernelspec": {
   "display_name": "Python 3",
   "language": "python",
   "name": "python3"
  },
  "language_info": {
   "codemirror_mode": {
    "name": "ipython",
    "version": 3
   },
   "file_extension": ".py",
   "mimetype": "text/x-python",
   "name": "python",
   "nbconvert_exporter": "python",
   "pygments_lexer": "ipython3",
   "version": "3.6.3"
  }
 },
 "nbformat": 4,
 "nbformat_minor": 2
}
